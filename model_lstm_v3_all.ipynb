{
 "cells": [
  {
   "cell_type": "markdown",
   "metadata": {
    "id": "2VVolPxR_X_Z"
   },
   "source": [
    "## Time series data \n",
    "\n",
    "\n",
    "> Time series data được hiểu một cách đơn giản là một tập dữ liệu được lấy theo chu kì thời gian nhất định.Ví dụ lấy theo phút, giờ , ngày hay tháng năm .\n",
    "\n",
    "\n",
    "![time.png](data:image/png;base64,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)"
   ]
  },
  {
   "cell_type": "markdown",
   "metadata": {
    "id": "1wUXVVuH_Vxi"
   },
   "source": [
    "# Dự báo bán hàng\n",
    "\n",
    "> Dự báo bán hàng là sự ước đoán về lượng bán của doanh nghiệp, (tính bằng tiền hoặc theo đơn vị sản phẩm) có thể bán được trong một thời kì nhất định dưới một kế hoạch marketing đã được thông qua và dưới một tổ hợp các điều kiện kinh tế được giả định\n",
    "\n",
    "\n",
    "![sale.png](data:image/png;base64,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)\n"
   ]
  },
  {
   "cell_type": "markdown",
   "metadata": {
    "id": "5vsnr3ntPeoE"
   },
   "source": [
    "## mục tiêu\n",
    "1. Phân tích dữ liệu chuỗi thời gian\n",
    "2. Tìm ra ẩn thông tin từ data bằng cách sử dụng biểu đồ  \n",
    "3. xây dụng mạng nơ-ron dự báo bán hàng\n"
   ]
  },
  {
   "cell_type": "markdown",
   "metadata": {
    "id": "YT7LUHsMx9hm"
   },
   "source": [
    "# Import thư viên "
   ]
  },
  {
   "cell_type": "code",
   "execution_count": 1,
   "metadata": {
    "executionInfo": {
     "elapsed": 1108,
     "status": "ok",
     "timestamp": 1662471899605,
     "user": {
      "displayName": "Hùng Vũ",
      "userId": "15544968674983004342"
     },
     "user_tz": -420
    },
    "id": "YUbP1mvCypBv"
   },
   "outputs": [],
   "source": [
    "import pandas as pd\n",
    "import numpy as np\n",
    "import matplotlib.pyplot as plt\n",
    "import seaborn as sns\n",
    "from datetime import datetime\n",
    "from collections import Counter"
   ]
  },
  {
   "cell_type": "markdown",
   "metadata": {
    "id": "HC2YopSEyogV"
   },
   "source": [
    "# Mô tả tập dữ liệu "
   ]
  },
  {
   "cell_type": "markdown",
   "metadata": {
    "id": "EVi9OEo5KBeN"
   },
   "source": [
    "<h2>Mô tả tệp</h2>\n",
    "</p> --  sales_train.csv - bộ đào tạo. Dữ liệu lịch sử hàng ngày từ tháng 1 năm 2013 đến tháng 10 năm 2015.\n",
    "</p> --  test.csv - bộ thử nghiệm. Bạn cần dự báo doanh thu cho các cửa hàng và sản phẩm này trong tháng 11 năm 2015.\n",
    "</p> --  sample_submission.csv - tệp gửi mẫu ở định dạng chính xác.\n",
    "</p> --  items.csv - thông tin bổ sung về các mặt hàng / sản phẩm.\n",
    "</p> --item_categories.csv   - thông tin bổ sung về các danh mục mặt hàng.\n",
    "</p> --Shop.csv - thông tin bổ sung về các cửa hàng.\n",
    "<h2>Các trường dữ liệu</h2>\n",
    "</p> *  ID  - một Id đại diện cho một bộ (Cửa hàng, Mặt hàng) trong bộ thử nghiệm\n",
    "</p> *  shop_id - mã định danh duy nhất của một cửa hàng\n",
    "</p> *  item_id - mã định danh duy nhất của một sản phẩm\n",
    "</p> *  item_category_id - mã định danh duy nhất của danh mục mặt hàng\n",
    "</p> *  item_cnt_day - số lượng sản phẩm đã bán. Bạn đang dự đoán số tiền hàng tháng của biện pháp này\n",
    "</p> *  item_price - giá hiện tại của một mặt hàng\n",
    "</p> *  date  - ngày ở định dạng dd / mm / yyyy\n",
    "</p> *  date_block_num - một số tháng liên tiếp, được sử dụng để thuận tiện. Tháng 1 năm 2013 là 0, tháng 2 năm 2013 là 1, ..., tháng 10 năm 2015 là 33\n",
    "</p> *  item_name  - tên của item\n",
    "</p> *  shop_name - tên cửa hàng\n",
    "</p> *  item_category_name - tên của danh mục mặt hàng"
   ]
  },
  {
   "cell_type": "code",
   "execution_count": null,
   "metadata": {
    "executionInfo": {
     "elapsed": 15,
     "status": "ok",
     "timestamp": 1662471899607,
     "user": {
      "displayName": "Hùng Vũ",
      "userId": "15544968674983004342"
     },
     "user_tz": -420
    },
    "id": "0hwhMk18mrjV"
   },
   "outputs": [],
   "source": []
  },
  {
   "cell_type": "markdown",
   "metadata": {
    "id": "ou-6q_3Ly1H6"
   },
   "source": [
    "<h2> load data từ google drive</h2>"
   ]
  },
  {
   "cell_type": "code",
   "execution_count": 2,
   "metadata": {
    "colab": {
     "base_uri": "https://localhost:8080/"
    },
    "executionInfo": {
     "elapsed": 24660,
     "status": "ok",
     "timestamp": 1662471924255,
     "user": {
      "displayName": "Hùng Vũ",
      "userId": "15544968674983004342"
     },
     "user_tz": -420
    },
    "id": "H45fGeDoJxRF",
    "outputId": "7a2b141f-c324-4864-b8a4-ce99513a2e2a"
   },
   "outputs": [],
   "source": [
    "# !ls /content/drive/MyDrive/colab\n",
    "#load data từ google drive\n",
    "#from google.colab import drive\n",
    "#drive.mount('/content/drive',force_remount=True)\n",
    "path = \"data\"\n",
    "item_categories = pd.read_csv(path+'/item_categories.csv')\n",
    "items = pd.read_csv(path+'/items.csv')\n",
    "sample_submission = pd.read_csv(path+'/sample_submission.csv')\n",
    "sample_submission1 = pd.read_csv(path+'/sample_submission1.csv')\n",
    "shops = pd.read_csv(path+'/shops.csv')\n",
    "test = pd.read_csv(path+'/test.csv')\n",
    "test1 = pd.read_csv(path+'/test1.csv')\n",
    "train = pd.read_csv(path+'/train.csv')\n",
    "sales_train = pd.read_csv(path+'/sales_train.csv')"
   ]
  },
  {
   "cell_type": "code",
   "execution_count": 3,
   "metadata": {
    "colab": {
     "base_uri": "https://localhost:8080/"
    },
    "executionInfo": {
     "elapsed": 2758,
     "status": "ok",
     "timestamp": 1662471946462,
     "user": {
      "displayName": "Hùng Vũ",
      "userId": "15544968674983004342"
     },
     "user_tz": -420
    },
    "id": "h6l31JGw_3lD",
    "outputId": "16efefbe-6693-4fa7-993a-8d133965e1fc"
   },
   "outputs": [
    {
     "name": "stdout",
     "output_type": "stream",
     "text": [
      "item_categories\n",
      "        item_category_name  item_category_id\n",
      "0  PC - Гарнитуры/Наушники                 0\n",
      "1         Аксессуары - PS2                 1\n",
      "2         Аксессуары - PS3                 2\n",
      "3         Аксессуары - PS4                 3\n",
      "4         Аксессуары - PSP                 4\n",
      "items\n",
      "                                           item_name  item_id  \\\n",
      "0          ! ВО ВЛАСТИ НАВАЖДЕНИЯ (ПЛАСТ.)         D        0   \n",
      "1  !ABBYY FineReader 12 Professional Edition Full...        1   \n",
      "2      ***В ЛУЧАХ СЛАВЫ   (UNV)                    D        2   \n",
      "3    ***ГОЛУБАЯ ВОЛНА  (Univ)                      D        3   \n",
      "4        ***КОРОБКА (СТЕКЛО)                       D        4   \n",
      "\n",
      "   item_category_id  \n",
      "0                40  \n",
      "1                76  \n",
      "2                40  \n",
      "3                40  \n",
      "4                40  \n",
      "sample_submission\n",
      "   ID  item_cnt_month\n",
      "0   0             0.5\n",
      "1   1             0.5\n",
      "2   2             0.5\n",
      "3   3             0.5\n",
      "4   4             0.5\n",
      "sample_submission1\n",
      "   id  sales\n",
      "0   0     52\n",
      "1   1     52\n",
      "2   2     52\n",
      "3   3     52\n",
      "4   4     52\n",
      "shops\n",
      "                        shop_name  shop_id\n",
      "0   !Якутск Орджоникидзе, 56 фран        0\n",
      "1   !Якутск ТЦ \"Центральный\" фран        1\n",
      "2                Адыгея ТЦ \"Мега\"        2\n",
      "3  Балашиха ТРК \"Октябрь-Киномир\"        3\n",
      "4        Волжский ТЦ \"Волга Молл\"        4\n",
      "test\n",
      "   ID  shop_id  item_id\n",
      "0   0        5     5037\n",
      "1   1        5     5320\n",
      "2   2        5     5233\n",
      "3   3        5     5232\n",
      "4   4        5     5268\n",
      "test1\n",
      "   id        date  store  item\n",
      "0   0  2018-01-01      1     1\n",
      "1   1  2018-01-02      1     1\n",
      "2   2  2018-01-03      1     1\n",
      "3   3  2018-01-04      1     1\n",
      "4   4  2018-01-05      1     1\n",
      "train\n",
      "         date  store  item  sales\n",
      "0  2013-01-01      1     1     13\n",
      "1  2013-01-02      1     1     11\n",
      "2  2013-01-03      1     1     14\n",
      "3  2013-01-04      1     1     13\n",
      "4  2013-01-05      1     1     10\n",
      "sales_train\n",
      "         date  date_block_num  shop_id  item_id  item_price  item_cnt_day\n",
      "0  02.01.2013               0       59    22154      999.00           1.0\n",
      "1  03.01.2013               0       25     2552      899.00           1.0\n",
      "2  05.01.2013               0       25     2552      899.00          -1.0\n",
      "3  06.01.2013               0       25     2554     1709.05           1.0\n",
      "4  15.01.2013               0       25     2555     1099.00           1.0\n"
     ]
    }
   ],
   "source": [
    "print('item_categories')\n",
    "print(item_categories.head())\n",
    "\n",
    "print('items')\n",
    "print(items.head())\n",
    "\n",
    "print('sample_submission')\n",
    "print(sample_submission.head())\n",
    "\n",
    "print('sample_submission1')\n",
    "print(sample_submission1.head())\n",
    "\n",
    "print('shops')\n",
    "print(shops.head())\n",
    "\n",
    "print('test')\n",
    "print(test.head())\n",
    "\n",
    "print('test1')\n",
    "print(test1.head())\n",
    "\n",
    "print('train')\n",
    "print(train.head())\n",
    "\n",
    "print('sales_train')\n",
    "print(sales_train.head())"
   ]
  },
  {
   "cell_type": "markdown",
   "metadata": {
    "id": "iWXhB642XEco"
   },
   "source": [
    "<h3> Kết luận </h3>\n",
    "<p> tất cả dữ liệu của hàng đều không có giá trị null</p>\n",
    "<p> có của 60 hàng </p>\n",
    "<p> có 22170 mặt hàng </p>\n",
    "<p> Mỗi mặt hàng thuộc một trong 84 loại. </p>"
   ]
  },
  {
   "cell_type": "markdown",
   "metadata": {
    "id": "uGC2YPUc2Ewe"
   },
   "source": [
    "## Phân tích data\n"
   ]
  },
  {
   "cell_type": "markdown",
   "metadata": {
    "id": "jLmNrJKrXsGz"
   },
   "source": [
    "##<h3> Gộp tập dữ liệu </h3>"
   ]
  },
  {
   "cell_type": "code",
   "execution_count": 4,
   "metadata": {
    "executionInfo": {
     "elapsed": 870,
     "status": "ok",
     "timestamp": 1662471947329,
     "user": {
      "displayName": "Hùng Vũ",
      "userId": "15544968674983004342"
     },
     "user_tz": -420
    },
    "id": "IkwGLb7ZXxqz"
   },
   "outputs": [],
   "source": [
    "# gộp tập item_categories và item \n",
    "item=pd.merge(item_categories,items, how='inner')\n",
    "# gộp tập sales_train và shop\n",
    "sales_train_shop=pd.merge(sales_train,shops,on='shop_id')"
   ]
  },
  {
   "cell_type": "code",
   "execution_count": 5,
   "metadata": {
    "colab": {
     "base_uri": "https://localhost:8080/",
     "height": 206
    },
    "executionInfo": {
     "elapsed": 498,
     "status": "ok",
     "timestamp": 1662471947825,
     "user": {
      "displayName": "Hùng Vũ",
      "userId": "15544968674983004342"
     },
     "user_tz": -420
    },
    "id": "dczgyNhIXw5d",
    "outputId": "ae041504-33a3-493d-9302-81ea8f3dd93f"
   },
   "outputs": [
    {
     "data": {
      "text/html": [
       "<style type=\"text/css\">\n",
       "#T_d4a35_row0_col0, #T_d4a35_row0_col6, #T_d4a35_row0_col7, #T_d4a35_row0_col9, #T_d4a35_row1_col0, #T_d4a35_row1_col6, #T_d4a35_row1_col7, #T_d4a35_row1_col9, #T_d4a35_row2_col0, #T_d4a35_row2_col6, #T_d4a35_row2_col7, #T_d4a35_row2_col9, #T_d4a35_row3_col0, #T_d4a35_row3_col6, #T_d4a35_row3_col7, #T_d4a35_row3_col9, #T_d4a35_row4_col0, #T_d4a35_row4_col6, #T_d4a35_row4_col7, #T_d4a35_row4_col9 {\n",
       "  font-family: Segoe UI;\n",
       "}\n",
       "#T_d4a35_row0_col1, #T_d4a35_row0_col3, #T_d4a35_row0_col4, #T_d4a35_row0_col5, #T_d4a35_row0_col8, #T_d4a35_row1_col1, #T_d4a35_row1_col2, #T_d4a35_row1_col3, #T_d4a35_row1_col4, #T_d4a35_row1_col5, #T_d4a35_row1_col8, #T_d4a35_row2_col1, #T_d4a35_row2_col2, #T_d4a35_row2_col3, #T_d4a35_row2_col4, #T_d4a35_row2_col5, #T_d4a35_row2_col8, #T_d4a35_row3_col1, #T_d4a35_row3_col2, #T_d4a35_row3_col3, #T_d4a35_row3_col4, #T_d4a35_row3_col5, #T_d4a35_row3_col8, #T_d4a35_row4_col1, #T_d4a35_row4_col2, #T_d4a35_row4_col3, #T_d4a35_row4_col4, #T_d4a35_row4_col5, #T_d4a35_row4_col8 {\n",
       "  background-color: #f7fbff;\n",
       "  color: #000000;\n",
       "  font-family: Segoe UI;\n",
       "}\n",
       "#T_d4a35_row0_col2 {\n",
       "  background-color: #08306b;\n",
       "  color: #f1f1f1;\n",
       "  font-family: Segoe UI;\n",
       "}\n",
       "</style>\n",
       "<table id=\"T_d4a35\">\n",
       "  <thead>\n",
       "    <tr>\n",
       "      <th class=\"blank level0\" >&nbsp;</th>\n",
       "      <th id=\"T_d4a35_level0_col0\" class=\"col_heading level0 col0\" >date</th>\n",
       "      <th id=\"T_d4a35_level0_col1\" class=\"col_heading level0 col1\" >date_block_num</th>\n",
       "      <th id=\"T_d4a35_level0_col2\" class=\"col_heading level0 col2\" >shop_id</th>\n",
       "      <th id=\"T_d4a35_level0_col3\" class=\"col_heading level0 col3\" >item_id</th>\n",
       "      <th id=\"T_d4a35_level0_col4\" class=\"col_heading level0 col4\" >item_price</th>\n",
       "      <th id=\"T_d4a35_level0_col5\" class=\"col_heading level0 col5\" >item_cnt_day</th>\n",
       "      <th id=\"T_d4a35_level0_col6\" class=\"col_heading level0 col6\" >shop_name</th>\n",
       "      <th id=\"T_d4a35_level0_col7\" class=\"col_heading level0 col7\" >item_category_name</th>\n",
       "      <th id=\"T_d4a35_level0_col8\" class=\"col_heading level0 col8\" >item_category_id</th>\n",
       "      <th id=\"T_d4a35_level0_col9\" class=\"col_heading level0 col9\" >item_name</th>\n",
       "    </tr>\n",
       "  </thead>\n",
       "  <tbody>\n",
       "    <tr>\n",
       "      <th id=\"T_d4a35_level0_row0\" class=\"row_heading level0 row0\" >0</th>\n",
       "      <td id=\"T_d4a35_row0_col0\" class=\"data row0 col0\" >02.01.2013</td>\n",
       "      <td id=\"T_d4a35_row0_col1\" class=\"data row0 col1\" >0</td>\n",
       "      <td id=\"T_d4a35_row0_col2\" class=\"data row0 col2\" >59</td>\n",
       "      <td id=\"T_d4a35_row0_col3\" class=\"data row0 col3\" >22154</td>\n",
       "      <td id=\"T_d4a35_row0_col4\" class=\"data row0 col4\" >999.000000</td>\n",
       "      <td id=\"T_d4a35_row0_col5\" class=\"data row0 col5\" >1.000000</td>\n",
       "      <td id=\"T_d4a35_row0_col6\" class=\"data row0 col6\" >Ярославль ТЦ \"Альтаир\"</td>\n",
       "      <td id=\"T_d4a35_row0_col7\" class=\"data row0 col7\" >Кино - Blu-Ray</td>\n",
       "      <td id=\"T_d4a35_row0_col8\" class=\"data row0 col8\" >37</td>\n",
       "      <td id=\"T_d4a35_row0_col9\" class=\"data row0 col9\" >ЯВЛЕНИЕ 2012 (BD)</td>\n",
       "    </tr>\n",
       "    <tr>\n",
       "      <th id=\"T_d4a35_level0_row1\" class=\"row_heading level0 row1\" >1</th>\n",
       "      <td id=\"T_d4a35_row1_col0\" class=\"data row1 col0\" >02.01.2013</td>\n",
       "      <td id=\"T_d4a35_row1_col1\" class=\"data row1 col1\" >0</td>\n",
       "      <td id=\"T_d4a35_row1_col2\" class=\"data row1 col2\" >25</td>\n",
       "      <td id=\"T_d4a35_row1_col3\" class=\"data row1 col3\" >22154</td>\n",
       "      <td id=\"T_d4a35_row1_col4\" class=\"data row1 col4\" >999.000000</td>\n",
       "      <td id=\"T_d4a35_row1_col5\" class=\"data row1 col5\" >1.000000</td>\n",
       "      <td id=\"T_d4a35_row1_col6\" class=\"data row1 col6\" >Москва ТРК \"Атриум\"</td>\n",
       "      <td id=\"T_d4a35_row1_col7\" class=\"data row1 col7\" >Кино - Blu-Ray</td>\n",
       "      <td id=\"T_d4a35_row1_col8\" class=\"data row1 col8\" >37</td>\n",
       "      <td id=\"T_d4a35_row1_col9\" class=\"data row1 col9\" >ЯВЛЕНИЕ 2012 (BD)</td>\n",
       "    </tr>\n",
       "    <tr>\n",
       "      <th id=\"T_d4a35_level0_row2\" class=\"row_heading level0 row2\" >2</th>\n",
       "      <td id=\"T_d4a35_row2_col0\" class=\"data row2 col0\" >03.01.2013</td>\n",
       "      <td id=\"T_d4a35_row2_col1\" class=\"data row2 col1\" >0</td>\n",
       "      <td id=\"T_d4a35_row2_col2\" class=\"data row2 col2\" >25</td>\n",
       "      <td id=\"T_d4a35_row2_col3\" class=\"data row2 col3\" >22154</td>\n",
       "      <td id=\"T_d4a35_row2_col4\" class=\"data row2 col4\" >999.000000</td>\n",
       "      <td id=\"T_d4a35_row2_col5\" class=\"data row2 col5\" >1.000000</td>\n",
       "      <td id=\"T_d4a35_row2_col6\" class=\"data row2 col6\" >Москва ТРК \"Атриум\"</td>\n",
       "      <td id=\"T_d4a35_row2_col7\" class=\"data row2 col7\" >Кино - Blu-Ray</td>\n",
       "      <td id=\"T_d4a35_row2_col8\" class=\"data row2 col8\" >37</td>\n",
       "      <td id=\"T_d4a35_row2_col9\" class=\"data row2 col9\" >ЯВЛЕНИЕ 2012 (BD)</td>\n",
       "    </tr>\n",
       "    <tr>\n",
       "      <th id=\"T_d4a35_level0_row3\" class=\"row_heading level0 row3\" >3</th>\n",
       "      <td id=\"T_d4a35_row3_col0\" class=\"data row3 col0\" >20.01.2013</td>\n",
       "      <td id=\"T_d4a35_row3_col1\" class=\"data row3 col1\" >0</td>\n",
       "      <td id=\"T_d4a35_row3_col2\" class=\"data row3 col2\" >25</td>\n",
       "      <td id=\"T_d4a35_row3_col3\" class=\"data row3 col3\" >22154</td>\n",
       "      <td id=\"T_d4a35_row3_col4\" class=\"data row3 col4\" >999.000000</td>\n",
       "      <td id=\"T_d4a35_row3_col5\" class=\"data row3 col5\" >1.000000</td>\n",
       "      <td id=\"T_d4a35_row3_col6\" class=\"data row3 col6\" >Москва ТРК \"Атриум\"</td>\n",
       "      <td id=\"T_d4a35_row3_col7\" class=\"data row3 col7\" >Кино - Blu-Ray</td>\n",
       "      <td id=\"T_d4a35_row3_col8\" class=\"data row3 col8\" >37</td>\n",
       "      <td id=\"T_d4a35_row3_col9\" class=\"data row3 col9\" >ЯВЛЕНИЕ 2012 (BD)</td>\n",
       "    </tr>\n",
       "    <tr>\n",
       "      <th id=\"T_d4a35_level0_row4\" class=\"row_heading level0 row4\" >4</th>\n",
       "      <td id=\"T_d4a35_row4_col0\" class=\"data row4 col0\" >23.01.2013</td>\n",
       "      <td id=\"T_d4a35_row4_col1\" class=\"data row4 col1\" >0</td>\n",
       "      <td id=\"T_d4a35_row4_col2\" class=\"data row4 col2\" >25</td>\n",
       "      <td id=\"T_d4a35_row4_col3\" class=\"data row4 col3\" >22154</td>\n",
       "      <td id=\"T_d4a35_row4_col4\" class=\"data row4 col4\" >999.000000</td>\n",
       "      <td id=\"T_d4a35_row4_col5\" class=\"data row4 col5\" >1.000000</td>\n",
       "      <td id=\"T_d4a35_row4_col6\" class=\"data row4 col6\" >Москва ТРК \"Атриум\"</td>\n",
       "      <td id=\"T_d4a35_row4_col7\" class=\"data row4 col7\" >Кино - Blu-Ray</td>\n",
       "      <td id=\"T_d4a35_row4_col8\" class=\"data row4 col8\" >37</td>\n",
       "      <td id=\"T_d4a35_row4_col9\" class=\"data row4 col9\" >ЯВЛЕНИЕ 2012 (BD)</td>\n",
       "    </tr>\n",
       "  </tbody>\n",
       "</table>\n"
      ],
      "text/plain": [
       "<pandas.io.formats.style.Styler at 0x14b98d7e460>"
      ]
     },
     "execution_count": 5,
     "metadata": {},
     "output_type": "execute_result"
    }
   ],
   "source": [
    "# gộp tổng hai ập mới item và sales_train_merged\n",
    "df = pd.merge(sales_train_shop,item,on='item_id')\n",
    "# xem thông tin 5 dòng đầu \n",
    "df.head().style.background_gradient(cmap='Blues').set_properties(**{'font-family': 'Segoe UI'})"
   ]
  },
  {
   "cell_type": "code",
   "execution_count": 6,
   "metadata": {
    "colab": {
     "base_uri": "https://localhost:8080/"
    },
    "executionInfo": {
     "elapsed": 10,
     "status": "ok",
     "timestamp": 1662471947826,
     "user": {
      "displayName": "Hùng Vũ",
      "userId": "15544968674983004342"
     },
     "user_tz": -420
    },
    "id": "dvsh_v5GXw2r",
    "outputId": "8bd7ba9c-0907-407a-e55a-3b85155813fe"
   },
   "outputs": [
    {
     "name": "stdout",
     "output_type": "stream",
     "text": [
      "<class 'pandas.core.frame.DataFrame'>\n",
      "Int64Index: 2935849 entries, 0 to 2935848\n",
      "Data columns (total 10 columns):\n",
      " #   Column              Dtype  \n",
      "---  ------              -----  \n",
      " 0   date                object \n",
      " 1   date_block_num      int64  \n",
      " 2   shop_id             int64  \n",
      " 3   item_id             int64  \n",
      " 4   item_price          float64\n",
      " 5   item_cnt_day        float64\n",
      " 6   shop_name           object \n",
      " 7   item_category_name  object \n",
      " 8   item_category_id    int64  \n",
      " 9   item_name           object \n",
      "dtypes: float64(2), int64(4), object(4)\n",
      "memory usage: 246.4+ MB\n"
     ]
    }
   ],
   "source": [
    "# thông tin của data\n",
    "df.info()"
   ]
  },
  {
   "cell_type": "code",
   "execution_count": 7,
   "metadata": {
    "colab": {
     "base_uri": "https://localhost:8080/",
     "height": 300
    },
    "executionInfo": {
     "elapsed": 1093,
     "status": "ok",
     "timestamp": 1662471948913,
     "user": {
      "displayName": "Hùng Vũ",
      "userId": "15544968674983004342"
     },
     "user_tz": -420
    },
    "id": "gCP1yAYLXww9",
    "outputId": "d35185a2-eb64-4e88-c829-3e10f7d58eeb"
   },
   "outputs": [
    {
     "data": {
      "text/html": [
       "<div>\n",
       "<style scoped>\n",
       "    .dataframe tbody tr th:only-of-type {\n",
       "        vertical-align: middle;\n",
       "    }\n",
       "\n",
       "    .dataframe tbody tr th {\n",
       "        vertical-align: top;\n",
       "    }\n",
       "\n",
       "    .dataframe thead th {\n",
       "        text-align: right;\n",
       "    }\n",
       "</style>\n",
       "<table border=\"1\" class=\"dataframe\">\n",
       "  <thead>\n",
       "    <tr style=\"text-align: right;\">\n",
       "      <th></th>\n",
       "      <th>date_block_num</th>\n",
       "      <th>shop_id</th>\n",
       "      <th>item_id</th>\n",
       "      <th>item_price</th>\n",
       "      <th>item_cnt_day</th>\n",
       "      <th>item_category_id</th>\n",
       "    </tr>\n",
       "  </thead>\n",
       "  <tbody>\n",
       "    <tr>\n",
       "      <th>count</th>\n",
       "      <td>2.935849e+06</td>\n",
       "      <td>2.935849e+06</td>\n",
       "      <td>2.935849e+06</td>\n",
       "      <td>2.935849e+06</td>\n",
       "      <td>2.935849e+06</td>\n",
       "      <td>2.935849e+06</td>\n",
       "    </tr>\n",
       "    <tr>\n",
       "      <th>mean</th>\n",
       "      <td>1.456991e+01</td>\n",
       "      <td>3.300173e+01</td>\n",
       "      <td>1.019723e+04</td>\n",
       "      <td>8.908532e+02</td>\n",
       "      <td>1.242641e+00</td>\n",
       "      <td>4.000138e+01</td>\n",
       "    </tr>\n",
       "    <tr>\n",
       "      <th>std</th>\n",
       "      <td>9.422988e+00</td>\n",
       "      <td>1.622697e+01</td>\n",
       "      <td>6.324297e+03</td>\n",
       "      <td>1.729800e+03</td>\n",
       "      <td>2.618834e+00</td>\n",
       "      <td>1.710076e+01</td>\n",
       "    </tr>\n",
       "    <tr>\n",
       "      <th>min</th>\n",
       "      <td>0.000000e+00</td>\n",
       "      <td>0.000000e+00</td>\n",
       "      <td>0.000000e+00</td>\n",
       "      <td>-1.000000e+00</td>\n",
       "      <td>-2.200000e+01</td>\n",
       "      <td>0.000000e+00</td>\n",
       "    </tr>\n",
       "    <tr>\n",
       "      <th>25%</th>\n",
       "      <td>7.000000e+00</td>\n",
       "      <td>2.200000e+01</td>\n",
       "      <td>4.476000e+03</td>\n",
       "      <td>2.490000e+02</td>\n",
       "      <td>1.000000e+00</td>\n",
       "      <td>2.800000e+01</td>\n",
       "    </tr>\n",
       "    <tr>\n",
       "      <th>50%</th>\n",
       "      <td>1.400000e+01</td>\n",
       "      <td>3.100000e+01</td>\n",
       "      <td>9.343000e+03</td>\n",
       "      <td>3.990000e+02</td>\n",
       "      <td>1.000000e+00</td>\n",
       "      <td>4.000000e+01</td>\n",
       "    </tr>\n",
       "    <tr>\n",
       "      <th>75%</th>\n",
       "      <td>2.300000e+01</td>\n",
       "      <td>4.700000e+01</td>\n",
       "      <td>1.568400e+04</td>\n",
       "      <td>9.990000e+02</td>\n",
       "      <td>1.000000e+00</td>\n",
       "      <td>5.500000e+01</td>\n",
       "    </tr>\n",
       "    <tr>\n",
       "      <th>max</th>\n",
       "      <td>3.300000e+01</td>\n",
       "      <td>5.900000e+01</td>\n",
       "      <td>2.216900e+04</td>\n",
       "      <td>3.079800e+05</td>\n",
       "      <td>2.169000e+03</td>\n",
       "      <td>8.300000e+01</td>\n",
       "    </tr>\n",
       "  </tbody>\n",
       "</table>\n",
       "</div>"
      ],
      "text/plain": [
       "       date_block_num       shop_id       item_id    item_price  item_cnt_day  \\\n",
       "count    2.935849e+06  2.935849e+06  2.935849e+06  2.935849e+06  2.935849e+06   \n",
       "mean     1.456991e+01  3.300173e+01  1.019723e+04  8.908532e+02  1.242641e+00   \n",
       "std      9.422988e+00  1.622697e+01  6.324297e+03  1.729800e+03  2.618834e+00   \n",
       "min      0.000000e+00  0.000000e+00  0.000000e+00 -1.000000e+00 -2.200000e+01   \n",
       "25%      7.000000e+00  2.200000e+01  4.476000e+03  2.490000e+02  1.000000e+00   \n",
       "50%      1.400000e+01  3.100000e+01  9.343000e+03  3.990000e+02  1.000000e+00   \n",
       "75%      2.300000e+01  4.700000e+01  1.568400e+04  9.990000e+02  1.000000e+00   \n",
       "max      3.300000e+01  5.900000e+01  2.216900e+04  3.079800e+05  2.169000e+03   \n",
       "\n",
       "       item_category_id  \n",
       "count      2.935849e+06  \n",
       "mean       4.000138e+01  \n",
       "std        1.710076e+01  \n",
       "min        0.000000e+00  \n",
       "25%        2.800000e+01  \n",
       "50%        4.000000e+01  \n",
       "75%        5.500000e+01  \n",
       "max        8.300000e+01  "
      ]
     },
     "execution_count": 7,
     "metadata": {},
     "output_type": "execute_result"
    }
   ],
   "source": [
    "# giá trị của data\n",
    "df.describe()"
   ]
  },
  {
   "cell_type": "code",
   "execution_count": 8,
   "metadata": {
    "colab": {
     "base_uri": "https://localhost:8080/"
    },
    "executionInfo": {
     "elapsed": 704,
     "status": "ok",
     "timestamp": 1662471949614,
     "user": {
      "displayName": "Hùng Vũ",
      "userId": "15544968674983004342"
     },
     "user_tz": -420
    },
    "id": "u3w08qcpkbc7",
    "outputId": "5a7d7def-5039-42cc-be52-99ea0af4c2f6"
   },
   "outputs": [
    {
     "data": {
      "text/plain": [
       "date                  0\n",
       "date_block_num        0\n",
       "shop_id               0\n",
       "item_id               0\n",
       "item_price            0\n",
       "item_cnt_day          0\n",
       "shop_name             0\n",
       "item_category_name    0\n",
       "item_category_id      0\n",
       "item_name             0\n",
       "dtype: int64"
      ]
     },
     "execution_count": 8,
     "metadata": {},
     "output_type": "execute_result"
    }
   ],
   "source": [
    "# xem các giá trị null\n",
    "df.isnull().sum()"
   ]
  },
  {
   "cell_type": "markdown",
   "metadata": {
    "id": "T3HKgDEnkCzd"
   },
   "source": [
    "### <h3> Chuyển cột date (obj) thành datetime </h3>"
   ]
  },
  {
   "cell_type": "code",
   "execution_count": 9,
   "metadata": {
    "colab": {
     "base_uri": "https://localhost:8080/"
    },
    "executionInfo": {
     "elapsed": 6,
     "status": "ok",
     "timestamp": 1662471949614,
     "user": {
      "displayName": "Hùng Vũ",
      "userId": "15544968674983004342"
     },
     "user_tz": -420
    },
    "id": "vd4_nXSpXwuM",
    "outputId": "fe7c2896-d8df-44a2-b271-b85d39d4be33"
   },
   "outputs": [
    {
     "name": "stdout",
     "output_type": "stream",
     "text": [
      "<class 'pandas.core.frame.DataFrame'>\n",
      "Int64Index: 2935849 entries, 0 to 2935848\n",
      "Data columns (total 10 columns):\n",
      " #   Column              Dtype         \n",
      "---  ------              -----         \n",
      " 0   date                datetime64[ns]\n",
      " 1   date_block_num      int64         \n",
      " 2   shop_id             int64         \n",
      " 3   item_id             int64         \n",
      " 4   item_price          float64       \n",
      " 5   item_cnt_day        float64       \n",
      " 6   shop_name           object        \n",
      " 7   item_category_name  object        \n",
      " 8   item_category_id    int64         \n",
      " 9   item_name           object        \n",
      "dtypes: datetime64[ns](1), float64(2), int64(4), object(3)\n",
      "memory usage: 246.4+ MB\n",
      "None\n"
     ]
    }
   ],
   "source": [
    "# chuyển date( object ) thành date( datetime )\n",
    "# phân tích cú pháp ngày với ngày đầu tiên, ví dụ: \"10/11/12\" được phân tích cú pháp là 2012-11-10\n",
    "df.date = pd.to_datetime(df.date, dayfirst=True)\n",
    "print(df.info())"
   ]
  },
  {
   "cell_type": "code",
   "execution_count": 10,
   "metadata": {
    "colab": {
     "base_uri": "https://localhost:8080/",
     "height": 423
    },
    "executionInfo": {
     "elapsed": 40494,
     "status": "ok",
     "timestamp": 1662471990633,
     "user": {
      "displayName": "Hùng Vũ",
      "userId": "15544968674983004342"
     },
     "user_tz": -420
    },
    "id": "agDlCfxmitMn",
    "outputId": "008011e5-e8e8-4a0c-ddee-2db3d9b07806"
   },
   "outputs": [],
   "source": [
    "# thêm cột năm từ côt date\n",
    "df['year'] = pd.to_datetime(df['date']).dt.strftime('%Y')\n",
    "# thêm cột tháng  từ côt date\n",
    "df['month'] = pd.to_datetime(df['date']).dt.strftime('%m')\n",
    "# thêm cột này từ cột date\n",
    "#df['day'] = pd.to_datetime(df['date']).dt.strftime('%d')\n",
    "#df"
   ]
  },
  {
   "cell_type": "code",
   "execution_count": null,
   "metadata": {
    "executionInfo": {
     "elapsed": 369,
     "status": "ok",
     "timestamp": 1662471990954,
     "user": {
      "displayName": "Hùng Vũ",
      "userId": "15544968674983004342"
     },
     "user_tz": -420
    },
    "id": "iHHYvryoitAQ"
   },
   "outputs": [],
   "source": []
  },
  {
   "cell_type": "markdown",
   "metadata": {
    "id": "aqiHegKg_hao"
   },
   "source": [
    "# Trực quan hóa data"
   ]
  },
  {
   "cell_type": "markdown",
   "metadata": {
    "id": "gx5bBcoJSYgk"
   },
   "source": [
    "## Thống kê dữ liệu"
   ]
  },
  {
   "cell_type": "code",
   "execution_count": 11,
   "metadata": {
    "colab": {
     "base_uri": "https://localhost:8080/",
     "height": 300
    },
    "executionInfo": {
     "elapsed": 1779,
     "status": "ok",
     "timestamp": 1662471992729,
     "user": {
      "displayName": "Hùng Vũ",
      "userId": "15544968674983004342"
     },
     "user_tz": -420
    },
    "id": "ZzoIq2NdSrlM",
    "outputId": "f9255c9c-5d3a-44e3-f1a2-f8635cdb1b76"
   },
   "outputs": [
    {
     "data": {
      "text/html": [
       "<style type=\"text/css\">\n",
       "#T_ad7c0_row0_col0, #T_ad7c0_row0_col1, #T_ad7c0_row0_col2, #T_ad7c0_row0_col3, #T_ad7c0_row0_col4, #T_ad7c0_row0_col5 {\n",
       "  background-color: #023858;\n",
       "  color: #f1f1f1;\n",
       "}\n",
       "#T_ad7c0_row1_col0, #T_ad7c0_row1_col1, #T_ad7c0_row1_col2, #T_ad7c0_row1_col3, #T_ad7c0_row1_col4, #T_ad7c0_row1_col5, #T_ad7c0_row2_col0, #T_ad7c0_row2_col1, #T_ad7c0_row2_col2, #T_ad7c0_row2_col3, #T_ad7c0_row2_col4, #T_ad7c0_row2_col5, #T_ad7c0_row3_col0, #T_ad7c0_row3_col1, #T_ad7c0_row3_col2, #T_ad7c0_row3_col3, #T_ad7c0_row3_col4, #T_ad7c0_row3_col5, #T_ad7c0_row4_col0, #T_ad7c0_row4_col1, #T_ad7c0_row4_col2, #T_ad7c0_row4_col3, #T_ad7c0_row4_col4, #T_ad7c0_row4_col5, #T_ad7c0_row5_col0, #T_ad7c0_row5_col1, #T_ad7c0_row5_col2, #T_ad7c0_row5_col3, #T_ad7c0_row5_col4, #T_ad7c0_row5_col5, #T_ad7c0_row6_col0, #T_ad7c0_row6_col1, #T_ad7c0_row6_col3, #T_ad7c0_row6_col4, #T_ad7c0_row6_col5, #T_ad7c0_row7_col0, #T_ad7c0_row7_col1, #T_ad7c0_row7_col4, #T_ad7c0_row7_col5 {\n",
       "  background-color: #fff7fb;\n",
       "  color: #000000;\n",
       "}\n",
       "#T_ad7c0_row6_col2, #T_ad7c0_row7_col2 {\n",
       "  background-color: #fef6fb;\n",
       "  color: #000000;\n",
       "}\n",
       "#T_ad7c0_row7_col3 {\n",
       "  background-color: #f0eaf4;\n",
       "  color: #000000;\n",
       "}\n",
       "</style>\n",
       "<table id=\"T_ad7c0\">\n",
       "  <thead>\n",
       "    <tr>\n",
       "      <th class=\"blank level0\" >&nbsp;</th>\n",
       "      <th id=\"T_ad7c0_level0_col0\" class=\"col_heading level0 col0\" >date_block_num</th>\n",
       "      <th id=\"T_ad7c0_level0_col1\" class=\"col_heading level0 col1\" >shop_id</th>\n",
       "      <th id=\"T_ad7c0_level0_col2\" class=\"col_heading level0 col2\" >item_id</th>\n",
       "      <th id=\"T_ad7c0_level0_col3\" class=\"col_heading level0 col3\" >item_price</th>\n",
       "      <th id=\"T_ad7c0_level0_col4\" class=\"col_heading level0 col4\" >item_cnt_day</th>\n",
       "      <th id=\"T_ad7c0_level0_col5\" class=\"col_heading level0 col5\" >item_category_id</th>\n",
       "    </tr>\n",
       "  </thead>\n",
       "  <tbody>\n",
       "    <tr>\n",
       "      <th id=\"T_ad7c0_level0_row0\" class=\"row_heading level0 row0\" >count</th>\n",
       "      <td id=\"T_ad7c0_row0_col0\" class=\"data row0 col0\" >2935849.000000</td>\n",
       "      <td id=\"T_ad7c0_row0_col1\" class=\"data row0 col1\" >2935849.000000</td>\n",
       "      <td id=\"T_ad7c0_row0_col2\" class=\"data row0 col2\" >2935849.000000</td>\n",
       "      <td id=\"T_ad7c0_row0_col3\" class=\"data row0 col3\" >2935849.000000</td>\n",
       "      <td id=\"T_ad7c0_row0_col4\" class=\"data row0 col4\" >2935849.000000</td>\n",
       "      <td id=\"T_ad7c0_row0_col5\" class=\"data row0 col5\" >2935849.000000</td>\n",
       "    </tr>\n",
       "    <tr>\n",
       "      <th id=\"T_ad7c0_level0_row1\" class=\"row_heading level0 row1\" >mean</th>\n",
       "      <td id=\"T_ad7c0_row1_col0\" class=\"data row1 col0\" >14.569911</td>\n",
       "      <td id=\"T_ad7c0_row1_col1\" class=\"data row1 col1\" >33.001728</td>\n",
       "      <td id=\"T_ad7c0_row1_col2\" class=\"data row1 col2\" >10197.227057</td>\n",
       "      <td id=\"T_ad7c0_row1_col3\" class=\"data row1 col3\" >890.853233</td>\n",
       "      <td id=\"T_ad7c0_row1_col4\" class=\"data row1 col4\" >1.242641</td>\n",
       "      <td id=\"T_ad7c0_row1_col5\" class=\"data row1 col5\" >40.001383</td>\n",
       "    </tr>\n",
       "    <tr>\n",
       "      <th id=\"T_ad7c0_level0_row2\" class=\"row_heading level0 row2\" >std</th>\n",
       "      <td id=\"T_ad7c0_row2_col0\" class=\"data row2 col0\" >9.422988</td>\n",
       "      <td id=\"T_ad7c0_row2_col1\" class=\"data row2 col1\" >16.226973</td>\n",
       "      <td id=\"T_ad7c0_row2_col2\" class=\"data row2 col2\" >6324.297354</td>\n",
       "      <td id=\"T_ad7c0_row2_col3\" class=\"data row2 col3\" >1729.799631</td>\n",
       "      <td id=\"T_ad7c0_row2_col4\" class=\"data row2 col4\" >2.618834</td>\n",
       "      <td id=\"T_ad7c0_row2_col5\" class=\"data row2 col5\" >17.100759</td>\n",
       "    </tr>\n",
       "    <tr>\n",
       "      <th id=\"T_ad7c0_level0_row3\" class=\"row_heading level0 row3\" >min</th>\n",
       "      <td id=\"T_ad7c0_row3_col0\" class=\"data row3 col0\" >0.000000</td>\n",
       "      <td id=\"T_ad7c0_row3_col1\" class=\"data row3 col1\" >0.000000</td>\n",
       "      <td id=\"T_ad7c0_row3_col2\" class=\"data row3 col2\" >0.000000</td>\n",
       "      <td id=\"T_ad7c0_row3_col3\" class=\"data row3 col3\" >-1.000000</td>\n",
       "      <td id=\"T_ad7c0_row3_col4\" class=\"data row3 col4\" >-22.000000</td>\n",
       "      <td id=\"T_ad7c0_row3_col5\" class=\"data row3 col5\" >0.000000</td>\n",
       "    </tr>\n",
       "    <tr>\n",
       "      <th id=\"T_ad7c0_level0_row4\" class=\"row_heading level0 row4\" >25%</th>\n",
       "      <td id=\"T_ad7c0_row4_col0\" class=\"data row4 col0\" >7.000000</td>\n",
       "      <td id=\"T_ad7c0_row4_col1\" class=\"data row4 col1\" >22.000000</td>\n",
       "      <td id=\"T_ad7c0_row4_col2\" class=\"data row4 col2\" >4476.000000</td>\n",
       "      <td id=\"T_ad7c0_row4_col3\" class=\"data row4 col3\" >249.000000</td>\n",
       "      <td id=\"T_ad7c0_row4_col4\" class=\"data row4 col4\" >1.000000</td>\n",
       "      <td id=\"T_ad7c0_row4_col5\" class=\"data row4 col5\" >28.000000</td>\n",
       "    </tr>\n",
       "    <tr>\n",
       "      <th id=\"T_ad7c0_level0_row5\" class=\"row_heading level0 row5\" >50%</th>\n",
       "      <td id=\"T_ad7c0_row5_col0\" class=\"data row5 col0\" >14.000000</td>\n",
       "      <td id=\"T_ad7c0_row5_col1\" class=\"data row5 col1\" >31.000000</td>\n",
       "      <td id=\"T_ad7c0_row5_col2\" class=\"data row5 col2\" >9343.000000</td>\n",
       "      <td id=\"T_ad7c0_row5_col3\" class=\"data row5 col3\" >399.000000</td>\n",
       "      <td id=\"T_ad7c0_row5_col4\" class=\"data row5 col4\" >1.000000</td>\n",
       "      <td id=\"T_ad7c0_row5_col5\" class=\"data row5 col5\" >40.000000</td>\n",
       "    </tr>\n",
       "    <tr>\n",
       "      <th id=\"T_ad7c0_level0_row6\" class=\"row_heading level0 row6\" >75%</th>\n",
       "      <td id=\"T_ad7c0_row6_col0\" class=\"data row6 col0\" >23.000000</td>\n",
       "      <td id=\"T_ad7c0_row6_col1\" class=\"data row6 col1\" >47.000000</td>\n",
       "      <td id=\"T_ad7c0_row6_col2\" class=\"data row6 col2\" >15684.000000</td>\n",
       "      <td id=\"T_ad7c0_row6_col3\" class=\"data row6 col3\" >999.000000</td>\n",
       "      <td id=\"T_ad7c0_row6_col4\" class=\"data row6 col4\" >1.000000</td>\n",
       "      <td id=\"T_ad7c0_row6_col5\" class=\"data row6 col5\" >55.000000</td>\n",
       "    </tr>\n",
       "    <tr>\n",
       "      <th id=\"T_ad7c0_level0_row7\" class=\"row_heading level0 row7\" >max</th>\n",
       "      <td id=\"T_ad7c0_row7_col0\" class=\"data row7 col0\" >33.000000</td>\n",
       "      <td id=\"T_ad7c0_row7_col1\" class=\"data row7 col1\" >59.000000</td>\n",
       "      <td id=\"T_ad7c0_row7_col2\" class=\"data row7 col2\" >22169.000000</td>\n",
       "      <td id=\"T_ad7c0_row7_col3\" class=\"data row7 col3\" >307980.000000</td>\n",
       "      <td id=\"T_ad7c0_row7_col4\" class=\"data row7 col4\" >2169.000000</td>\n",
       "      <td id=\"T_ad7c0_row7_col5\" class=\"data row7 col5\" >83.000000</td>\n",
       "    </tr>\n",
       "  </tbody>\n",
       "</table>\n"
      ],
      "text/plain": [
       "<pandas.io.formats.style.Styler at 0x14b990f4b80>"
      ]
     },
     "execution_count": 11,
     "metadata": {},
     "output_type": "execute_result"
    }
   ],
   "source": [
    "# thống kê mô tả tập dữ liệu \n",
    "df.describe().style.background_gradient()"
   ]
  },
  {
   "cell_type": "code",
   "execution_count": 12,
   "metadata": {
    "colab": {
     "base_uri": "https://localhost:8080/",
     "height": 354
    },
    "executionInfo": {
     "elapsed": 1703,
     "status": "ok",
     "timestamp": 1662471994417,
     "user": {
      "displayName": "Hùng Vũ",
      "userId": "15544968674983004342"
     },
     "user_tz": -420
    },
    "id": "BnhnWConkEyx",
    "outputId": "fb249d4e-fc15-4219-bb89-4473182cf319"
   },
   "outputs": [
    {
     "data": {
      "image/png": "[encoded data removed]",
      "text/plain": [
       "<Figure size 1440x360 with 1 Axes>"
      ]
     },
     "metadata": {
      "needs_background": "light"
     },
     "output_type": "display_data"
    }
   ],
   "source": [
    "# số của hàng có lượng trao đổi mặt hàng \n",
    "plt.figure(figsize=(20,5))\n",
    "#biểu đồ cột với x là shop và y là toongt số của hàng \n",
    "ax=sns.countplot(data=df, x='shop_id')\n",
    "ax.set_xticklabels(ax.get_xticklabels(), rotation=90)\n",
    "ax.set_title(\"tần xuất id của của hàng \")\n",
    "plt.show()"
   ]
  },
  {
   "cell_type": "code",
   "execution_count": 13,
   "metadata": {
    "colab": {
     "base_uri": "https://localhost:8080/",
     "height": 354
    },
    "executionInfo": {
     "elapsed": 991,
     "status": "ok",
     "timestamp": 1662471995394,
     "user": {
      "displayName": "Hùng Vũ",
      "userId": "15544968674983004342"
     },
     "user_tz": -420
    },
    "id": "emfZuUEWkEwx",
    "outputId": "d94601ec-c0f4-4ba9-f261-d026046911f8"
   },
   "outputs": [
    {
     "data": {
      "image/png": "[encoded data removed]",
      "text/plain": [
       "<Figure size 1440x360 with 1 Axes>"
      ]
     },
     "metadata": {
      "needs_background": "light"
     },
     "output_type": "display_data"
    }
   ],
   "source": [
    "#số sản phẩm bị trả lại \n",
    "plt.figure(figsize=(20,5))\n",
    "# shop và số sản phầm rả về \n",
    "ax=sns.countplot(data=df[df['item_cnt_day']<0], x='shop_id')\n",
    "ax.set_xticklabels(ax.get_xticklabels(), rotation=90)\n",
    "ax.set_title(\"sản phẩm trả lại\")\n",
    "plt.show()"
   ]
  },
  {
   "cell_type": "code",
   "execution_count": 14,
   "metadata": {
    "colab": {
     "base_uri": "https://localhost:8080/",
     "height": 206
    },
    "executionInfo": {
     "elapsed": 954,
     "status": "ok",
     "timestamp": 1662471996338,
     "user": {
      "displayName": "Hùng Vũ",
      "userId": "15544968674983004342"
     },
     "user_tz": -420
    },
    "id": "QFtyb-jprfq1",
    "outputId": "f883f670-981e-4f69-a832-d74c0cb0e5fa"
   },
   "outputs": [
    {
     "data": {
      "text/html": [
       "<div>\n",
       "<style scoped>\n",
       "    .dataframe tbody tr th:only-of-type {\n",
       "        vertical-align: middle;\n",
       "    }\n",
       "\n",
       "    .dataframe tbody tr th {\n",
       "        vertical-align: top;\n",
       "    }\n",
       "\n",
       "    .dataframe thead th {\n",
       "        text-align: right;\n",
       "    }\n",
       "</style>\n",
       "<table border=\"1\" class=\"dataframe\">\n",
       "  <thead>\n",
       "    <tr style=\"text-align: right;\">\n",
       "      <th></th>\n",
       "      <th>date</th>\n",
       "      <th>date_block_num</th>\n",
       "      <th>shop_id</th>\n",
       "      <th>item_id</th>\n",
       "      <th>item_price</th>\n",
       "      <th>item_cnt_day</th>\n",
       "      <th>shop_name</th>\n",
       "      <th>item_category_name</th>\n",
       "      <th>item_category_id</th>\n",
       "      <th>item_name</th>\n",
       "      <th>year</th>\n",
       "      <th>month</th>\n",
       "    </tr>\n",
       "  </thead>\n",
       "  <tbody>\n",
       "    <tr>\n",
       "      <th>26</th>\n",
       "      <td>2013-01-05</td>\n",
       "      <td>0</td>\n",
       "      <td>31</td>\n",
       "      <td>22154</td>\n",
       "      <td>999.0</td>\n",
       "      <td>1.0</td>\n",
       "      <td>Москва ТЦ \"Семеновский\"</td>\n",
       "      <td>Кино - Blu-Ray</td>\n",
       "      <td>37</td>\n",
       "      <td>ЯВЛЕНИЕ 2012 (BD)</td>\n",
       "      <td>2013</td>\n",
       "      <td>01</td>\n",
       "    </tr>\n",
       "    <tr>\n",
       "      <th>27</th>\n",
       "      <td>2013-10-11</td>\n",
       "      <td>9</td>\n",
       "      <td>31</td>\n",
       "      <td>22154</td>\n",
       "      <td>999.0</td>\n",
       "      <td>1.0</td>\n",
       "      <td>Москва ТЦ \"Семеновский\"</td>\n",
       "      <td>Кино - Blu-Ray</td>\n",
       "      <td>37</td>\n",
       "      <td>ЯВЛЕНИЕ 2012 (BD)</td>\n",
       "      <td>2013</td>\n",
       "      <td>10</td>\n",
       "    </tr>\n",
       "    <tr>\n",
       "      <th>28</th>\n",
       "      <td>2013-12-31</td>\n",
       "      <td>11</td>\n",
       "      <td>31</td>\n",
       "      <td>22154</td>\n",
       "      <td>999.0</td>\n",
       "      <td>1.0</td>\n",
       "      <td>Москва ТЦ \"Семеновский\"</td>\n",
       "      <td>Кино - Blu-Ray</td>\n",
       "      <td>37</td>\n",
       "      <td>ЯВЛЕНИЕ 2012 (BD)</td>\n",
       "      <td>2013</td>\n",
       "      <td>12</td>\n",
       "    </tr>\n",
       "    <tr>\n",
       "      <th>29</th>\n",
       "      <td>2015-07-14</td>\n",
       "      <td>30</td>\n",
       "      <td>31</td>\n",
       "      <td>22154</td>\n",
       "      <td>299.0</td>\n",
       "      <td>1.0</td>\n",
       "      <td>Москва ТЦ \"Семеновский\"</td>\n",
       "      <td>Кино - Blu-Ray</td>\n",
       "      <td>37</td>\n",
       "      <td>ЯВЛЕНИЕ 2012 (BD)</td>\n",
       "      <td>2015</td>\n",
       "      <td>07</td>\n",
       "    </tr>\n",
       "    <tr>\n",
       "      <th>30</th>\n",
       "      <td>2015-08-03</td>\n",
       "      <td>31</td>\n",
       "      <td>31</td>\n",
       "      <td>22154</td>\n",
       "      <td>299.0</td>\n",
       "      <td>1.0</td>\n",
       "      <td>Москва ТЦ \"Семеновский\"</td>\n",
       "      <td>Кино - Blu-Ray</td>\n",
       "      <td>37</td>\n",
       "      <td>ЯВЛЕНИЕ 2012 (BD)</td>\n",
       "      <td>2015</td>\n",
       "      <td>08</td>\n",
       "    </tr>\n",
       "  </tbody>\n",
       "</table>\n",
       "</div>"
      ],
      "text/plain": [
       "         date  date_block_num  shop_id  item_id  item_price  item_cnt_day  \\\n",
       "26 2013-01-05               0       31    22154       999.0           1.0   \n",
       "27 2013-10-11               9       31    22154       999.0           1.0   \n",
       "28 2013-12-31              11       31    22154       999.0           1.0   \n",
       "29 2015-07-14              30       31    22154       299.0           1.0   \n",
       "30 2015-08-03              31       31    22154       299.0           1.0   \n",
       "\n",
       "                  shop_name item_category_name  item_category_id  \\\n",
       "26  Москва ТЦ \"Семеновский\"     Кино - Blu-Ray                37   \n",
       "27  Москва ТЦ \"Семеновский\"     Кино - Blu-Ray                37   \n",
       "28  Москва ТЦ \"Семеновский\"     Кино - Blu-Ray                37   \n",
       "29  Москва ТЦ \"Семеновский\"     Кино - Blu-Ray                37   \n",
       "30  Москва ТЦ \"Семеновский\"     Кино - Blu-Ray                37   \n",
       "\n",
       "            item_name  year month  \n",
       "26  ЯВЛЕНИЕ 2012 (BD)  2013    01  \n",
       "27  ЯВЛЕНИЕ 2012 (BD)  2013    10  \n",
       "28  ЯВЛЕНИЕ 2012 (BD)  2013    12  \n",
       "29  ЯВЛЕНИЕ 2012 (BD)  2015    07  \n",
       "30  ЯВЛЕНИЕ 2012 (BD)  2015    08  "
      ]
     },
     "execution_count": 14,
     "metadata": {},
     "output_type": "execute_result"
    }
   ],
   "source": [
    "# lọc sản phẩm theo shop_id.\n",
    "df_shop31 = df.loc[df['shop_id']== 31]\n",
    "#locid.describe().style.background_gradient()\n",
    "df_shop31.head()\n",
    "# Trung tâm mua sắm Moscow \"Semenovsky\""
   ]
  },
  {
   "cell_type": "code",
   "execution_count": 15,
   "metadata": {
    "colab": {
     "base_uri": "https://localhost:8080/",
     "height": 337
    },
    "executionInfo": {
     "elapsed": 26,
     "status": "ok",
     "timestamp": 1662471996340,
     "user": {
      "displayName": "Hùng Vũ",
      "userId": "15544968674983004342"
     },
     "user_tz": -420
    },
    "id": "KTUaQn_wr23K",
    "outputId": "57c7a7ed-b0a9-4694-b5f3-4eaff399dfb5"
   },
   "outputs": [
    {
     "data": {
      "image/png": "[encoded data removed]",
      "text/plain": [
       "<Figure size 1440x360 with 1 Axes>"
      ]
     },
     "metadata": {
      "needs_background": "light"
     },
     "output_type": "display_data"
    }
   ],
   "source": [
    "# sản phẩm được trả về nhiều nhất\n",
    "# biến counter nhận giá trị số sản phẩm trả về\n",
    "counter = pd.DataFrame(Counter(df_shop31[df_shop31['item_cnt_day']<0]['item_name']).most_common(10))\n",
    "# lấy hai cột item_id và cột Counts\n",
    "counter.columns=['item_name', 'Counts']\n",
    "# ép cột item_id thành kiểu str\n",
    "counter['item_name']=counter['item_name'].astype('str')\n",
    "plt.figure(figsize=(20,5))\n",
    "plt.barh(data=counter, y='item_name', width='Counts', color='blue')\n",
    "plt.title(\"10 mặt hàng được khách hàng trả lại nhiều nhất\")\n",
    "plt.show()"
   ]
  },
  {
   "cell_type": "code",
   "execution_count": 16,
   "metadata": {
    "executionInfo": {
     "elapsed": 22,
     "status": "ok",
     "timestamp": 1662471996341,
     "user": {
      "displayName": "Hùng Vũ",
      "userId": "15544968674983004342"
     },
     "user_tz": -420
    },
    "id": "iYjmYbnx5nhj"
   },
   "outputs": [],
   "source": [
    "# 3673 game Gears Of War\n",
    "# 1523 game Assassin's\n",
    "# 16451 phim CLOUD ATLAS (BD)\n",
    "# 7218 game Illusion of Drake\n",
    "# 6717 game Spore\n",
    "# 15625 game SKY SLIDER\n",
    "# 4870 game Minecraft\n",
    "# 15106 game Trackbot\n",
    "# 7220 game Uncharted Golden Abyss\n",
    "# 13851 game lái xe cho trẻ 4 tuổi"
   ]
  },
  {
   "cell_type": "code",
   "execution_count": 17,
   "metadata": {
    "colab": {
     "base_uri": "https://localhost:8080/",
     "height": 619
    },
    "executionInfo": {
     "elapsed": 1049,
     "status": "ok",
     "timestamp": 1662471997369,
     "user": {
      "displayName": "Hùng Vũ",
      "userId": "15544968674983004342"
     },
     "user_tz": -420
    },
    "id": "2oiVKHdEks1J",
    "outputId": "eb13b0da-568b-4b75-a5d2-3a40de31eec2"
   },
   "outputs": [
    {
     "data": {
      "image/png": "[encoded data removed]",
      "text/plain": [
       "<Figure size 1296x432 with 1 Axes>"
      ]
     },
     "metadata": {
      "needs_background": "light"
     },
     "output_type": "display_data"
    }
   ],
   "source": [
    "#số lượng mặt hàng trong danh mục \n",
    "# biến result nhận giá trị cột item_category_name\n",
    "result=df_shop31['item_category_name'].value_counts().sort_values(ascending=False)[0:20]\n",
    "# vẽ biểu đồ plot thanh dọc 'bar',kích thước ,độ dày cột và màu \n",
    "result.plot(kind='bar',figsize=(18,6),width =1,color=sns.color_palette(\"Spectral\", 9))\n",
    "# xét tên tiêu đề ,tên trục y,x\n",
    "plt.title(\"Tổng số sản phẩm trong danh mục \")\n",
    "plt.ylabel('Số sản phẩm')\n",
    "plt.xlabel('Tên danh mục')\n",
    "plt.show()"
   ]
  },
  {
   "cell_type": "markdown",
   "metadata": {
    "id": "kwOGLNoclW0j"
   },
   "source": [
    "📈 Tổng số sản phẩm nhiều nhất ở mặt hàng DVD <p>\n",
    "Sản phẩm ít nhất ở 20 mặt hàng Quà tặng quà lưu niệm "
   ]
  },
  {
   "cell_type": "code",
   "execution_count": null,
   "metadata": {
    "executionInfo": {
     "elapsed": 31,
     "status": "ok",
     "timestamp": 1662471997370,
     "user": {
      "displayName": "Hùng Vũ",
      "userId": "15544968674983004342"
     },
     "user_tz": -420
    },
    "id": "5cHLOXNNkbrv"
   },
   "outputs": [],
   "source": []
  },
  {
   "cell_type": "code",
   "execution_count": 18,
   "metadata": {
    "colab": {
     "base_uri": "https://localhost:8080/",
     "height": 632
    },
    "executionInfo": {
     "elapsed": 28,
     "status": "ok",
     "timestamp": 1662471997371,
     "user": {
      "displayName": "Hùng Vũ",
      "userId": "15544968674983004342"
     },
     "user_tz": -420
    },
    "id": "niU5N7RLksx9",
    "outputId": "f0dda15f-caca-4016-bbb2-fd415e78a371"
   },
   "outputs": [
    {
     "data": {
      "image/png": "[encoded data removed]",
      "text/plain": [
       "<Figure size 1296x432 with 1 Axes>"
      ]
     },
     "metadata": {
      "needs_background": "light"
     },
     "output_type": "display_data"
    }
   ],
   "source": [
    "# số sản phẩm đã bán trong mỗi danh mục mặt hàng\n",
    "plt.figure(figsize=(18,6))\n",
    "plt.title('Danh mục mặt hằng')\n",
    "plt.ylabel('Tống số sản phẩm bán trong ngày')\n",
    "# giá trị giao nhau=*,ms là độ dày giá trị giao nhau.\n",
    "df_shop31.groupby('item_category_name')['item_cnt_day'].sum().sort_values(ascending=False)[0:20].plot(kind='line', marker='*', color='red', ms=7)\n",
    "df_shop31.groupby('item_category_name')['item_cnt_day'].sum().sort_values(ascending=False)[0:20].plot(kind='bar',color=sns.color_palette(\"inferno_r\", 7))\n",
    "plt.show()"
   ]
  },
  {
   "cell_type": "markdown",
   "metadata": {
    "id": "Vt2T9vnaljF6"
   },
   "source": [
    "📈 số sản phẩm bán ra nhiều nhất ở danh mục DVD <p>\n",
    "Sản phẩm bán ra ít nhất ở các mục Quà tặng -đồ trơi trên bàn"
   ]
  },
  {
   "cell_type": "code",
   "execution_count": 19,
   "metadata": {
    "colab": {
     "base_uri": "https://localhost:8080/",
     "height": 423
    },
    "executionInfo": {
     "elapsed": 25,
     "status": "ok",
     "timestamp": 1662471997373,
     "user": {
      "displayName": "Hùng Vũ",
      "userId": "15544968674983004342"
     },
     "user_tz": -420
    },
    "id": "aQkGSVmw4-vK",
    "outputId": "b9ae8e8a-31f3-445f-ce43-eb6650d94324"
   },
   "outputs": [
    {
     "data": {
      "text/html": [
       "<div>\n",
       "<style scoped>\n",
       "    .dataframe tbody tr th:only-of-type {\n",
       "        vertical-align: middle;\n",
       "    }\n",
       "\n",
       "    .dataframe tbody tr th {\n",
       "        vertical-align: top;\n",
       "    }\n",
       "\n",
       "    .dataframe thead th {\n",
       "        text-align: right;\n",
       "    }\n",
       "</style>\n",
       "<table border=\"1\" class=\"dataframe\">\n",
       "  <thead>\n",
       "    <tr style=\"text-align: right;\">\n",
       "      <th></th>\n",
       "      <th>date</th>\n",
       "      <th>date_block_num</th>\n",
       "      <th>shop_id</th>\n",
       "      <th>item_id</th>\n",
       "      <th>item_price</th>\n",
       "      <th>item_cnt_day</th>\n",
       "      <th>shop_name</th>\n",
       "      <th>item_category_name</th>\n",
       "      <th>item_category_id</th>\n",
       "      <th>item_name</th>\n",
       "      <th>year</th>\n",
       "      <th>month</th>\n",
       "    </tr>\n",
       "  </thead>\n",
       "  <tbody>\n",
       "    <tr>\n",
       "      <th>212</th>\n",
       "      <td>2013-01-06</td>\n",
       "      <td>0</td>\n",
       "      <td>31</td>\n",
       "      <td>22151</td>\n",
       "      <td>399.0</td>\n",
       "      <td>2.0</td>\n",
       "      <td>Москва ТЦ \"Семеновский\"</td>\n",
       "      <td>Кино - DVD</td>\n",
       "      <td>40</td>\n",
       "      <td>ЯВЛЕНИЕ (2012)</td>\n",
       "      <td>2013</td>\n",
       "      <td>01</td>\n",
       "    </tr>\n",
       "    <tr>\n",
       "      <th>213</th>\n",
       "      <td>2013-01-05</td>\n",
       "      <td>0</td>\n",
       "      <td>31</td>\n",
       "      <td>22151</td>\n",
       "      <td>399.0</td>\n",
       "      <td>2.0</td>\n",
       "      <td>Москва ТЦ \"Семеновский\"</td>\n",
       "      <td>Кино - DVD</td>\n",
       "      <td>40</td>\n",
       "      <td>ЯВЛЕНИЕ (2012)</td>\n",
       "      <td>2013</td>\n",
       "      <td>01</td>\n",
       "    </tr>\n",
       "    <tr>\n",
       "      <th>214</th>\n",
       "      <td>2013-01-04</td>\n",
       "      <td>0</td>\n",
       "      <td>31</td>\n",
       "      <td>22151</td>\n",
       "      <td>399.0</td>\n",
       "      <td>6.0</td>\n",
       "      <td>Москва ТЦ \"Семеновский\"</td>\n",
       "      <td>Кино - DVD</td>\n",
       "      <td>40</td>\n",
       "      <td>ЯВЛЕНИЕ (2012)</td>\n",
       "      <td>2013</td>\n",
       "      <td>01</td>\n",
       "    </tr>\n",
       "    <tr>\n",
       "      <th>215</th>\n",
       "      <td>2013-01-03</td>\n",
       "      <td>0</td>\n",
       "      <td>31</td>\n",
       "      <td>22151</td>\n",
       "      <td>399.0</td>\n",
       "      <td>3.0</td>\n",
       "      <td>Москва ТЦ \"Семеновский\"</td>\n",
       "      <td>Кино - DVD</td>\n",
       "      <td>40</td>\n",
       "      <td>ЯВЛЕНИЕ (2012)</td>\n",
       "      <td>2013</td>\n",
       "      <td>01</td>\n",
       "    </tr>\n",
       "    <tr>\n",
       "      <th>216</th>\n",
       "      <td>2013-01-02</td>\n",
       "      <td>0</td>\n",
       "      <td>31</td>\n",
       "      <td>22151</td>\n",
       "      <td>399.0</td>\n",
       "      <td>2.0</td>\n",
       "      <td>Москва ТЦ \"Семеновский\"</td>\n",
       "      <td>Кино - DVD</td>\n",
       "      <td>40</td>\n",
       "      <td>ЯВЛЕНИЕ (2012)</td>\n",
       "      <td>2013</td>\n",
       "      <td>01</td>\n",
       "    </tr>\n",
       "    <tr>\n",
       "      <th>...</th>\n",
       "      <td>...</td>\n",
       "      <td>...</td>\n",
       "      <td>...</td>\n",
       "      <td>...</td>\n",
       "      <td>...</td>\n",
       "      <td>...</td>\n",
       "      <td>...</td>\n",
       "      <td>...</td>\n",
       "      <td>...</td>\n",
       "      <td>...</td>\n",
       "      <td>...</td>\n",
       "      <td>...</td>\n",
       "    </tr>\n",
       "    <tr>\n",
       "      <th>2899390</th>\n",
       "      <td>2015-10-04</td>\n",
       "      <td>33</td>\n",
       "      <td>31</td>\n",
       "      <td>17440</td>\n",
       "      <td>249.0</td>\n",
       "      <td>1.0</td>\n",
       "      <td>Москва ТЦ \"Семеновский\"</td>\n",
       "      <td>Кино - DVD</td>\n",
       "      <td>40</td>\n",
       "      <td>ПРИХОДИТЕ ЗАВТРА (rem)</td>\n",
       "      <td>2015</td>\n",
       "      <td>10</td>\n",
       "    </tr>\n",
       "    <tr>\n",
       "      <th>2899400</th>\n",
       "      <td>2015-10-30</td>\n",
       "      <td>33</td>\n",
       "      <td>31</td>\n",
       "      <td>18530</td>\n",
       "      <td>249.0</td>\n",
       "      <td>1.0</td>\n",
       "      <td>Москва ТЦ \"Семеновский\"</td>\n",
       "      <td>Кино - DVD</td>\n",
       "      <td>40</td>\n",
       "      <td>СВАДЬБА В МАЛИНОВКЕ (rem)</td>\n",
       "      <td>2015</td>\n",
       "      <td>10</td>\n",
       "    </tr>\n",
       "    <tr>\n",
       "      <th>2899426</th>\n",
       "      <td>2015-10-16</td>\n",
       "      <td>33</td>\n",
       "      <td>31</td>\n",
       "      <td>17902</td>\n",
       "      <td>98.0</td>\n",
       "      <td>1.0</td>\n",
       "      <td>Москва ТЦ \"Семеновский\"</td>\n",
       "      <td>Кино - DVD</td>\n",
       "      <td>40</td>\n",
       "      <td>РОБОТЫ (ХХкатА)</td>\n",
       "      <td>2015</td>\n",
       "      <td>10</td>\n",
       "    </tr>\n",
       "    <tr>\n",
       "      <th>2899449</th>\n",
       "      <td>2015-10-22</td>\n",
       "      <td>33</td>\n",
       "      <td>31</td>\n",
       "      <td>10062</td>\n",
       "      <td>28.0</td>\n",
       "      <td>1.0</td>\n",
       "      <td>Москва ТЦ \"Семеновский\"</td>\n",
       "      <td>Кино - DVD</td>\n",
       "      <td>40</td>\n",
       "      <td>ВРЕМЕННО БЕРЕМЕННА</td>\n",
       "      <td>2015</td>\n",
       "      <td>10</td>\n",
       "    </tr>\n",
       "    <tr>\n",
       "      <th>2899452</th>\n",
       "      <td>2015-10-25</td>\n",
       "      <td>33</td>\n",
       "      <td>31</td>\n",
       "      <td>986</td>\n",
       "      <td>249.0</td>\n",
       "      <td>1.0</td>\n",
       "      <td>Москва ТЦ \"Семеновский\"</td>\n",
       "      <td>Кино - DVD</td>\n",
       "      <td>40</td>\n",
       "      <td>38 ПОПУГАЕВ (rem)</td>\n",
       "      <td>2015</td>\n",
       "      <td>10</td>\n",
       "    </tr>\n",
       "  </tbody>\n",
       "</table>\n",
       "<p>62235 rows × 12 columns</p>\n",
       "</div>"
      ],
      "text/plain": [
       "              date  date_block_num  shop_id  item_id  item_price  \\\n",
       "212     2013-01-06               0       31    22151       399.0   \n",
       "213     2013-01-05               0       31    22151       399.0   \n",
       "214     2013-01-04               0       31    22151       399.0   \n",
       "215     2013-01-03               0       31    22151       399.0   \n",
       "216     2013-01-02               0       31    22151       399.0   \n",
       "...            ...             ...      ...      ...         ...   \n",
       "2899390 2015-10-04              33       31    17440       249.0   \n",
       "2899400 2015-10-30              33       31    18530       249.0   \n",
       "2899426 2015-10-16              33       31    17902        98.0   \n",
       "2899449 2015-10-22              33       31    10062        28.0   \n",
       "2899452 2015-10-25              33       31      986       249.0   \n",
       "\n",
       "         item_cnt_day                shop_name item_category_name  \\\n",
       "212               2.0  Москва ТЦ \"Семеновский\"         Кино - DVD   \n",
       "213               2.0  Москва ТЦ \"Семеновский\"         Кино - DVD   \n",
       "214               6.0  Москва ТЦ \"Семеновский\"         Кино - DVD   \n",
       "215               3.0  Москва ТЦ \"Семеновский\"         Кино - DVD   \n",
       "216               2.0  Москва ТЦ \"Семеновский\"         Кино - DVD   \n",
       "...               ...                      ...                ...   \n",
       "2899390           1.0  Москва ТЦ \"Семеновский\"         Кино - DVD   \n",
       "2899400           1.0  Москва ТЦ \"Семеновский\"         Кино - DVD   \n",
       "2899426           1.0  Москва ТЦ \"Семеновский\"         Кино - DVD   \n",
       "2899449           1.0  Москва ТЦ \"Семеновский\"         Кино - DVD   \n",
       "2899452           1.0  Москва ТЦ \"Семеновский\"         Кино - DVD   \n",
       "\n",
       "         item_category_id                  item_name  year month  \n",
       "212                    40             ЯВЛЕНИЕ (2012)  2013    01  \n",
       "213                    40             ЯВЛЕНИЕ (2012)  2013    01  \n",
       "214                    40             ЯВЛЕНИЕ (2012)  2013    01  \n",
       "215                    40             ЯВЛЕНИЕ (2012)  2013    01  \n",
       "216                    40             ЯВЛЕНИЕ (2012)  2013    01  \n",
       "...                   ...                        ...   ...   ...  \n",
       "2899390                40     ПРИХОДИТЕ ЗАВТРА (rem)  2015    10  \n",
       "2899400                40  СВАДЬБА В МАЛИНОВКЕ (rem)  2015    10  \n",
       "2899426                40            РОБОТЫ (ХХкатА)  2015    10  \n",
       "2899449                40         ВРЕМЕННО БЕРЕМЕННА  2015    10  \n",
       "2899452                40          38 ПОПУГАЕВ (rem)  2015    10  \n",
       "\n",
       "[62235 rows x 12 columns]"
      ]
     },
     "execution_count": 19,
     "metadata": {},
     "output_type": "execute_result"
    }
   ],
   "source": [
    "df_DVD =  df_shop31.loc[df_shop31['item_category_id']== 40]\n",
    "df_DVD"
   ]
  },
  {
   "cell_type": "code",
   "execution_count": 20,
   "metadata": {
    "colab": {
     "base_uri": "https://localhost:8080/",
     "height": 441
    },
    "executionInfo": {
     "elapsed": 1035,
     "status": "ok",
     "timestamp": 1662471998387,
     "user": {
      "displayName": "Hùng Vũ",
      "userId": "15544968674983004342"
     },
     "user_tz": -420
    },
    "id": "GmpRXoKjppMp",
    "outputId": "825e7ced-c80f-435a-a5a6-bddec69f502e"
   },
   "outputs": [
    {
     "data": {
      "image/png": "[encoded data removed]",
      "text/plain": [
       "<Figure size 432x432 with 3 Axes>"
      ]
     },
     "metadata": {
      "needs_background": "light"
     },
     "output_type": "display_data"
    }
   ],
   "source": [
    "#sns.jointplot(x=\"item_cnt_day\", y=\"item_price\", data=df, height=8)\n",
    "sns.jointplot(data=df_DVD, x=\"item_cnt_day\", y=\"item_price\")\n",
    "plt.show()"
   ]
  },
  {
   "cell_type": "code",
   "execution_count": 21,
   "metadata": {
    "colab": {
     "base_uri": "https://localhost:8080/"
    },
    "executionInfo": {
     "elapsed": 24,
     "status": "ok",
     "timestamp": 1662471998388,
     "user": {
      "displayName": "Hùng Vũ",
      "userId": "15544968674983004342"
     },
     "user_tz": -420
    },
    "id": "UsKTX2zfq8Ew",
    "outputId": "dd11a5d3-5cd4-4fa0-aa02-1287ae4d789d"
   },
   "outputs": [
    {
     "name": "stdout",
     "output_type": "stream",
     "text": [
      "giá trước khi lấy: (62235, 12)\n",
      "giá sau khi lấy: (62235, 12)\n",
      "Tệp dữ liệu trước khi lọc : (62235, 12)\n",
      "Tệp dữ liệu sau khi lọc: (62235, 12)\n",
      "trước khi loại bỏ out line: (62235, 12)\n",
      "sau khi loại bỏ out line: (62148, 12)\n"
     ]
    }
   ],
   "source": [
    "print('giá trước khi lấy:', df_DVD.shape)\n",
    "#lấy tất cả giá lớn hơn không\n",
    "df = df_DVD.query('item_price > 0')\n",
    "print('giá sau khi lấy:', df_DVD.shape)\n",
    "#loại bỏ giá trị trùng lặp\n",
    "print('Tệp dữ liệu trước khi lọc :', df_DVD.shape)\n",
    "df = df_DVD[df_DVD['shop_id'].isin(df_DVD['shop_id'].unique())]\n",
    "\n",
    "df = df_DVD[df_DVD['item_id'].isin(df_DVD['item_id'].unique())]\n",
    "print('Tệp dữ liệu sau khi lọc:', df.shape)\n",
    "\n",
    "print('trước khi loại bỏ out line:', df.shape)\n",
    "# lấy giá trị số sản phẩm bán và giá nhỏ hơn 75000\n",
    "df = df.query('item_cnt_day >= 0 and item_cnt_day <= 30 and item_price < 900')\n",
    "print('sau khi loại bỏ out line:', df.shape)"
   ]
  },
  {
   "cell_type": "code",
   "execution_count": 22,
   "metadata": {
    "colab": {
     "base_uri": "https://localhost:8080/",
     "height": 441
    },
    "executionInfo": {
     "elapsed": 810,
     "status": "ok",
     "timestamp": 1662471999184,
     "user": {
      "displayName": "Hùng Vũ",
      "userId": "15544968674983004342"
     },
     "user_tz": -420
    },
    "id": "u1-IBszsrPBJ",
    "outputId": "a97391ea-f779-4f1b-dce7-6ab316b7458e"
   },
   "outputs": [
    {
     "data": {
      "image/png": "[encoded data removed]",
      "text/plain": [
       "<Figure size 432x432 with 3 Axes>"
      ]
     },
     "metadata": {
      "needs_background": "light"
     },
     "output_type": "display_data"
    }
   ],
   "source": [
    "#sns.jointplot(x=\"item_cnt_day\", y=\"item_price\", data=df, height=8)\n",
    "sns.jointplot(data=df, x=\"item_cnt_day\", y=\"item_price\")\n",
    "plt.show()"
   ]
  },
  {
   "cell_type": "code",
   "execution_count": 23,
   "metadata": {
    "colab": {
     "base_uri": "https://localhost:8080/",
     "height": 641
    },
    "executionInfo": {
     "elapsed": 1441,
     "status": "ok",
     "timestamp": 1662472000612,
     "user": {
      "displayName": "Hùng Vũ",
      "userId": "15544968674983004342"
     },
     "user_tz": -420
    },
    "id": "3Y-L3o03HQ8B",
    "outputId": "af7bc55a-792e-4150-d660-48475d06e821"
   },
   "outputs": [
    {
     "data": {
      "image/png": "[encoded data removed]",
      "text/plain": [
       "<Figure size 2160x720 with 1 Axes>"
      ]
     },
     "metadata": {
      "needs_background": "light"
     },
     "output_type": "display_data"
    }
   ],
   "source": [
    "# giá của các mặt hàng nhỏ hơn 100 \n",
    "plt.figure(figsize=(30,10))\n",
    "plt.title('danh mục sản phẩm')\n",
    "plt.ylabel('tổng giá')\n",
    "# sắp xếp dữ liệu, nhóm danh mục và giá theo trung bình\n",
    "#df_DVD.groupby('item_id')['item_price'].mean().sort_values(ascending=True)[0:].plot(kind='line', marker='*', color='red', ms=10)\n",
    "df.groupby('item_id')['item_price'].mean().sort_values(ascending=True)[:100].plot(kind='bar',color=sns.color_palette(\"inferno_r\", 7))\n",
    "plt.show()"
   ]
  },
  {
   "cell_type": "code",
   "execution_count": 24,
   "metadata": {
    "colab": {
     "base_uri": "https://localhost:8080/",
     "height": 638
    },
    "executionInfo": {
     "elapsed": 2200,
     "status": "ok",
     "timestamp": 1662472002799,
     "user": {
      "displayName": "Hùng Vũ",
      "userId": "15544968674983004342"
     },
     "user_tz": -420
    },
    "id": "1wDWbdqzl9QI",
    "outputId": "93daf448-3fb4-487c-c22f-f122bd9777c8"
   },
   "outputs": [
    {
     "data": {
      "image/png": "[encoded data removed]",
      "text/plain": [
       "<Figure size 2160x720 with 1 Axes>"
      ]
     },
     "metadata": {
      "needs_background": "light"
     },
     "output_type": "display_data"
    }
   ],
   "source": [
    "# giá của các mặt hàng\n",
    "plt.figure(figsize=(30,10))\n",
    "plt.title('danh mục sản phẩm')\n",
    "plt.ylabel('tổng giá')\n",
    "# sắp xếp dữ liệu, nhóm danh mục và giá theo trung bình\n",
    "#df_DVD.groupby('item_id')['item_price'].mean().sort_values(ascending=True)[0:].plot(kind='line', marker='*', color='red', ms=10)\n",
    "df.groupby('item_id')['item_price'].mean().sort_values(ascending=True)[4000:].plot(kind='bar',color=sns.color_palette(\"inferno_r\", 7))\n",
    "plt.show()"
   ]
  },
  {
   "cell_type": "code",
   "execution_count": null,
   "metadata": {
    "executionInfo": {
     "elapsed": 34,
     "status": "ok",
     "timestamp": 1662472002801,
     "user": {
      "displayName": "Hùng Vũ",
      "userId": "15544968674983004342"
     },
     "user_tz": -420
    },
    "id": "V_vB8AWnrVB4"
   },
   "outputs": [],
   "source": []
  },
  {
   "cell_type": "code",
   "execution_count": 25,
   "metadata": {
    "colab": {
     "base_uri": "https://localhost:8080/",
     "height": 279
    },
    "executionInfo": {
     "elapsed": 35,
     "status": "ok",
     "timestamp": 1662472002805,
     "user": {
      "displayName": "Hùng Vũ",
      "userId": "15544968674983004342"
     },
     "user_tz": -420
    },
    "id": "QCOSXtVwkEug",
    "outputId": "f6ee12e6-3c1b-4292-8941-0464d65dffdf"
   },
   "outputs": [
    {
     "data": {
      "image/png": "[encoded data removed]",
      "text/plain": [
       "<Figure size 432x288 with 1 Axes>"
      ]
     },
     "metadata": {
      "needs_background": "light"
     },
     "output_type": "display_data"
    }
   ],
   "source": [
    "# biểu đồ tỉ lệ số lượng sản phẩm đã bán và tháng\n",
    "#Đặt lại chỉ mục, nhóm năm tháng theo tổng số sản phẩm bán ra \n",
    "grouped = pd.DataFrame(df.groupby(['year','month'])['item_cnt_day'].sum().reset_index())\n",
    "sns.pointplot(x='month', y='item_cnt_day', hue='year',gird=True ,data=grouped);"
   ]
  },
  {
   "cell_type": "code",
   "execution_count": 26,
   "metadata": {
    "colab": {
     "base_uri": "https://localhost:8080/",
     "height": 279
    },
    "executionInfo": {
     "elapsed": 30,
     "status": "ok",
     "timestamp": 1662472002806,
     "user": {
      "displayName": "Hùng Vũ",
      "userId": "15544968674983004342"
     },
     "user_tz": -420
    },
    "id": "Y3cTJx2ykEsB",
    "outputId": "e862bea8-a0c9-4109-9d27-83d05d7354e3"
   },
   "outputs": [
    {
     "data": {
      "image/png": "[encoded data removed]",
      "text/plain": [
       "<Figure size 432x288 with 1 Axes>"
      ]
     },
     "metadata": {
      "needs_background": "light"
     },
     "output_type": "display_data"
    }
   ],
   "source": [
    "# biểu đồ tỉ lệ giá bán và tháng\n",
    "grouped_price = pd.DataFrame(df.groupby(['year','month'])['item_price'].mean().reset_index())\n",
    "sns.pointplot(x='month', y='item_price', hue='year',gird=True, data=grouped_price);"
   ]
  },
  {
   "cell_type": "code",
   "execution_count": 27,
   "metadata": {
    "colab": {
     "base_uri": "https://localhost:8080/",
     "height": 515
    },
    "executionInfo": {
     "elapsed": 1127,
     "status": "ok",
     "timestamp": 1662472003908,
     "user": {
      "displayName": "Hùng Vũ",
      "userId": "15544968674983004342"
     },
     "user_tz": -420
    },
    "id": "kr9JUYNWmuH9",
    "outputId": "2112c2e7-6e51-4ccb-cb0e-7af8d310e7a3"
   },
   "outputs": [
    {
     "data": {
      "image/png": "[encoded data removed]",
      "text/plain": [
       "<Figure size 2160x576 with 1 Axes>"
      ]
     },
     "metadata": {},
     "output_type": "display_data"
    }
   ],
   "source": [
    "# sử dụng biểu đồ ggplot\n",
    "plt.style.use('ggplot')\n",
    "ax2 = df['item_cnt_day'].plot(figsize=(30,8),color='blue')\n",
    "# đặt tên title \n",
    "ax2.set_title('Số lượng sản phẩm đã bán theo ngày');\n",
    "# sét trục x đặt tên là date\n",
    "ax2.set_xlabel('date')\n",
    "# xét trục y là item_cnt_day\n",
    "ax2.set_ylabel('item_cnt_day')\n",
    "plt.show()"
   ]
  },
  {
   "cell_type": "code",
   "execution_count": null,
   "metadata": {
    "executionInfo": {
     "elapsed": 65,
     "status": "ok",
     "timestamp": 1662472003910,
     "user": {
      "displayName": "Hùng Vũ",
      "userId": "15544968674983004342"
     },
     "user_tz": -420
    },
    "id": "MJGf9eWHmuEb"
   },
   "outputs": [],
   "source": []
  },
  {
   "cell_type": "code",
   "execution_count": 28,
   "metadata": {
    "colab": {
     "base_uri": "https://localhost:8080/",
     "height": 519
    },
    "executionInfo": {
     "elapsed": 63,
     "status": "ok",
     "timestamp": 1662472003911,
     "user": {
      "displayName": "Hùng Vũ",
      "userId": "15544968674983004342"
     },
     "user_tz": -420
    },
    "id": "njxFvntPkEkY",
    "outputId": "1e4c374e-8674-471d-de16-acf94983ab0f"
   },
   "outputs": [
    {
     "data": {
      "image/png": "[encoded data removed]",
      "text/plain": [
       "<Figure size 1152x576 with 1 Axes>"
      ]
     },
     "metadata": {},
     "output_type": "display_data"
    }
   ],
   "source": [
    "# biểu đồ tổng doanh thu trong ba năm\n",
    "ts=df.groupby([\"date_block_num\"])[\"item_cnt_day\"].sum()\n",
    "ts.astype('float')\n",
    "plt.figure(figsize=(16,8))\n",
    "plt.title('tổng doanh thu trong ba năm')\n",
    "plt.xlabel('Time')\n",
    "plt.ylabel('Sales')\n",
    "plt.grid(True)\n",
    "plt.plot(ts,'go-')\n",
    "plt.show()"
   ]
  },
  {
   "cell_type": "code",
   "execution_count": 60,
   "metadata": {},
   "outputs": [
    {
     "name": "stderr",
     "output_type": "stream",
     "text": [
      "C:\\Users\\ADMIN\\AppData\\Local\\Temp\\ipykernel_1712\\1917191200.py:2: FutureWarning: Indexing with multiple keys (implicitly converted to a tuple of keys) will be deprecated, use a list instead.\n",
      "  monthly_df=df.groupby([\"date_block_num\",\"shop_id\",\"item_id\"])[\"date\",\"item_price\",\"item_cnt_day\"].agg({\"date\":[\"min\",'max'],\"item_price\":\"mean\",\"item_cnt_day\":\"sum\"})\n"
     ]
    },
    {
     "data": {
      "text/html": [
       "<div>\n",
       "<style scoped>\n",
       "    .dataframe tbody tr th:only-of-type {\n",
       "        vertical-align: middle;\n",
       "    }\n",
       "\n",
       "    .dataframe tbody tr th {\n",
       "        vertical-align: top;\n",
       "    }\n",
       "\n",
       "    .dataframe thead tr th {\n",
       "        text-align: left;\n",
       "    }\n",
       "\n",
       "    .dataframe thead tr:last-of-type th {\n",
       "        text-align: right;\n",
       "    }\n",
       "</style>\n",
       "<table border=\"1\" class=\"dataframe\">\n",
       "  <thead>\n",
       "    <tr>\n",
       "      <th></th>\n",
       "      <th></th>\n",
       "      <th></th>\n",
       "      <th colspan=\"2\" halign=\"left\">date</th>\n",
       "      <th>item_price</th>\n",
       "      <th>item_cnt_day</th>\n",
       "    </tr>\n",
       "    <tr>\n",
       "      <th></th>\n",
       "      <th></th>\n",
       "      <th></th>\n",
       "      <th>min</th>\n",
       "      <th>max</th>\n",
       "      <th>mean</th>\n",
       "      <th>sum</th>\n",
       "    </tr>\n",
       "    <tr>\n",
       "      <th>date_block_num</th>\n",
       "      <th>shop_id</th>\n",
       "      <th>item_id</th>\n",
       "      <th></th>\n",
       "      <th></th>\n",
       "      <th></th>\n",
       "      <th></th>\n",
       "    </tr>\n",
       "  </thead>\n",
       "  <tbody>\n",
       "    <tr>\n",
       "      <th rowspan=\"5\" valign=\"top\">0</th>\n",
       "      <th rowspan=\"5\" valign=\"top\">31</th>\n",
       "      <th>32</th>\n",
       "      <td>2013-01-02</td>\n",
       "      <td>2013-01-31</td>\n",
       "      <td>349.0</td>\n",
       "      <td>24.0</td>\n",
       "    </tr>\n",
       "    <tr>\n",
       "      <th>35</th>\n",
       "      <td>2013-01-23</td>\n",
       "      <td>2013-01-30</td>\n",
       "      <td>399.0</td>\n",
       "      <td>5.0</td>\n",
       "    </tr>\n",
       "    <tr>\n",
       "      <th>72</th>\n",
       "      <td>2013-01-14</td>\n",
       "      <td>2013-01-14</td>\n",
       "      <td>119.0</td>\n",
       "      <td>1.0</td>\n",
       "    </tr>\n",
       "    <tr>\n",
       "      <th>75</th>\n",
       "      <td>2013-01-10</td>\n",
       "      <td>2013-01-10</td>\n",
       "      <td>149.0</td>\n",
       "      <td>1.0</td>\n",
       "    </tr>\n",
       "    <tr>\n",
       "      <th>94</th>\n",
       "      <td>2013-01-13</td>\n",
       "      <td>2013-01-13</td>\n",
       "      <td>299.0</td>\n",
       "      <td>1.0</td>\n",
       "    </tr>\n",
       "  </tbody>\n",
       "</table>\n",
       "</div>"
      ],
      "text/plain": [
       "                                     date            item_price item_cnt_day\n",
       "                                      min        max       mean          sum\n",
       "date_block_num shop_id item_id                                              \n",
       "0              31      32      2013-01-02 2013-01-31      349.0         24.0\n",
       "                       35      2013-01-23 2013-01-30      399.0          5.0\n",
       "                       72      2013-01-14 2013-01-14      119.0          1.0\n",
       "                       75      2013-01-10 2013-01-10      149.0          1.0\n",
       "                       94      2013-01-13 2013-01-13      299.0          1.0"
      ]
     },
     "execution_count": 60,
     "metadata": {},
     "output_type": "execute_result"
    }
   ],
   "source": [
    "# Nhóm dập dữ liệu theo hàng tháng \n",
    "monthly_df=df.groupby([\"date_block_num\",\"shop_id\",\"item_id\"])[\"date\",\"item_price\",\"item_cnt_day\"].agg({\"date\":[\"min\",'max'],\"item_price\":\"mean\",\"item_cnt_day\":\"sum\"})\n",
    "monthly_df.head()\n",
    "# trong tập dữ liệu này sẽ nhóm tháng và shop bán sản phẩm đó trong khoảng ngày và giá trung bình, tổng số sản phẩm bán được trong ngày ."
   ]
  },
  {
   "cell_type": "code",
   "execution_count": 63,
   "metadata": {},
   "outputs": [
    {
     "data": {
      "text/html": [
       "<div>\n",
       "<style scoped>\n",
       "    .dataframe tbody tr th:only-of-type {\n",
       "        vertical-align: middle;\n",
       "    }\n",
       "\n",
       "    .dataframe tbody tr th {\n",
       "        vertical-align: top;\n",
       "    }\n",
       "\n",
       "    .dataframe thead tr th {\n",
       "        text-align: left;\n",
       "    }\n",
       "\n",
       "    .dataframe thead tr:last-of-type th {\n",
       "        text-align: right;\n",
       "    }\n",
       "</style>\n",
       "<table border=\"1\" class=\"dataframe\">\n",
       "  <thead>\n",
       "    <tr>\n",
       "      <th></th>\n",
       "      <th></th>\n",
       "      <th></th>\n",
       "      <th>date_block_num</th>\n",
       "      <th colspan=\"2\" halign=\"left\">date</th>\n",
       "      <th>item_price</th>\n",
       "      <th>item_cnt_day</th>\n",
       "    </tr>\n",
       "    <tr>\n",
       "      <th></th>\n",
       "      <th></th>\n",
       "      <th></th>\n",
       "      <th>mean</th>\n",
       "      <th>min</th>\n",
       "      <th>max</th>\n",
       "      <th>mean</th>\n",
       "      <th>sum</th>\n",
       "    </tr>\n",
       "    <tr>\n",
       "      <th>date_block_num</th>\n",
       "      <th>shop_id</th>\n",
       "      <th>item_id</th>\n",
       "      <th></th>\n",
       "      <th></th>\n",
       "      <th></th>\n",
       "      <th></th>\n",
       "      <th></th>\n",
       "    </tr>\n",
       "  </thead>\n",
       "  <tbody>\n",
       "    <tr>\n",
       "      <th rowspan=\"5\" valign=\"top\">0</th>\n",
       "      <th rowspan=\"5\" valign=\"top\">31</th>\n",
       "      <th>32</th>\n",
       "      <td>0.0</td>\n",
       "      <td>2013-01-02</td>\n",
       "      <td>2013-01-31</td>\n",
       "      <td>349.0</td>\n",
       "      <td>24.0</td>\n",
       "    </tr>\n",
       "    <tr>\n",
       "      <th>35</th>\n",
       "      <td>0.0</td>\n",
       "      <td>2013-01-23</td>\n",
       "      <td>2013-01-30</td>\n",
       "      <td>399.0</td>\n",
       "      <td>5.0</td>\n",
       "    </tr>\n",
       "    <tr>\n",
       "      <th>72</th>\n",
       "      <td>0.0</td>\n",
       "      <td>2013-01-14</td>\n",
       "      <td>2013-01-14</td>\n",
       "      <td>119.0</td>\n",
       "      <td>1.0</td>\n",
       "    </tr>\n",
       "    <tr>\n",
       "      <th>75</th>\n",
       "      <td>0.0</td>\n",
       "      <td>2013-01-10</td>\n",
       "      <td>2013-01-10</td>\n",
       "      <td>149.0</td>\n",
       "      <td>1.0</td>\n",
       "    </tr>\n",
       "    <tr>\n",
       "      <th>94</th>\n",
       "      <td>0.0</td>\n",
       "      <td>2013-01-13</td>\n",
       "      <td>2013-01-13</td>\n",
       "      <td>299.0</td>\n",
       "      <td>1.0</td>\n",
       "    </tr>\n",
       "    <tr>\n",
       "      <th>...</th>\n",
       "      <th>...</th>\n",
       "      <th>...</th>\n",
       "      <td>...</td>\n",
       "      <td>...</td>\n",
       "      <td>...</td>\n",
       "      <td>...</td>\n",
       "      <td>...</td>\n",
       "    </tr>\n",
       "    <tr>\n",
       "      <th rowspan=\"5\" valign=\"top\">33</th>\n",
       "      <th rowspan=\"5\" valign=\"top\">31</th>\n",
       "      <th>22051</th>\n",
       "      <td>33.0</td>\n",
       "      <td>2015-10-25</td>\n",
       "      <td>2015-10-25</td>\n",
       "      <td>399.0</td>\n",
       "      <td>1.0</td>\n",
       "    </tr>\n",
       "    <tr>\n",
       "      <th>22058</th>\n",
       "      <td>33.0</td>\n",
       "      <td>2015-10-27</td>\n",
       "      <td>2015-10-27</td>\n",
       "      <td>129.0</td>\n",
       "      <td>1.0</td>\n",
       "    </tr>\n",
       "    <tr>\n",
       "      <th>22072</th>\n",
       "      <td>33.0</td>\n",
       "      <td>2015-10-14</td>\n",
       "      <td>2015-10-14</td>\n",
       "      <td>198.0</td>\n",
       "      <td>1.0</td>\n",
       "    </tr>\n",
       "    <tr>\n",
       "      <th>22162</th>\n",
       "      <td>33.0</td>\n",
       "      <td>2015-10-09</td>\n",
       "      <td>2015-10-09</td>\n",
       "      <td>349.0</td>\n",
       "      <td>1.0</td>\n",
       "    </tr>\n",
       "    <tr>\n",
       "      <th>22163</th>\n",
       "      <td>33.0</td>\n",
       "      <td>2015-10-02</td>\n",
       "      <td>2015-10-25</td>\n",
       "      <td>169.0</td>\n",
       "      <td>6.0</td>\n",
       "    </tr>\n",
       "  </tbody>\n",
       "</table>\n",
       "<p>26537 rows × 5 columns</p>\n",
       "</div>"
      ],
      "text/plain": [
       "                               date_block_num       date             \\\n",
       "                                         mean        min        max   \n",
       "date_block_num shop_id item_id                                        \n",
       "0              31      32                 0.0 2013-01-02 2013-01-31   \n",
       "                       35                 0.0 2013-01-23 2013-01-30   \n",
       "                       72                 0.0 2013-01-14 2013-01-14   \n",
       "                       75                 0.0 2013-01-10 2013-01-10   \n",
       "                       94                 0.0 2013-01-13 2013-01-13   \n",
       "...                                       ...        ...        ...   \n",
       "33             31      22051             33.0 2015-10-25 2015-10-25   \n",
       "                       22058             33.0 2015-10-27 2015-10-27   \n",
       "                       22072             33.0 2015-10-14 2015-10-14   \n",
       "                       22162             33.0 2015-10-09 2015-10-09   \n",
       "                       22163             33.0 2015-10-02 2015-10-25   \n",
       "\n",
       "                               item_price item_cnt_day  \n",
       "                                     mean          sum  \n",
       "date_block_num shop_id item_id                          \n",
       "0              31      32           349.0         24.0  \n",
       "                       35           399.0          5.0  \n",
       "                       72           119.0          1.0  \n",
       "                       75           149.0          1.0  \n",
       "                       94           299.0          1.0  \n",
       "...                                   ...          ...  \n",
       "33             31      22051        399.0          1.0  \n",
       "                       22058        129.0          1.0  \n",
       "                       22072        198.0          1.0  \n",
       "                       22162        349.0          1.0  \n",
       "                       22163        169.0          6.0  \n",
       "\n",
       "[26537 rows x 5 columns]"
      ]
     },
     "execution_count": 63,
     "metadata": {},
     "output_type": "execute_result"
    }
   ],
   "source": [
    "sales = df.groupby([\"date_block_num\",\"shop_id\",\"item_id\"])[['date_block_num','date', 'shop_id', 'item_id', 'item_price', 'item_cnt_day']].agg({\"date_block_num\":'mean',\"date\":[\"min\",'max'],\"item_price\":\"mean\",\"item_cnt_day\":\"sum\"})\n",
    "sales"
   ]
  },
  {
   "cell_type": "code",
   "execution_count": 64,
   "metadata": {},
   "outputs": [
    {
     "name": "stderr",
     "output_type": "stream",
     "text": [
      "C:\\Users\\ADMIN\\AppData\\Local\\Temp\\ipykernel_1712\\1453980068.py:1: FutureWarning: Indexing with multiple keys (implicitly converted to a tuple of keys) will be deprecated, use a list instead.\n",
      "  monthly_sales=df.groupby([\"date_block_num\",\"shop_id\",\"item_id\"])[\n"
     ]
    },
    {
     "data": {
      "text/html": [
       "<div>\n",
       "<style scoped>\n",
       "    .dataframe tbody tr th:only-of-type {\n",
       "        vertical-align: middle;\n",
       "    }\n",
       "\n",
       "    .dataframe tbody tr th {\n",
       "        vertical-align: top;\n",
       "    }\n",
       "\n",
       "    .dataframe thead tr th {\n",
       "        text-align: left;\n",
       "    }\n",
       "\n",
       "    .dataframe thead tr:last-of-type th {\n",
       "        text-align: right;\n",
       "    }\n",
       "</style>\n",
       "<table border=\"1\" class=\"dataframe\">\n",
       "  <thead>\n",
       "    <tr>\n",
       "      <th></th>\n",
       "      <th></th>\n",
       "      <th></th>\n",
       "      <th>date_block_num</th>\n",
       "      <th colspan=\"2\" halign=\"left\">date</th>\n",
       "      <th>item_price</th>\n",
       "      <th>item_cnt_day</th>\n",
       "    </tr>\n",
       "    <tr>\n",
       "      <th></th>\n",
       "      <th></th>\n",
       "      <th></th>\n",
       "      <th>mean</th>\n",
       "      <th>min</th>\n",
       "      <th>max</th>\n",
       "      <th>mean</th>\n",
       "      <th>sum</th>\n",
       "    </tr>\n",
       "    <tr>\n",
       "      <th>date_block_num</th>\n",
       "      <th>shop_id</th>\n",
       "      <th>item_id</th>\n",
       "      <th></th>\n",
       "      <th></th>\n",
       "      <th></th>\n",
       "      <th></th>\n",
       "      <th></th>\n",
       "    </tr>\n",
       "  </thead>\n",
       "  <tbody>\n",
       "    <tr>\n",
       "      <th rowspan=\"5\" valign=\"top\">0</th>\n",
       "      <th rowspan=\"5\" valign=\"top\">31</th>\n",
       "      <th>32</th>\n",
       "      <td>0.0</td>\n",
       "      <td>2013-01-02</td>\n",
       "      <td>2013-01-31</td>\n",
       "      <td>349.0</td>\n",
       "      <td>24.0</td>\n",
       "    </tr>\n",
       "    <tr>\n",
       "      <th>35</th>\n",
       "      <td>0.0</td>\n",
       "      <td>2013-01-23</td>\n",
       "      <td>2013-01-30</td>\n",
       "      <td>399.0</td>\n",
       "      <td>5.0</td>\n",
       "    </tr>\n",
       "    <tr>\n",
       "      <th>72</th>\n",
       "      <td>0.0</td>\n",
       "      <td>2013-01-14</td>\n",
       "      <td>2013-01-14</td>\n",
       "      <td>119.0</td>\n",
       "      <td>1.0</td>\n",
       "    </tr>\n",
       "    <tr>\n",
       "      <th>75</th>\n",
       "      <td>0.0</td>\n",
       "      <td>2013-01-10</td>\n",
       "      <td>2013-01-10</td>\n",
       "      <td>149.0</td>\n",
       "      <td>1.0</td>\n",
       "    </tr>\n",
       "    <tr>\n",
       "      <th>94</th>\n",
       "      <td>0.0</td>\n",
       "      <td>2013-01-13</td>\n",
       "      <td>2013-01-13</td>\n",
       "      <td>299.0</td>\n",
       "      <td>1.0</td>\n",
       "    </tr>\n",
       "    <tr>\n",
       "      <th>...</th>\n",
       "      <th>...</th>\n",
       "      <th>...</th>\n",
       "      <td>...</td>\n",
       "      <td>...</td>\n",
       "      <td>...</td>\n",
       "      <td>...</td>\n",
       "      <td>...</td>\n",
       "    </tr>\n",
       "    <tr>\n",
       "      <th rowspan=\"5\" valign=\"top\">33</th>\n",
       "      <th rowspan=\"5\" valign=\"top\">31</th>\n",
       "      <th>22051</th>\n",
       "      <td>33.0</td>\n",
       "      <td>2015-10-25</td>\n",
       "      <td>2015-10-25</td>\n",
       "      <td>399.0</td>\n",
       "      <td>1.0</td>\n",
       "    </tr>\n",
       "    <tr>\n",
       "      <th>22058</th>\n",
       "      <td>33.0</td>\n",
       "      <td>2015-10-27</td>\n",
       "      <td>2015-10-27</td>\n",
       "      <td>129.0</td>\n",
       "      <td>1.0</td>\n",
       "    </tr>\n",
       "    <tr>\n",
       "      <th>22072</th>\n",
       "      <td>33.0</td>\n",
       "      <td>2015-10-14</td>\n",
       "      <td>2015-10-14</td>\n",
       "      <td>198.0</td>\n",
       "      <td>1.0</td>\n",
       "    </tr>\n",
       "    <tr>\n",
       "      <th>22162</th>\n",
       "      <td>33.0</td>\n",
       "      <td>2015-10-09</td>\n",
       "      <td>2015-10-09</td>\n",
       "      <td>349.0</td>\n",
       "      <td>1.0</td>\n",
       "    </tr>\n",
       "    <tr>\n",
       "      <th>22163</th>\n",
       "      <td>33.0</td>\n",
       "      <td>2015-10-02</td>\n",
       "      <td>2015-10-25</td>\n",
       "      <td>169.0</td>\n",
       "      <td>6.0</td>\n",
       "    </tr>\n",
       "  </tbody>\n",
       "</table>\n",
       "<p>26537 rows × 5 columns</p>\n",
       "</div>"
      ],
      "text/plain": [
       "                               date_block_num       date             \\\n",
       "                                         mean        min        max   \n",
       "date_block_num shop_id item_id                                        \n",
       "0              31      32                 0.0 2013-01-02 2013-01-31   \n",
       "                       35                 0.0 2013-01-23 2013-01-30   \n",
       "                       72                 0.0 2013-01-14 2013-01-14   \n",
       "                       75                 0.0 2013-01-10 2013-01-10   \n",
       "                       94                 0.0 2013-01-13 2013-01-13   \n",
       "...                                       ...        ...        ...   \n",
       "33             31      22051             33.0 2015-10-25 2015-10-25   \n",
       "                       22058             33.0 2015-10-27 2015-10-27   \n",
       "                       22072             33.0 2015-10-14 2015-10-14   \n",
       "                       22162             33.0 2015-10-09 2015-10-09   \n",
       "                       22163             33.0 2015-10-02 2015-10-25   \n",
       "\n",
       "                               item_price item_cnt_day  \n",
       "                                     mean          sum  \n",
       "date_block_num shop_id item_id                          \n",
       "0              31      32           349.0         24.0  \n",
       "                       35           399.0          5.0  \n",
       "                       72           119.0          1.0  \n",
       "                       75           149.0          1.0  \n",
       "                       94           299.0          1.0  \n",
       "...                                   ...          ...  \n",
       "33             31      22051        399.0          1.0  \n",
       "                       22058        129.0          1.0  \n",
       "                       22072        198.0          1.0  \n",
       "                       22162        349.0          1.0  \n",
       "                       22163        169.0          6.0  \n",
       "\n",
       "[26537 rows x 5 columns]"
      ]
     },
     "execution_count": 64,
     "metadata": {},
     "output_type": "execute_result"
    }
   ],
   "source": [
    "monthly_sales=df.groupby([\"date_block_num\",\"shop_id\",\"item_id\"])[\n",
    "    \"date_block_num\",\"date\",\"item_price\",\"item_cnt_day\"].agg({\"date_block_num\":'mean',\"date\":[\"min\",'max'],\"item_price\":\"mean\",\"item_cnt_day\":\"sum\"})\n",
    "\n",
    "monthly_sales"
   ]
  },
  {
   "cell_type": "code",
   "execution_count": 66,
   "metadata": {},
   "outputs": [
    {
     "data": {
      "text/html": [
       "<div>\n",
       "<style scoped>\n",
       "    .dataframe tbody tr th:only-of-type {\n",
       "        vertical-align: middle;\n",
       "    }\n",
       "\n",
       "    .dataframe tbody tr th {\n",
       "        vertical-align: top;\n",
       "    }\n",
       "\n",
       "    .dataframe thead tr th {\n",
       "        text-align: left;\n",
       "    }\n",
       "\n",
       "    .dataframe thead tr:last-of-type th {\n",
       "        text-align: right;\n",
       "    }\n",
       "</style>\n",
       "<table border=\"1\" class=\"dataframe\">\n",
       "  <thead>\n",
       "    <tr>\n",
       "      <th></th>\n",
       "      <th></th>\n",
       "      <th colspan=\"21\" halign=\"left\">item_cnt_day</th>\n",
       "    </tr>\n",
       "    <tr>\n",
       "      <th></th>\n",
       "      <th>date_block_num</th>\n",
       "      <th>0</th>\n",
       "      <th>1</th>\n",
       "      <th>2</th>\n",
       "      <th>3</th>\n",
       "      <th>4</th>\n",
       "      <th>5</th>\n",
       "      <th>6</th>\n",
       "      <th>7</th>\n",
       "      <th>8</th>\n",
       "      <th>9</th>\n",
       "      <th>...</th>\n",
       "      <th>24</th>\n",
       "      <th>25</th>\n",
       "      <th>26</th>\n",
       "      <th>27</th>\n",
       "      <th>28</th>\n",
       "      <th>29</th>\n",
       "      <th>30</th>\n",
       "      <th>31</th>\n",
       "      <th>32</th>\n",
       "      <th>33</th>\n",
       "    </tr>\n",
       "    <tr>\n",
       "      <th>shop_id</th>\n",
       "      <th>item_id</th>\n",
       "      <th></th>\n",
       "      <th></th>\n",
       "      <th></th>\n",
       "      <th></th>\n",
       "      <th></th>\n",
       "      <th></th>\n",
       "      <th></th>\n",
       "      <th></th>\n",
       "      <th></th>\n",
       "      <th></th>\n",
       "      <th></th>\n",
       "      <th></th>\n",
       "      <th></th>\n",
       "      <th></th>\n",
       "      <th></th>\n",
       "      <th></th>\n",
       "      <th></th>\n",
       "      <th></th>\n",
       "      <th></th>\n",
       "      <th></th>\n",
       "      <th></th>\n",
       "    </tr>\n",
       "  </thead>\n",
       "  <tbody>\n",
       "    <tr>\n",
       "      <th rowspan=\"11\" valign=\"top\">31</th>\n",
       "      <th>26</th>\n",
       "      <td>0</td>\n",
       "      <td>0</td>\n",
       "      <td>0</td>\n",
       "      <td>0</td>\n",
       "      <td>0</td>\n",
       "      <td>0</td>\n",
       "      <td>0</td>\n",
       "      <td>0</td>\n",
       "      <td>0</td>\n",
       "      <td>0</td>\n",
       "      <td>...</td>\n",
       "      <td>0</td>\n",
       "      <td>0</td>\n",
       "      <td>0</td>\n",
       "      <td>0</td>\n",
       "      <td>0</td>\n",
       "      <td>0</td>\n",
       "      <td>0</td>\n",
       "      <td>0</td>\n",
       "      <td>0</td>\n",
       "      <td>0</td>\n",
       "    </tr>\n",
       "    <tr>\n",
       "      <th>30</th>\n",
       "      <td>0</td>\n",
       "      <td>112</td>\n",
       "      <td>65</td>\n",
       "      <td>13</td>\n",
       "      <td>10</td>\n",
       "      <td>3</td>\n",
       "      <td>4</td>\n",
       "      <td>1</td>\n",
       "      <td>4</td>\n",
       "      <td>2</td>\n",
       "      <td>...</td>\n",
       "      <td>1</td>\n",
       "      <td>1</td>\n",
       "      <td>1</td>\n",
       "      <td>0</td>\n",
       "      <td>0</td>\n",
       "      <td>0</td>\n",
       "      <td>0</td>\n",
       "      <td>0</td>\n",
       "      <td>0</td>\n",
       "      <td>1</td>\n",
       "    </tr>\n",
       "    <tr>\n",
       "      <th>32</th>\n",
       "      <td>24</td>\n",
       "      <td>20</td>\n",
       "      <td>13</td>\n",
       "      <td>11</td>\n",
       "      <td>6</td>\n",
       "      <td>11</td>\n",
       "      <td>10</td>\n",
       "      <td>9</td>\n",
       "      <td>2</td>\n",
       "      <td>7</td>\n",
       "      <td>...</td>\n",
       "      <td>11</td>\n",
       "      <td>5</td>\n",
       "      <td>10</td>\n",
       "      <td>2</td>\n",
       "      <td>3</td>\n",
       "      <td>6</td>\n",
       "      <td>5</td>\n",
       "      <td>5</td>\n",
       "      <td>3</td>\n",
       "      <td>3</td>\n",
       "    </tr>\n",
       "    <tr>\n",
       "      <th>34</th>\n",
       "      <td>0</td>\n",
       "      <td>1</td>\n",
       "      <td>1</td>\n",
       "      <td>2</td>\n",
       "      <td>0</td>\n",
       "      <td>1</td>\n",
       "      <td>0</td>\n",
       "      <td>1</td>\n",
       "      <td>0</td>\n",
       "      <td>1</td>\n",
       "      <td>...</td>\n",
       "      <td>0</td>\n",
       "      <td>0</td>\n",
       "      <td>0</td>\n",
       "      <td>0</td>\n",
       "      <td>0</td>\n",
       "      <td>0</td>\n",
       "      <td>0</td>\n",
       "      <td>0</td>\n",
       "      <td>0</td>\n",
       "      <td>0</td>\n",
       "    </tr>\n",
       "    <tr>\n",
       "      <th>35</th>\n",
       "      <td>5</td>\n",
       "      <td>4</td>\n",
       "      <td>2</td>\n",
       "      <td>0</td>\n",
       "      <td>0</td>\n",
       "      <td>0</td>\n",
       "      <td>0</td>\n",
       "      <td>0</td>\n",
       "      <td>0</td>\n",
       "      <td>0</td>\n",
       "      <td>...</td>\n",
       "      <td>0</td>\n",
       "      <td>0</td>\n",
       "      <td>0</td>\n",
       "      <td>0</td>\n",
       "      <td>0</td>\n",
       "      <td>0</td>\n",
       "      <td>0</td>\n",
       "      <td>0</td>\n",
       "      <td>0</td>\n",
       "      <td>0</td>\n",
       "    </tr>\n",
       "    <tr>\n",
       "      <th>...</th>\n",
       "      <td>...</td>\n",
       "      <td>...</td>\n",
       "      <td>...</td>\n",
       "      <td>...</td>\n",
       "      <td>...</td>\n",
       "      <td>...</td>\n",
       "      <td>...</td>\n",
       "      <td>...</td>\n",
       "      <td>...</td>\n",
       "      <td>...</td>\n",
       "      <td>...</td>\n",
       "      <td>...</td>\n",
       "      <td>...</td>\n",
       "      <td>...</td>\n",
       "      <td>...</td>\n",
       "      <td>...</td>\n",
       "      <td>...</td>\n",
       "      <td>...</td>\n",
       "      <td>...</td>\n",
       "      <td>...</td>\n",
       "      <td>...</td>\n",
       "    </tr>\n",
       "    <tr>\n",
       "      <th>22152</th>\n",
       "      <td>0</td>\n",
       "      <td>0</td>\n",
       "      <td>0</td>\n",
       "      <td>5</td>\n",
       "      <td>0</td>\n",
       "      <td>1</td>\n",
       "      <td>1</td>\n",
       "      <td>0</td>\n",
       "      <td>0</td>\n",
       "      <td>0</td>\n",
       "      <td>...</td>\n",
       "      <td>0</td>\n",
       "      <td>0</td>\n",
       "      <td>0</td>\n",
       "      <td>0</td>\n",
       "      <td>0</td>\n",
       "      <td>0</td>\n",
       "      <td>0</td>\n",
       "      <td>0</td>\n",
       "      <td>0</td>\n",
       "      <td>0</td>\n",
       "    </tr>\n",
       "    <tr>\n",
       "      <th>22159</th>\n",
       "      <td>0</td>\n",
       "      <td>0</td>\n",
       "      <td>0</td>\n",
       "      <td>0</td>\n",
       "      <td>0</td>\n",
       "      <td>0</td>\n",
       "      <td>0</td>\n",
       "      <td>0</td>\n",
       "      <td>0</td>\n",
       "      <td>0</td>\n",
       "      <td>...</td>\n",
       "      <td>0</td>\n",
       "      <td>0</td>\n",
       "      <td>0</td>\n",
       "      <td>0</td>\n",
       "      <td>3</td>\n",
       "      <td>1</td>\n",
       "      <td>0</td>\n",
       "      <td>0</td>\n",
       "      <td>0</td>\n",
       "      <td>0</td>\n",
       "    </tr>\n",
       "    <tr>\n",
       "      <th>22160</th>\n",
       "      <td>1</td>\n",
       "      <td>2</td>\n",
       "      <td>2</td>\n",
       "      <td>0</td>\n",
       "      <td>1</td>\n",
       "      <td>2</td>\n",
       "      <td>0</td>\n",
       "      <td>1</td>\n",
       "      <td>1</td>\n",
       "      <td>0</td>\n",
       "      <td>...</td>\n",
       "      <td>0</td>\n",
       "      <td>0</td>\n",
       "      <td>0</td>\n",
       "      <td>0</td>\n",
       "      <td>0</td>\n",
       "      <td>0</td>\n",
       "      <td>0</td>\n",
       "      <td>0</td>\n",
       "      <td>0</td>\n",
       "      <td>0</td>\n",
       "    </tr>\n",
       "    <tr>\n",
       "      <th>22162</th>\n",
       "      <td>0</td>\n",
       "      <td>0</td>\n",
       "      <td>0</td>\n",
       "      <td>0</td>\n",
       "      <td>0</td>\n",
       "      <td>0</td>\n",
       "      <td>0</td>\n",
       "      <td>0</td>\n",
       "      <td>0</td>\n",
       "      <td>0</td>\n",
       "      <td>...</td>\n",
       "      <td>0</td>\n",
       "      <td>32</td>\n",
       "      <td>25</td>\n",
       "      <td>7</td>\n",
       "      <td>2</td>\n",
       "      <td>4</td>\n",
       "      <td>4</td>\n",
       "      <td>5</td>\n",
       "      <td>0</td>\n",
       "      <td>1</td>\n",
       "    </tr>\n",
       "    <tr>\n",
       "      <th>22163</th>\n",
       "      <td>0</td>\n",
       "      <td>0</td>\n",
       "      <td>0</td>\n",
       "      <td>0</td>\n",
       "      <td>0</td>\n",
       "      <td>0</td>\n",
       "      <td>0</td>\n",
       "      <td>0</td>\n",
       "      <td>0</td>\n",
       "      <td>0</td>\n",
       "      <td>...</td>\n",
       "      <td>0</td>\n",
       "      <td>0</td>\n",
       "      <td>0</td>\n",
       "      <td>0</td>\n",
       "      <td>0</td>\n",
       "      <td>0</td>\n",
       "      <td>0</td>\n",
       "      <td>8</td>\n",
       "      <td>5</td>\n",
       "      <td>6</td>\n",
       "    </tr>\n",
       "  </tbody>\n",
       "</table>\n",
       "<p>4150 rows × 34 columns</p>\n",
       "</div>"
      ],
      "text/plain": [
       "                item_cnt_day                                    ...          \\\n",
       "date_block_num            0    1   2   3   4   5   6  7  8  9   ...  24  25   \n",
       "shop_id item_id                                                 ...           \n",
       "31      26                 0    0   0   0   0   0   0  0  0  0  ...   0   0   \n",
       "        30                 0  112  65  13  10   3   4  1  4  2  ...   1   1   \n",
       "        32                24   20  13  11   6  11  10  9  2  7  ...  11   5   \n",
       "        34                 0    1   1   2   0   1   0  1  0  1  ...   0   0   \n",
       "        35                 5    4   2   0   0   0   0  0  0  0  ...   0   0   \n",
       "...                      ...  ...  ..  ..  ..  ..  .. .. .. ..  ...  ..  ..   \n",
       "        22152              0    0   0   5   0   1   1  0  0  0  ...   0   0   \n",
       "        22159              0    0   0   0   0   0   0  0  0  0  ...   0   0   \n",
       "        22160              1    2   2   0   1   2   0  1  1  0  ...   0   0   \n",
       "        22162              0    0   0   0   0   0   0  0  0  0  ...   0  32   \n",
       "        22163              0    0   0   0   0   0   0  0  0  0  ...   0   0   \n",
       "\n",
       "                                          \n",
       "date_block_num   26 27 28 29 30 31 32 33  \n",
       "shop_id item_id                           \n",
       "31      26        0  0  0  0  0  0  0  0  \n",
       "        30        1  0  0  0  0  0  0  1  \n",
       "        32       10  2  3  6  5  5  3  3  \n",
       "        34        0  0  0  0  0  0  0  0  \n",
       "        35        0  0  0  0  0  0  0  0  \n",
       "...              .. .. .. .. .. .. .. ..  \n",
       "        22152     0  0  0  0  0  0  0  0  \n",
       "        22159     0  0  3  1  0  0  0  0  \n",
       "        22160     0  0  0  0  0  0  0  0  \n",
       "        22162    25  7  2  4  4  5  0  1  \n",
       "        22163     0  0  0  0  0  8  5  6  \n",
       "\n",
       "[4150 rows x 34 columns]"
      ]
     },
     "execution_count": 66,
     "metadata": {},
     "output_type": "execute_result"
    }
   ],
   "source": [
    "monthly_data = df.pivot_table(\n",
    "    index = ['shop_id','item_id'],\n",
    "    values = ['item_cnt_day'],\n",
    "    columns = ['date_block_num'],\n",
    "    fill_value = 0,\n",
    "    aggfunc='sum')\n",
    "\n",
    "monthly_data"
   ]
  },
  {
   "cell_type": "code",
   "execution_count": 68,
   "metadata": {},
   "outputs": [
    {
     "data": {
      "text/html": [
       "<div>\n",
       "<style scoped>\n",
       "    .dataframe tbody tr th:only-of-type {\n",
       "        vertical-align: middle;\n",
       "    }\n",
       "\n",
       "    .dataframe tbody tr th {\n",
       "        vertical-align: top;\n",
       "    }\n",
       "\n",
       "    .dataframe thead tr th {\n",
       "        text-align: left;\n",
       "    }\n",
       "\n",
       "    .dataframe thead tr:last-of-type th {\n",
       "        text-align: right;\n",
       "    }\n",
       "</style>\n",
       "<table border=\"1\" class=\"dataframe\">\n",
       "  <thead>\n",
       "    <tr>\n",
       "      <th></th>\n",
       "      <th></th>\n",
       "      <th colspan=\"21\" halign=\"left\">item_cnt_day</th>\n",
       "    </tr>\n",
       "    <tr>\n",
       "      <th></th>\n",
       "      <th>date_block_num</th>\n",
       "      <th>0</th>\n",
       "      <th>1</th>\n",
       "      <th>2</th>\n",
       "      <th>3</th>\n",
       "      <th>4</th>\n",
       "      <th>5</th>\n",
       "      <th>6</th>\n",
       "      <th>7</th>\n",
       "      <th>8</th>\n",
       "      <th>9</th>\n",
       "      <th>...</th>\n",
       "      <th>24</th>\n",
       "      <th>25</th>\n",
       "      <th>26</th>\n",
       "      <th>27</th>\n",
       "      <th>28</th>\n",
       "      <th>29</th>\n",
       "      <th>30</th>\n",
       "      <th>31</th>\n",
       "      <th>32</th>\n",
       "      <th>33</th>\n",
       "    </tr>\n",
       "    <tr>\n",
       "      <th>shop_id</th>\n",
       "      <th>item_id</th>\n",
       "      <th></th>\n",
       "      <th></th>\n",
       "      <th></th>\n",
       "      <th></th>\n",
       "      <th></th>\n",
       "      <th></th>\n",
       "      <th></th>\n",
       "      <th></th>\n",
       "      <th></th>\n",
       "      <th></th>\n",
       "      <th></th>\n",
       "      <th></th>\n",
       "      <th></th>\n",
       "      <th></th>\n",
       "      <th></th>\n",
       "      <th></th>\n",
       "      <th></th>\n",
       "      <th></th>\n",
       "      <th></th>\n",
       "      <th></th>\n",
       "      <th></th>\n",
       "    </tr>\n",
       "  </thead>\n",
       "  <tbody>\n",
       "    <tr>\n",
       "      <th rowspan=\"11\" valign=\"top\">31</th>\n",
       "      <th>26</th>\n",
       "      <td>0</td>\n",
       "      <td>0</td>\n",
       "      <td>0</td>\n",
       "      <td>0</td>\n",
       "      <td>0</td>\n",
       "      <td>0</td>\n",
       "      <td>0</td>\n",
       "      <td>0</td>\n",
       "      <td>0</td>\n",
       "      <td>0</td>\n",
       "      <td>...</td>\n",
       "      <td>0</td>\n",
       "      <td>0</td>\n",
       "      <td>0</td>\n",
       "      <td>0</td>\n",
       "      <td>0</td>\n",
       "      <td>0</td>\n",
       "      <td>0</td>\n",
       "      <td>0</td>\n",
       "      <td>0</td>\n",
       "      <td>0</td>\n",
       "    </tr>\n",
       "    <tr>\n",
       "      <th>30</th>\n",
       "      <td>0</td>\n",
       "      <td>112</td>\n",
       "      <td>65</td>\n",
       "      <td>13</td>\n",
       "      <td>10</td>\n",
       "      <td>3</td>\n",
       "      <td>4</td>\n",
       "      <td>1</td>\n",
       "      <td>4</td>\n",
       "      <td>2</td>\n",
       "      <td>...</td>\n",
       "      <td>1</td>\n",
       "      <td>1</td>\n",
       "      <td>1</td>\n",
       "      <td>0</td>\n",
       "      <td>0</td>\n",
       "      <td>0</td>\n",
       "      <td>0</td>\n",
       "      <td>0</td>\n",
       "      <td>0</td>\n",
       "      <td>1</td>\n",
       "    </tr>\n",
       "    <tr>\n",
       "      <th>32</th>\n",
       "      <td>24</td>\n",
       "      <td>20</td>\n",
       "      <td>13</td>\n",
       "      <td>11</td>\n",
       "      <td>6</td>\n",
       "      <td>11</td>\n",
       "      <td>10</td>\n",
       "      <td>9</td>\n",
       "      <td>2</td>\n",
       "      <td>7</td>\n",
       "      <td>...</td>\n",
       "      <td>11</td>\n",
       "      <td>5</td>\n",
       "      <td>10</td>\n",
       "      <td>2</td>\n",
       "      <td>3</td>\n",
       "      <td>6</td>\n",
       "      <td>5</td>\n",
       "      <td>5</td>\n",
       "      <td>3</td>\n",
       "      <td>3</td>\n",
       "    </tr>\n",
       "    <tr>\n",
       "      <th>34</th>\n",
       "      <td>0</td>\n",
       "      <td>1</td>\n",
       "      <td>1</td>\n",
       "      <td>2</td>\n",
       "      <td>0</td>\n",
       "      <td>1</td>\n",
       "      <td>0</td>\n",
       "      <td>1</td>\n",
       "      <td>0</td>\n",
       "      <td>1</td>\n",
       "      <td>...</td>\n",
       "      <td>0</td>\n",
       "      <td>0</td>\n",
       "      <td>0</td>\n",
       "      <td>0</td>\n",
       "      <td>0</td>\n",
       "      <td>0</td>\n",
       "      <td>0</td>\n",
       "      <td>0</td>\n",
       "      <td>0</td>\n",
       "      <td>0</td>\n",
       "    </tr>\n",
       "    <tr>\n",
       "      <th>35</th>\n",
       "      <td>5</td>\n",
       "      <td>4</td>\n",
       "      <td>2</td>\n",
       "      <td>0</td>\n",
       "      <td>0</td>\n",
       "      <td>0</td>\n",
       "      <td>0</td>\n",
       "      <td>0</td>\n",
       "      <td>0</td>\n",
       "      <td>0</td>\n",
       "      <td>...</td>\n",
       "      <td>0</td>\n",
       "      <td>0</td>\n",
       "      <td>0</td>\n",
       "      <td>0</td>\n",
       "      <td>0</td>\n",
       "      <td>0</td>\n",
       "      <td>0</td>\n",
       "      <td>0</td>\n",
       "      <td>0</td>\n",
       "      <td>0</td>\n",
       "    </tr>\n",
       "    <tr>\n",
       "      <th>...</th>\n",
       "      <td>...</td>\n",
       "      <td>...</td>\n",
       "      <td>...</td>\n",
       "      <td>...</td>\n",
       "      <td>...</td>\n",
       "      <td>...</td>\n",
       "      <td>...</td>\n",
       "      <td>...</td>\n",
       "      <td>...</td>\n",
       "      <td>...</td>\n",
       "      <td>...</td>\n",
       "      <td>...</td>\n",
       "      <td>...</td>\n",
       "      <td>...</td>\n",
       "      <td>...</td>\n",
       "      <td>...</td>\n",
       "      <td>...</td>\n",
       "      <td>...</td>\n",
       "      <td>...</td>\n",
       "      <td>...</td>\n",
       "      <td>...</td>\n",
       "    </tr>\n",
       "    <tr>\n",
       "      <th>22152</th>\n",
       "      <td>0</td>\n",
       "      <td>0</td>\n",
       "      <td>0</td>\n",
       "      <td>5</td>\n",
       "      <td>0</td>\n",
       "      <td>1</td>\n",
       "      <td>1</td>\n",
       "      <td>0</td>\n",
       "      <td>0</td>\n",
       "      <td>0</td>\n",
       "      <td>...</td>\n",
       "      <td>0</td>\n",
       "      <td>0</td>\n",
       "      <td>0</td>\n",
       "      <td>0</td>\n",
       "      <td>0</td>\n",
       "      <td>0</td>\n",
       "      <td>0</td>\n",
       "      <td>0</td>\n",
       "      <td>0</td>\n",
       "      <td>0</td>\n",
       "    </tr>\n",
       "    <tr>\n",
       "      <th>22159</th>\n",
       "      <td>0</td>\n",
       "      <td>0</td>\n",
       "      <td>0</td>\n",
       "      <td>0</td>\n",
       "      <td>0</td>\n",
       "      <td>0</td>\n",
       "      <td>0</td>\n",
       "      <td>0</td>\n",
       "      <td>0</td>\n",
       "      <td>0</td>\n",
       "      <td>...</td>\n",
       "      <td>0</td>\n",
       "      <td>0</td>\n",
       "      <td>0</td>\n",
       "      <td>0</td>\n",
       "      <td>3</td>\n",
       "      <td>1</td>\n",
       "      <td>0</td>\n",
       "      <td>0</td>\n",
       "      <td>0</td>\n",
       "      <td>0</td>\n",
       "    </tr>\n",
       "    <tr>\n",
       "      <th>22160</th>\n",
       "      <td>1</td>\n",
       "      <td>2</td>\n",
       "      <td>2</td>\n",
       "      <td>0</td>\n",
       "      <td>1</td>\n",
       "      <td>2</td>\n",
       "      <td>0</td>\n",
       "      <td>1</td>\n",
       "      <td>1</td>\n",
       "      <td>0</td>\n",
       "      <td>...</td>\n",
       "      <td>0</td>\n",
       "      <td>0</td>\n",
       "      <td>0</td>\n",
       "      <td>0</td>\n",
       "      <td>0</td>\n",
       "      <td>0</td>\n",
       "      <td>0</td>\n",
       "      <td>0</td>\n",
       "      <td>0</td>\n",
       "      <td>0</td>\n",
       "    </tr>\n",
       "    <tr>\n",
       "      <th>22162</th>\n",
       "      <td>0</td>\n",
       "      <td>0</td>\n",
       "      <td>0</td>\n",
       "      <td>0</td>\n",
       "      <td>0</td>\n",
       "      <td>0</td>\n",
       "      <td>0</td>\n",
       "      <td>0</td>\n",
       "      <td>0</td>\n",
       "      <td>0</td>\n",
       "      <td>...</td>\n",
       "      <td>0</td>\n",
       "      <td>32</td>\n",
       "      <td>25</td>\n",
       "      <td>7</td>\n",
       "      <td>2</td>\n",
       "      <td>4</td>\n",
       "      <td>4</td>\n",
       "      <td>5</td>\n",
       "      <td>0</td>\n",
       "      <td>1</td>\n",
       "    </tr>\n",
       "    <tr>\n",
       "      <th>22163</th>\n",
       "      <td>0</td>\n",
       "      <td>0</td>\n",
       "      <td>0</td>\n",
       "      <td>0</td>\n",
       "      <td>0</td>\n",
       "      <td>0</td>\n",
       "      <td>0</td>\n",
       "      <td>0</td>\n",
       "      <td>0</td>\n",
       "      <td>0</td>\n",
       "      <td>...</td>\n",
       "      <td>0</td>\n",
       "      <td>0</td>\n",
       "      <td>0</td>\n",
       "      <td>0</td>\n",
       "      <td>0</td>\n",
       "      <td>0</td>\n",
       "      <td>0</td>\n",
       "      <td>8</td>\n",
       "      <td>5</td>\n",
       "      <td>6</td>\n",
       "    </tr>\n",
       "  </tbody>\n",
       "</table>\n",
       "<p>4150 rows × 34 columns</p>\n",
       "</div>"
      ],
      "text/plain": [
       "                item_cnt_day                                    ...          \\\n",
       "date_block_num            0    1   2   3   4   5   6  7  8  9   ...  24  25   \n",
       "shop_id item_id                                                 ...           \n",
       "31      26                 0    0   0   0   0   0   0  0  0  0  ...   0   0   \n",
       "        30                 0  112  65  13  10   3   4  1  4  2  ...   1   1   \n",
       "        32                24   20  13  11   6  11  10  9  2  7  ...  11   5   \n",
       "        34                 0    1   1   2   0   1   0  1  0  1  ...   0   0   \n",
       "        35                 5    4   2   0   0   0   0  0  0  0  ...   0   0   \n",
       "...                      ...  ...  ..  ..  ..  ..  .. .. .. ..  ...  ..  ..   \n",
       "        22152              0    0   0   5   0   1   1  0  0  0  ...   0   0   \n",
       "        22159              0    0   0   0   0   0   0  0  0  0  ...   0   0   \n",
       "        22160              1    2   2   0   1   2   0  1  1  0  ...   0   0   \n",
       "        22162              0    0   0   0   0   0   0  0  0  0  ...   0  32   \n",
       "        22163              0    0   0   0   0   0   0  0  0  0  ...   0   0   \n",
       "\n",
       "                                          \n",
       "date_block_num   26 27 28 29 30 31 32 33  \n",
       "shop_id item_id                           \n",
       "31      26        0  0  0  0  0  0  0  0  \n",
       "        30        1  0  0  0  0  0  0  1  \n",
       "        32       10  2  3  6  5  5  3  3  \n",
       "        34        0  0  0  0  0  0  0  0  \n",
       "        35        0  0  0  0  0  0  0  0  \n",
       "...              .. .. .. .. .. .. .. ..  \n",
       "        22152     0  0  0  0  0  0  0  0  \n",
       "        22159     0  0  3  1  0  0  0  0  \n",
       "        22160     0  0  0  0  0  0  0  0  \n",
       "        22162    25  7  2  4  4  5  0  1  \n",
       "        22163     0  0  0  0  0  8  5  6  \n",
       "\n",
       "[4150 rows x 34 columns]"
      ]
     },
     "execution_count": 68,
     "metadata": {},
     "output_type": "execute_result"
    }
   ],
   "source": [
    "monthly_data = df.pivot_table(\n",
    "    index = ['shop_id','item_id'],\n",
    "    values = ['item_cnt_day'],\n",
    "    columns = ['date_block_num'],\n",
    "    fill_value = 0,\n",
    "    aggfunc='sum')\n",
    "\n",
    "monthly_data"
   ]
  },
  {
   "cell_type": "code",
   "execution_count": 72,
   "metadata": {},
   "outputs": [
    {
     "data": {
      "text/html": [
       "<div>\n",
       "<style scoped>\n",
       "    .dataframe tbody tr th:only-of-type {\n",
       "        vertical-align: middle;\n",
       "    }\n",
       "\n",
       "    .dataframe tbody tr th {\n",
       "        vertical-align: top;\n",
       "    }\n",
       "\n",
       "    .dataframe thead tr th {\n",
       "        text-align: left;\n",
       "    }\n",
       "\n",
       "    .dataframe thead tr:last-of-type th {\n",
       "        text-align: right;\n",
       "    }\n",
       "</style>\n",
       "<table border=\"1\" class=\"dataframe\">\n",
       "  <thead>\n",
       "    <tr>\n",
       "      <th></th>\n",
       "      <th></th>\n",
       "      <th colspan=\"21\" halign=\"left\">item_cnt_day</th>\n",
       "    </tr>\n",
       "    <tr>\n",
       "      <th></th>\n",
       "      <th>date_block_num</th>\n",
       "      <th>0</th>\n",
       "      <th>1</th>\n",
       "      <th>2</th>\n",
       "      <th>3</th>\n",
       "      <th>4</th>\n",
       "      <th>5</th>\n",
       "      <th>6</th>\n",
       "      <th>7</th>\n",
       "      <th>8</th>\n",
       "      <th>9</th>\n",
       "      <th>...</th>\n",
       "      <th>24</th>\n",
       "      <th>25</th>\n",
       "      <th>26</th>\n",
       "      <th>27</th>\n",
       "      <th>28</th>\n",
       "      <th>29</th>\n",
       "      <th>30</th>\n",
       "      <th>31</th>\n",
       "      <th>32</th>\n",
       "      <th>33</th>\n",
       "    </tr>\n",
       "    <tr>\n",
       "      <th>shop_id</th>\n",
       "      <th>item_id</th>\n",
       "      <th></th>\n",
       "      <th></th>\n",
       "      <th></th>\n",
       "      <th></th>\n",
       "      <th></th>\n",
       "      <th></th>\n",
       "      <th></th>\n",
       "      <th></th>\n",
       "      <th></th>\n",
       "      <th></th>\n",
       "      <th></th>\n",
       "      <th></th>\n",
       "      <th></th>\n",
       "      <th></th>\n",
       "      <th></th>\n",
       "      <th></th>\n",
       "      <th></th>\n",
       "      <th></th>\n",
       "      <th></th>\n",
       "      <th></th>\n",
       "      <th></th>\n",
       "    </tr>\n",
       "  </thead>\n",
       "  <tbody>\n",
       "    <tr>\n",
       "      <th rowspan=\"11\" valign=\"top\">31</th>\n",
       "      <th>26</th>\n",
       "      <td>0</td>\n",
       "      <td>0</td>\n",
       "      <td>0</td>\n",
       "      <td>0</td>\n",
       "      <td>0</td>\n",
       "      <td>0</td>\n",
       "      <td>0</td>\n",
       "      <td>0</td>\n",
       "      <td>0</td>\n",
       "      <td>0</td>\n",
       "      <td>...</td>\n",
       "      <td>0</td>\n",
       "      <td>0</td>\n",
       "      <td>0</td>\n",
       "      <td>0</td>\n",
       "      <td>0</td>\n",
       "      <td>0</td>\n",
       "      <td>0</td>\n",
       "      <td>0</td>\n",
       "      <td>0</td>\n",
       "      <td>0</td>\n",
       "    </tr>\n",
       "    <tr>\n",
       "      <th>30</th>\n",
       "      <td>0</td>\n",
       "      <td>112</td>\n",
       "      <td>65</td>\n",
       "      <td>13</td>\n",
       "      <td>10</td>\n",
       "      <td>3</td>\n",
       "      <td>4</td>\n",
       "      <td>1</td>\n",
       "      <td>4</td>\n",
       "      <td>2</td>\n",
       "      <td>...</td>\n",
       "      <td>1</td>\n",
       "      <td>1</td>\n",
       "      <td>1</td>\n",
       "      <td>0</td>\n",
       "      <td>0</td>\n",
       "      <td>0</td>\n",
       "      <td>0</td>\n",
       "      <td>0</td>\n",
       "      <td>0</td>\n",
       "      <td>1</td>\n",
       "    </tr>\n",
       "    <tr>\n",
       "      <th>32</th>\n",
       "      <td>24</td>\n",
       "      <td>20</td>\n",
       "      <td>13</td>\n",
       "      <td>11</td>\n",
       "      <td>6</td>\n",
       "      <td>11</td>\n",
       "      <td>10</td>\n",
       "      <td>9</td>\n",
       "      <td>2</td>\n",
       "      <td>7</td>\n",
       "      <td>...</td>\n",
       "      <td>11</td>\n",
       "      <td>5</td>\n",
       "      <td>10</td>\n",
       "      <td>2</td>\n",
       "      <td>3</td>\n",
       "      <td>6</td>\n",
       "      <td>5</td>\n",
       "      <td>5</td>\n",
       "      <td>3</td>\n",
       "      <td>3</td>\n",
       "    </tr>\n",
       "    <tr>\n",
       "      <th>34</th>\n",
       "      <td>0</td>\n",
       "      <td>1</td>\n",
       "      <td>1</td>\n",
       "      <td>2</td>\n",
       "      <td>0</td>\n",
       "      <td>1</td>\n",
       "      <td>0</td>\n",
       "      <td>1</td>\n",
       "      <td>0</td>\n",
       "      <td>1</td>\n",
       "      <td>...</td>\n",
       "      <td>0</td>\n",
       "      <td>0</td>\n",
       "      <td>0</td>\n",
       "      <td>0</td>\n",
       "      <td>0</td>\n",
       "      <td>0</td>\n",
       "      <td>0</td>\n",
       "      <td>0</td>\n",
       "      <td>0</td>\n",
       "      <td>0</td>\n",
       "    </tr>\n",
       "    <tr>\n",
       "      <th>35</th>\n",
       "      <td>5</td>\n",
       "      <td>4</td>\n",
       "      <td>2</td>\n",
       "      <td>0</td>\n",
       "      <td>0</td>\n",
       "      <td>0</td>\n",
       "      <td>0</td>\n",
       "      <td>0</td>\n",
       "      <td>0</td>\n",
       "      <td>0</td>\n",
       "      <td>...</td>\n",
       "      <td>0</td>\n",
       "      <td>0</td>\n",
       "      <td>0</td>\n",
       "      <td>0</td>\n",
       "      <td>0</td>\n",
       "      <td>0</td>\n",
       "      <td>0</td>\n",
       "      <td>0</td>\n",
       "      <td>0</td>\n",
       "      <td>0</td>\n",
       "    </tr>\n",
       "    <tr>\n",
       "      <th>...</th>\n",
       "      <td>...</td>\n",
       "      <td>...</td>\n",
       "      <td>...</td>\n",
       "      <td>...</td>\n",
       "      <td>...</td>\n",
       "      <td>...</td>\n",
       "      <td>...</td>\n",
       "      <td>...</td>\n",
       "      <td>...</td>\n",
       "      <td>...</td>\n",
       "      <td>...</td>\n",
       "      <td>...</td>\n",
       "      <td>...</td>\n",
       "      <td>...</td>\n",
       "      <td>...</td>\n",
       "      <td>...</td>\n",
       "      <td>...</td>\n",
       "      <td>...</td>\n",
       "      <td>...</td>\n",
       "      <td>...</td>\n",
       "      <td>...</td>\n",
       "    </tr>\n",
       "    <tr>\n",
       "      <th>22152</th>\n",
       "      <td>0</td>\n",
       "      <td>0</td>\n",
       "      <td>0</td>\n",
       "      <td>5</td>\n",
       "      <td>0</td>\n",
       "      <td>1</td>\n",
       "      <td>1</td>\n",
       "      <td>0</td>\n",
       "      <td>0</td>\n",
       "      <td>0</td>\n",
       "      <td>...</td>\n",
       "      <td>0</td>\n",
       "      <td>0</td>\n",
       "      <td>0</td>\n",
       "      <td>0</td>\n",
       "      <td>0</td>\n",
       "      <td>0</td>\n",
       "      <td>0</td>\n",
       "      <td>0</td>\n",
       "      <td>0</td>\n",
       "      <td>0</td>\n",
       "    </tr>\n",
       "    <tr>\n",
       "      <th>22159</th>\n",
       "      <td>0</td>\n",
       "      <td>0</td>\n",
       "      <td>0</td>\n",
       "      <td>0</td>\n",
       "      <td>0</td>\n",
       "      <td>0</td>\n",
       "      <td>0</td>\n",
       "      <td>0</td>\n",
       "      <td>0</td>\n",
       "      <td>0</td>\n",
       "      <td>...</td>\n",
       "      <td>0</td>\n",
       "      <td>0</td>\n",
       "      <td>0</td>\n",
       "      <td>0</td>\n",
       "      <td>3</td>\n",
       "      <td>1</td>\n",
       "      <td>0</td>\n",
       "      <td>0</td>\n",
       "      <td>0</td>\n",
       "      <td>0</td>\n",
       "    </tr>\n",
       "    <tr>\n",
       "      <th>22160</th>\n",
       "      <td>1</td>\n",
       "      <td>2</td>\n",
       "      <td>2</td>\n",
       "      <td>0</td>\n",
       "      <td>1</td>\n",
       "      <td>2</td>\n",
       "      <td>0</td>\n",
       "      <td>1</td>\n",
       "      <td>1</td>\n",
       "      <td>0</td>\n",
       "      <td>...</td>\n",
       "      <td>0</td>\n",
       "      <td>0</td>\n",
       "      <td>0</td>\n",
       "      <td>0</td>\n",
       "      <td>0</td>\n",
       "      <td>0</td>\n",
       "      <td>0</td>\n",
       "      <td>0</td>\n",
       "      <td>0</td>\n",
       "      <td>0</td>\n",
       "    </tr>\n",
       "    <tr>\n",
       "      <th>22162</th>\n",
       "      <td>0</td>\n",
       "      <td>0</td>\n",
       "      <td>0</td>\n",
       "      <td>0</td>\n",
       "      <td>0</td>\n",
       "      <td>0</td>\n",
       "      <td>0</td>\n",
       "      <td>0</td>\n",
       "      <td>0</td>\n",
       "      <td>0</td>\n",
       "      <td>...</td>\n",
       "      <td>0</td>\n",
       "      <td>32</td>\n",
       "      <td>25</td>\n",
       "      <td>7</td>\n",
       "      <td>2</td>\n",
       "      <td>4</td>\n",
       "      <td>4</td>\n",
       "      <td>5</td>\n",
       "      <td>0</td>\n",
       "      <td>1</td>\n",
       "    </tr>\n",
       "    <tr>\n",
       "      <th>22163</th>\n",
       "      <td>0</td>\n",
       "      <td>0</td>\n",
       "      <td>0</td>\n",
       "      <td>0</td>\n",
       "      <td>0</td>\n",
       "      <td>0</td>\n",
       "      <td>0</td>\n",
       "      <td>0</td>\n",
       "      <td>0</td>\n",
       "      <td>0</td>\n",
       "      <td>...</td>\n",
       "      <td>0</td>\n",
       "      <td>0</td>\n",
       "      <td>0</td>\n",
       "      <td>0</td>\n",
       "      <td>0</td>\n",
       "      <td>0</td>\n",
       "      <td>0</td>\n",
       "      <td>8</td>\n",
       "      <td>5</td>\n",
       "      <td>6</td>\n",
       "    </tr>\n",
       "  </tbody>\n",
       "</table>\n",
       "<p>4150 rows × 34 columns</p>\n",
       "</div>"
      ],
      "text/plain": [
       "                item_cnt_day                                    ...          \\\n",
       "date_block_num            0    1   2   3   4   5   6  7  8  9   ...  24  25   \n",
       "shop_id item_id                                                 ...           \n",
       "31      26                 0    0   0   0   0   0   0  0  0  0  ...   0   0   \n",
       "        30                 0  112  65  13  10   3   4  1  4  2  ...   1   1   \n",
       "        32                24   20  13  11   6  11  10  9  2  7  ...  11   5   \n",
       "        34                 0    1   1   2   0   1   0  1  0  1  ...   0   0   \n",
       "        35                 5    4   2   0   0   0   0  0  0  0  ...   0   0   \n",
       "...                      ...  ...  ..  ..  ..  ..  .. .. .. ..  ...  ..  ..   \n",
       "        22152              0    0   0   5   0   1   1  0  0  0  ...   0   0   \n",
       "        22159              0    0   0   0   0   0   0  0  0  0  ...   0   0   \n",
       "        22160              1    2   2   0   1   2   0  1  1  0  ...   0   0   \n",
       "        22162              0    0   0   0   0   0   0  0  0  0  ...   0  32   \n",
       "        22163              0    0   0   0   0   0   0  0  0  0  ...   0   0   \n",
       "\n",
       "                                          \n",
       "date_block_num   26 27 28 29 30 31 32 33  \n",
       "shop_id item_id                           \n",
       "31      26        0  0  0  0  0  0  0  0  \n",
       "        30        1  0  0  0  0  0  0  1  \n",
       "        32       10  2  3  6  5  5  3  3  \n",
       "        34        0  0  0  0  0  0  0  0  \n",
       "        35        0  0  0  0  0  0  0  0  \n",
       "...              .. .. .. .. .. .. .. ..  \n",
       "        22152     0  0  0  0  0  0  0  0  \n",
       "        22159     0  0  3  1  0  0  0  0  \n",
       "        22160     0  0  0  0  0  0  0  0  \n",
       "        22162    25  7  2  4  4  5  0  1  \n",
       "        22163     0  0  0  0  0  8  5  6  \n",
       "\n",
       "[4150 rows x 34 columns]"
      ]
     },
     "execution_count": 72,
     "metadata": {},
     "output_type": "execute_result"
    }
   ],
   "source": [
    "dataset = df.pivot_table(index = ['shop_id','item_id'],values = ['item_cnt_day'],columns = ['date_block_num'],fill_value = 0,aggfunc='sum')\n",
    "dataset"
   ]
  },
  {
   "cell_type": "code",
   "execution_count": null,
   "metadata": {},
   "outputs": [],
   "source": []
  },
  {
   "cell_type": "markdown",
   "metadata": {
    "id": "POzUxPaAANYX"
   },
   "source": [
    "#Xử lý dữ liệu \n"
   ]
  },
  {
   "cell_type": "code",
   "execution_count": 30,
   "metadata": {
    "colab": {
     "base_uri": "https://localhost:8080/",
     "height": 331
    },
    "executionInfo": {
     "elapsed": 47,
     "status": "ok",
     "timestamp": 1662472003913,
     "user": {
      "displayName": "Hùng Vũ",
      "userId": "15544968674983004342"
     },
     "user_tz": -420
    },
    "id": "2N7NyF9etdQB",
    "outputId": "84f81f9e-b797-49a1-ec7a-e7bbaaccc2ef",
    "scrolled": true
   },
   "outputs": [
    {
     "data": {
      "text/html": [
       "<div>\n",
       "<style scoped>\n",
       "    .dataframe tbody tr th:only-of-type {\n",
       "        vertical-align: middle;\n",
       "    }\n",
       "\n",
       "    .dataframe tbody tr th {\n",
       "        vertical-align: top;\n",
       "    }\n",
       "\n",
       "    .dataframe thead th {\n",
       "        text-align: right;\n",
       "    }\n",
       "</style>\n",
       "<table border=\"1\" class=\"dataframe\">\n",
       "  <thead>\n",
       "    <tr style=\"text-align: right;\">\n",
       "      <th></th>\n",
       "      <th>date</th>\n",
       "      <th>date_block_num</th>\n",
       "      <th>shop_id</th>\n",
       "      <th>item_id</th>\n",
       "      <th>item_price</th>\n",
       "      <th>item_cnt_day</th>\n",
       "      <th>shop_name</th>\n",
       "      <th>item_category_name</th>\n",
       "      <th>item_category_id</th>\n",
       "      <th>item_name</th>\n",
       "      <th>year</th>\n",
       "      <th>month</th>\n",
       "    </tr>\n",
       "  </thead>\n",
       "  <tbody>\n",
       "    <tr>\n",
       "      <th>533915</th>\n",
       "      <td>2013-01-30</td>\n",
       "      <td>0</td>\n",
       "      <td>31</td>\n",
       "      <td>35</td>\n",
       "      <td>399.0</td>\n",
       "      <td>2.0</td>\n",
       "      <td>Москва ТЦ \"Семеновский\"</td>\n",
       "      <td>Кино - DVD</td>\n",
       "      <td>40</td>\n",
       "      <td>10 ЛЕТ СПУСТЯ</td>\n",
       "      <td>2013</td>\n",
       "      <td>01</td>\n",
       "    </tr>\n",
       "    <tr>\n",
       "      <th>533916</th>\n",
       "      <td>2013-01-25</td>\n",
       "      <td>0</td>\n",
       "      <td>31</td>\n",
       "      <td>35</td>\n",
       "      <td>399.0</td>\n",
       "      <td>1.0</td>\n",
       "      <td>Москва ТЦ \"Семеновский\"</td>\n",
       "      <td>Кино - DVD</td>\n",
       "      <td>40</td>\n",
       "      <td>10 ЛЕТ СПУСТЯ</td>\n",
       "      <td>2013</td>\n",
       "      <td>01</td>\n",
       "    </tr>\n",
       "    <tr>\n",
       "      <th>533917</th>\n",
       "      <td>2013-01-23</td>\n",
       "      <td>0</td>\n",
       "      <td>31</td>\n",
       "      <td>35</td>\n",
       "      <td>399.0</td>\n",
       "      <td>2.0</td>\n",
       "      <td>Москва ТЦ \"Семеновский\"</td>\n",
       "      <td>Кино - DVD</td>\n",
       "      <td>40</td>\n",
       "      <td>10 ЛЕТ СПУСТЯ</td>\n",
       "      <td>2013</td>\n",
       "      <td>01</td>\n",
       "    </tr>\n",
       "    <tr>\n",
       "      <th>533918</th>\n",
       "      <td>2013-02-02</td>\n",
       "      <td>1</td>\n",
       "      <td>31</td>\n",
       "      <td>35</td>\n",
       "      <td>399.0</td>\n",
       "      <td>1.0</td>\n",
       "      <td>Москва ТЦ \"Семеновский\"</td>\n",
       "      <td>Кино - DVD</td>\n",
       "      <td>40</td>\n",
       "      <td>10 ЛЕТ СПУСТЯ</td>\n",
       "      <td>2013</td>\n",
       "      <td>02</td>\n",
       "    </tr>\n",
       "    <tr>\n",
       "      <th>533919</th>\n",
       "      <td>2013-02-09</td>\n",
       "      <td>1</td>\n",
       "      <td>31</td>\n",
       "      <td>35</td>\n",
       "      <td>399.0</td>\n",
       "      <td>1.0</td>\n",
       "      <td>Москва ТЦ \"Семеновский\"</td>\n",
       "      <td>Кино - DVD</td>\n",
       "      <td>40</td>\n",
       "      <td>10 ЛЕТ СПУСТЯ</td>\n",
       "      <td>2013</td>\n",
       "      <td>02</td>\n",
       "    </tr>\n",
       "    <tr>\n",
       "      <th>533920</th>\n",
       "      <td>2013-02-18</td>\n",
       "      <td>1</td>\n",
       "      <td>31</td>\n",
       "      <td>35</td>\n",
       "      <td>399.0</td>\n",
       "      <td>1.0</td>\n",
       "      <td>Москва ТЦ \"Семеновский\"</td>\n",
       "      <td>Кино - DVD</td>\n",
       "      <td>40</td>\n",
       "      <td>10 ЛЕТ СПУСТЯ</td>\n",
       "      <td>2013</td>\n",
       "      <td>02</td>\n",
       "    </tr>\n",
       "    <tr>\n",
       "      <th>533921</th>\n",
       "      <td>2013-02-23</td>\n",
       "      <td>1</td>\n",
       "      <td>31</td>\n",
       "      <td>35</td>\n",
       "      <td>399.0</td>\n",
       "      <td>1.0</td>\n",
       "      <td>Москва ТЦ \"Семеновский\"</td>\n",
       "      <td>Кино - DVD</td>\n",
       "      <td>40</td>\n",
       "      <td>10 ЛЕТ СПУСТЯ</td>\n",
       "      <td>2013</td>\n",
       "      <td>02</td>\n",
       "    </tr>\n",
       "    <tr>\n",
       "      <th>533922</th>\n",
       "      <td>2013-03-27</td>\n",
       "      <td>2</td>\n",
       "      <td>31</td>\n",
       "      <td>35</td>\n",
       "      <td>399.0</td>\n",
       "      <td>1.0</td>\n",
       "      <td>Москва ТЦ \"Семеновский\"</td>\n",
       "      <td>Кино - DVD</td>\n",
       "      <td>40</td>\n",
       "      <td>10 ЛЕТ СПУСТЯ</td>\n",
       "      <td>2013</td>\n",
       "      <td>03</td>\n",
       "    </tr>\n",
       "    <tr>\n",
       "      <th>533923</th>\n",
       "      <td>2013-03-01</td>\n",
       "      <td>2</td>\n",
       "      <td>31</td>\n",
       "      <td>35</td>\n",
       "      <td>399.0</td>\n",
       "      <td>1.0</td>\n",
       "      <td>Москва ТЦ \"Семеновский\"</td>\n",
       "      <td>Кино - DVD</td>\n",
       "      <td>40</td>\n",
       "      <td>10 ЛЕТ СПУСТЯ</td>\n",
       "      <td>2013</td>\n",
       "      <td>03</td>\n",
       "    </tr>\n",
       "  </tbody>\n",
       "</table>\n",
       "</div>"
      ],
      "text/plain": [
       "             date  date_block_num  shop_id  item_id  item_price  item_cnt_day  \\\n",
       "533915 2013-01-30               0       31       35       399.0           2.0   \n",
       "533916 2013-01-25               0       31       35       399.0           1.0   \n",
       "533917 2013-01-23               0       31       35       399.0           2.0   \n",
       "533918 2013-02-02               1       31       35       399.0           1.0   \n",
       "533919 2013-02-09               1       31       35       399.0           1.0   \n",
       "533920 2013-02-18               1       31       35       399.0           1.0   \n",
       "533921 2013-02-23               1       31       35       399.0           1.0   \n",
       "533922 2013-03-27               2       31       35       399.0           1.0   \n",
       "533923 2013-03-01               2       31       35       399.0           1.0   \n",
       "\n",
       "                      shop_name item_category_name  item_category_id  \\\n",
       "533915  Москва ТЦ \"Семеновский\"         Кино - DVD                40   \n",
       "533916  Москва ТЦ \"Семеновский\"         Кино - DVD                40   \n",
       "533917  Москва ТЦ \"Семеновский\"         Кино - DVD                40   \n",
       "533918  Москва ТЦ \"Семеновский\"         Кино - DVD                40   \n",
       "533919  Москва ТЦ \"Семеновский\"         Кино - DVD                40   \n",
       "533920  Москва ТЦ \"Семеновский\"         Кино - DVD                40   \n",
       "533921  Москва ТЦ \"Семеновский\"         Кино - DVD                40   \n",
       "533922  Москва ТЦ \"Семеновский\"         Кино - DVD                40   \n",
       "533923  Москва ТЦ \"Семеновский\"         Кино - DVD                40   \n",
       "\n",
       "            item_name  year month  \n",
       "533915  10 ЛЕТ СПУСТЯ  2013    01  \n",
       "533916  10 ЛЕТ СПУСТЯ  2013    01  \n",
       "533917  10 ЛЕТ СПУСТЯ  2013    01  \n",
       "533918  10 ЛЕТ СПУСТЯ  2013    02  \n",
       "533919  10 ЛЕТ СПУСТЯ  2013    02  \n",
       "533920  10 ЛЕТ СПУСТЯ  2013    02  \n",
       "533921  10 ЛЕТ СПУСТЯ  2013    02  \n",
       "533922  10 ЛЕТ СПУСТЯ  2013    03  \n",
       "533923  10 ЛЕТ СПУСТЯ  2013    03  "
      ]
     },
     "execution_count": 30,
     "metadata": {},
     "output_type": "execute_result"
    }
   ],
   "source": [
    "df31_53 = df.loc[df['item_id']== 35]\n",
    "df31_53"
   ]
  },
  {
   "cell_type": "code",
   "execution_count": null,
   "metadata": {
    "executionInfo": {
     "elapsed": 43,
     "status": "ok",
     "timestamp": 1662472003914,
     "user": {
      "displayName": "Hùng Vũ",
      "userId": "15544968674983004342"
     },
     "user_tz": -420
    },
    "id": "GJ-y45vmtdE6"
   },
   "outputs": [],
   "source": []
  },
  {
   "cell_type": "code",
   "execution_count": 31,
   "metadata": {
    "colab": {
     "base_uri": "https://localhost:8080/",
     "height": 423
    },
    "executionInfo": {
     "elapsed": 43,
     "status": "ok",
     "timestamp": 1662472003915,
     "user": {
      "displayName": "Hùng Vũ",
      "userId": "15544968674983004342"
     },
     "user_tz": -420
    },
    "id": "SzLycaNy9Had",
    "outputId": "fc7a9c3b-cc49-453e-bf63-5cfc1c751189"
   },
   "outputs": [
    {
     "data": {
      "text/html": [
       "<div>\n",
       "<style scoped>\n",
       "    .dataframe tbody tr th:only-of-type {\n",
       "        vertical-align: middle;\n",
       "    }\n",
       "\n",
       "    .dataframe tbody tr th {\n",
       "        vertical-align: top;\n",
       "    }\n",
       "\n",
       "    .dataframe thead th {\n",
       "        text-align: right;\n",
       "    }\n",
       "</style>\n",
       "<table border=\"1\" class=\"dataframe\">\n",
       "  <thead>\n",
       "    <tr style=\"text-align: right;\">\n",
       "      <th></th>\n",
       "      <th>date_block_num</th>\n",
       "      <th>shop_id</th>\n",
       "      <th>item_id</th>\n",
       "      <th>sum</th>\n",
       "      <th>id</th>\n",
       "    </tr>\n",
       "  </thead>\n",
       "  <tbody>\n",
       "    <tr>\n",
       "      <th>0</th>\n",
       "      <td>0</td>\n",
       "      <td>31</td>\n",
       "      <td>32</td>\n",
       "      <td>24.0</td>\n",
       "      <td>0</td>\n",
       "    </tr>\n",
       "    <tr>\n",
       "      <th>1</th>\n",
       "      <td>0</td>\n",
       "      <td>31</td>\n",
       "      <td>35</td>\n",
       "      <td>5.0</td>\n",
       "      <td>1</td>\n",
       "    </tr>\n",
       "    <tr>\n",
       "      <th>2</th>\n",
       "      <td>0</td>\n",
       "      <td>31</td>\n",
       "      <td>72</td>\n",
       "      <td>1.0</td>\n",
       "      <td>2</td>\n",
       "    </tr>\n",
       "    <tr>\n",
       "      <th>3</th>\n",
       "      <td>0</td>\n",
       "      <td>31</td>\n",
       "      <td>75</td>\n",
       "      <td>1.0</td>\n",
       "      <td>3</td>\n",
       "    </tr>\n",
       "    <tr>\n",
       "      <th>4</th>\n",
       "      <td>0</td>\n",
       "      <td>31</td>\n",
       "      <td>94</td>\n",
       "      <td>1.0</td>\n",
       "      <td>4</td>\n",
       "    </tr>\n",
       "    <tr>\n",
       "      <th>...</th>\n",
       "      <td>...</td>\n",
       "      <td>...</td>\n",
       "      <td>...</td>\n",
       "      <td>...</td>\n",
       "      <td>...</td>\n",
       "    </tr>\n",
       "    <tr>\n",
       "      <th>26532</th>\n",
       "      <td>33</td>\n",
       "      <td>31</td>\n",
       "      <td>22051</td>\n",
       "      <td>1.0</td>\n",
       "      <td>26532</td>\n",
       "    </tr>\n",
       "    <tr>\n",
       "      <th>26533</th>\n",
       "      <td>33</td>\n",
       "      <td>31</td>\n",
       "      <td>22058</td>\n",
       "      <td>1.0</td>\n",
       "      <td>26533</td>\n",
       "    </tr>\n",
       "    <tr>\n",
       "      <th>26534</th>\n",
       "      <td>33</td>\n",
       "      <td>31</td>\n",
       "      <td>22072</td>\n",
       "      <td>1.0</td>\n",
       "      <td>26534</td>\n",
       "    </tr>\n",
       "    <tr>\n",
       "      <th>26535</th>\n",
       "      <td>33</td>\n",
       "      <td>31</td>\n",
       "      <td>22162</td>\n",
       "      <td>1.0</td>\n",
       "      <td>26535</td>\n",
       "    </tr>\n",
       "    <tr>\n",
       "      <th>26536</th>\n",
       "      <td>33</td>\n",
       "      <td>31</td>\n",
       "      <td>22163</td>\n",
       "      <td>6.0</td>\n",
       "      <td>26536</td>\n",
       "    </tr>\n",
       "  </tbody>\n",
       "</table>\n",
       "<p>26537 rows × 5 columns</p>\n",
       "</div>"
      ],
      "text/plain": [
       "       date_block_num  shop_id  item_id   sum     id\n",
       "0                   0       31       32  24.0      0\n",
       "1                   0       31       35   5.0      1\n",
       "2                   0       31       72   1.0      2\n",
       "3                   0       31       75   1.0      3\n",
       "4                   0       31       94   1.0      4\n",
       "...               ...      ...      ...   ...    ...\n",
       "26532              33       31    22051   1.0  26532\n",
       "26533              33       31    22058   1.0  26533\n",
       "26534              33       31    22072   1.0  26534\n",
       "26535              33       31    22162   1.0  26535\n",
       "26536              33       31    22163   6.0  26536\n",
       "\n",
       "[26537 rows x 5 columns]"
      ]
     },
     "execution_count": 31,
     "metadata": {},
     "output_type": "execute_result"
    }
   ],
   "source": [
    "# từ tập trên ta rút ra tập dữ liệu với các tháng ,tên shop , tên sản phẩm và số sản phẩm bán ra \n",
    "sales_forecast = monthly_df.item_cnt_day.apply(list).reset_index()\n",
    "sales_forecast[\"id\"]=pd.DataFrame(sales_forecast.index)\n",
    "sales_forecast"
   ]
  },
  {
   "cell_type": "code",
   "execution_count": 32,
   "metadata": {
    "colab": {
     "base_uri": "https://localhost:8080/",
     "height": 423
    },
    "executionInfo": {
     "elapsed": 40,
     "status": "ok",
     "timestamp": 1662472003916,
     "user": {
      "displayName": "Hùng Vũ",
      "userId": "15544968674983004342"
     },
     "user_tz": -420
    },
    "id": "VZXE8e-ak7Uy",
    "outputId": "41fa2dc6-164d-4510-d714-a03334dcc497"
   },
   "outputs": [
    {
     "data": {
      "text/html": [
       "<div>\n",
       "<style scoped>\n",
       "    .dataframe tbody tr th:only-of-type {\n",
       "        vertical-align: middle;\n",
       "    }\n",
       "\n",
       "    .dataframe tbody tr th {\n",
       "        vertical-align: top;\n",
       "    }\n",
       "\n",
       "    .dataframe thead th {\n",
       "        text-align: right;\n",
       "    }\n",
       "</style>\n",
       "<table border=\"1\" class=\"dataframe\">\n",
       "  <thead>\n",
       "    <tr style=\"text-align: right;\">\n",
       "      <th></th>\n",
       "      <th>date_block_num</th>\n",
       "      <th>sum</th>\n",
       "      <th>id</th>\n",
       "    </tr>\n",
       "  </thead>\n",
       "  <tbody>\n",
       "    <tr>\n",
       "      <th>0</th>\n",
       "      <td>0</td>\n",
       "      <td>24.0</td>\n",
       "      <td>0</td>\n",
       "    </tr>\n",
       "    <tr>\n",
       "      <th>1</th>\n",
       "      <td>0</td>\n",
       "      <td>5.0</td>\n",
       "      <td>1</td>\n",
       "    </tr>\n",
       "    <tr>\n",
       "      <th>2</th>\n",
       "      <td>0</td>\n",
       "      <td>1.0</td>\n",
       "      <td>2</td>\n",
       "    </tr>\n",
       "    <tr>\n",
       "      <th>3</th>\n",
       "      <td>0</td>\n",
       "      <td>1.0</td>\n",
       "      <td>3</td>\n",
       "    </tr>\n",
       "    <tr>\n",
       "      <th>4</th>\n",
       "      <td>0</td>\n",
       "      <td>1.0</td>\n",
       "      <td>4</td>\n",
       "    </tr>\n",
       "    <tr>\n",
       "      <th>...</th>\n",
       "      <td>...</td>\n",
       "      <td>...</td>\n",
       "      <td>...</td>\n",
       "    </tr>\n",
       "    <tr>\n",
       "      <th>26532</th>\n",
       "      <td>33</td>\n",
       "      <td>1.0</td>\n",
       "      <td>26532</td>\n",
       "    </tr>\n",
       "    <tr>\n",
       "      <th>26533</th>\n",
       "      <td>33</td>\n",
       "      <td>1.0</td>\n",
       "      <td>26533</td>\n",
       "    </tr>\n",
       "    <tr>\n",
       "      <th>26534</th>\n",
       "      <td>33</td>\n",
       "      <td>1.0</td>\n",
       "      <td>26534</td>\n",
       "    </tr>\n",
       "    <tr>\n",
       "      <th>26535</th>\n",
       "      <td>33</td>\n",
       "      <td>1.0</td>\n",
       "      <td>26535</td>\n",
       "    </tr>\n",
       "    <tr>\n",
       "      <th>26536</th>\n",
       "      <td>33</td>\n",
       "      <td>6.0</td>\n",
       "      <td>26536</td>\n",
       "    </tr>\n",
       "  </tbody>\n",
       "</table>\n",
       "<p>26537 rows × 3 columns</p>\n",
       "</div>"
      ],
      "text/plain": [
       "       date_block_num   sum     id\n",
       "0                   0  24.0      0\n",
       "1                   0   5.0      1\n",
       "2                   0   1.0      2\n",
       "3                   0   1.0      3\n",
       "4                   0   1.0      4\n",
       "...               ...   ...    ...\n",
       "26532              33   1.0  26532\n",
       "26533              33   1.0  26533\n",
       "26534              33   1.0  26534\n",
       "26535              33   1.0  26535\n",
       "26536              33   6.0  26536\n",
       "\n",
       "[26537 rows x 3 columns]"
      ]
     },
     "execution_count": 32,
     "metadata": {},
     "output_type": "execute_result"
    }
   ],
   "source": [
    "#thay nan =0\n",
    "#sales_forecast.fillna(0,inplace = True)\n",
    "# xóa cột shop_id và item_id\n",
    "sales_forecast.drop(['shop_id','item_id'],inplace = True, axis = 1)\n",
    "sales_forecast"
   ]
  },
  {
   "cell_type": "code",
   "execution_count": 33,
   "metadata": {
    "colab": {
     "base_uri": "https://localhost:8080/",
     "height": 486
    },
    "executionInfo": {
     "elapsed": 39,
     "status": "ok",
     "timestamp": 1662472003917,
     "user": {
      "displayName": "Hùng Vũ",
      "userId": "15544968674983004342"
     },
     "user_tz": -420
    },
    "id": "nApwEBrDk7R4",
    "outputId": "c59126c4-1064-4bd1-e6d5-76645dfae5c7"
   },
   "outputs": [
    {
     "data": {
      "text/html": [
       "<div>\n",
       "<style scoped>\n",
       "    .dataframe tbody tr th:only-of-type {\n",
       "        vertical-align: middle;\n",
       "    }\n",
       "\n",
       "    .dataframe tbody tr th {\n",
       "        vertical-align: top;\n",
       "    }\n",
       "\n",
       "    .dataframe thead tr th {\n",
       "        text-align: left;\n",
       "    }\n",
       "\n",
       "    .dataframe thead tr:last-of-type th {\n",
       "        text-align: right;\n",
       "    }\n",
       "</style>\n",
       "<table border=\"1\" class=\"dataframe\">\n",
       "  <thead>\n",
       "    <tr>\n",
       "      <th></th>\n",
       "      <th colspan=\"21\" halign=\"left\">sum</th>\n",
       "    </tr>\n",
       "    <tr>\n",
       "      <th>date_block_num</th>\n",
       "      <th>0</th>\n",
       "      <th>1</th>\n",
       "      <th>2</th>\n",
       "      <th>3</th>\n",
       "      <th>4</th>\n",
       "      <th>5</th>\n",
       "      <th>6</th>\n",
       "      <th>7</th>\n",
       "      <th>8</th>\n",
       "      <th>9</th>\n",
       "      <th>...</th>\n",
       "      <th>24</th>\n",
       "      <th>25</th>\n",
       "      <th>26</th>\n",
       "      <th>27</th>\n",
       "      <th>28</th>\n",
       "      <th>29</th>\n",
       "      <th>30</th>\n",
       "      <th>31</th>\n",
       "      <th>32</th>\n",
       "      <th>33</th>\n",
       "    </tr>\n",
       "    <tr>\n",
       "      <th>id</th>\n",
       "      <th></th>\n",
       "      <th></th>\n",
       "      <th></th>\n",
       "      <th></th>\n",
       "      <th></th>\n",
       "      <th></th>\n",
       "      <th></th>\n",
       "      <th></th>\n",
       "      <th></th>\n",
       "      <th></th>\n",
       "      <th></th>\n",
       "      <th></th>\n",
       "      <th></th>\n",
       "      <th></th>\n",
       "      <th></th>\n",
       "      <th></th>\n",
       "      <th></th>\n",
       "      <th></th>\n",
       "      <th></th>\n",
       "      <th></th>\n",
       "      <th></th>\n",
       "    </tr>\n",
       "  </thead>\n",
       "  <tbody>\n",
       "    <tr>\n",
       "      <th>0</th>\n",
       "      <td>24</td>\n",
       "      <td>0</td>\n",
       "      <td>0</td>\n",
       "      <td>0</td>\n",
       "      <td>0</td>\n",
       "      <td>0</td>\n",
       "      <td>0</td>\n",
       "      <td>0</td>\n",
       "      <td>0</td>\n",
       "      <td>0</td>\n",
       "      <td>...</td>\n",
       "      <td>0</td>\n",
       "      <td>0</td>\n",
       "      <td>0</td>\n",
       "      <td>0</td>\n",
       "      <td>0</td>\n",
       "      <td>0</td>\n",
       "      <td>0</td>\n",
       "      <td>0</td>\n",
       "      <td>0</td>\n",
       "      <td>0</td>\n",
       "    </tr>\n",
       "    <tr>\n",
       "      <th>1</th>\n",
       "      <td>5</td>\n",
       "      <td>0</td>\n",
       "      <td>0</td>\n",
       "      <td>0</td>\n",
       "      <td>0</td>\n",
       "      <td>0</td>\n",
       "      <td>0</td>\n",
       "      <td>0</td>\n",
       "      <td>0</td>\n",
       "      <td>0</td>\n",
       "      <td>...</td>\n",
       "      <td>0</td>\n",
       "      <td>0</td>\n",
       "      <td>0</td>\n",
       "      <td>0</td>\n",
       "      <td>0</td>\n",
       "      <td>0</td>\n",
       "      <td>0</td>\n",
       "      <td>0</td>\n",
       "      <td>0</td>\n",
       "      <td>0</td>\n",
       "    </tr>\n",
       "    <tr>\n",
       "      <th>2</th>\n",
       "      <td>1</td>\n",
       "      <td>0</td>\n",
       "      <td>0</td>\n",
       "      <td>0</td>\n",
       "      <td>0</td>\n",
       "      <td>0</td>\n",
       "      <td>0</td>\n",
       "      <td>0</td>\n",
       "      <td>0</td>\n",
       "      <td>0</td>\n",
       "      <td>...</td>\n",
       "      <td>0</td>\n",
       "      <td>0</td>\n",
       "      <td>0</td>\n",
       "      <td>0</td>\n",
       "      <td>0</td>\n",
       "      <td>0</td>\n",
       "      <td>0</td>\n",
       "      <td>0</td>\n",
       "      <td>0</td>\n",
       "      <td>0</td>\n",
       "    </tr>\n",
       "    <tr>\n",
       "      <th>3</th>\n",
       "      <td>1</td>\n",
       "      <td>0</td>\n",
       "      <td>0</td>\n",
       "      <td>0</td>\n",
       "      <td>0</td>\n",
       "      <td>0</td>\n",
       "      <td>0</td>\n",
       "      <td>0</td>\n",
       "      <td>0</td>\n",
       "      <td>0</td>\n",
       "      <td>...</td>\n",
       "      <td>0</td>\n",
       "      <td>0</td>\n",
       "      <td>0</td>\n",
       "      <td>0</td>\n",
       "      <td>0</td>\n",
       "      <td>0</td>\n",
       "      <td>0</td>\n",
       "      <td>0</td>\n",
       "      <td>0</td>\n",
       "      <td>0</td>\n",
       "    </tr>\n",
       "    <tr>\n",
       "      <th>4</th>\n",
       "      <td>1</td>\n",
       "      <td>0</td>\n",
       "      <td>0</td>\n",
       "      <td>0</td>\n",
       "      <td>0</td>\n",
       "      <td>0</td>\n",
       "      <td>0</td>\n",
       "      <td>0</td>\n",
       "      <td>0</td>\n",
       "      <td>0</td>\n",
       "      <td>...</td>\n",
       "      <td>0</td>\n",
       "      <td>0</td>\n",
       "      <td>0</td>\n",
       "      <td>0</td>\n",
       "      <td>0</td>\n",
       "      <td>0</td>\n",
       "      <td>0</td>\n",
       "      <td>0</td>\n",
       "      <td>0</td>\n",
       "      <td>0</td>\n",
       "    </tr>\n",
       "    <tr>\n",
       "      <th>...</th>\n",
       "      <td>...</td>\n",
       "      <td>...</td>\n",
       "      <td>...</td>\n",
       "      <td>...</td>\n",
       "      <td>...</td>\n",
       "      <td>...</td>\n",
       "      <td>...</td>\n",
       "      <td>...</td>\n",
       "      <td>...</td>\n",
       "      <td>...</td>\n",
       "      <td>...</td>\n",
       "      <td>...</td>\n",
       "      <td>...</td>\n",
       "      <td>...</td>\n",
       "      <td>...</td>\n",
       "      <td>...</td>\n",
       "      <td>...</td>\n",
       "      <td>...</td>\n",
       "      <td>...</td>\n",
       "      <td>...</td>\n",
       "      <td>...</td>\n",
       "    </tr>\n",
       "    <tr>\n",
       "      <th>26532</th>\n",
       "      <td>0</td>\n",
       "      <td>0</td>\n",
       "      <td>0</td>\n",
       "      <td>0</td>\n",
       "      <td>0</td>\n",
       "      <td>0</td>\n",
       "      <td>0</td>\n",
       "      <td>0</td>\n",
       "      <td>0</td>\n",
       "      <td>0</td>\n",
       "      <td>...</td>\n",
       "      <td>0</td>\n",
       "      <td>0</td>\n",
       "      <td>0</td>\n",
       "      <td>0</td>\n",
       "      <td>0</td>\n",
       "      <td>0</td>\n",
       "      <td>0</td>\n",
       "      <td>0</td>\n",
       "      <td>0</td>\n",
       "      <td>1</td>\n",
       "    </tr>\n",
       "    <tr>\n",
       "      <th>26533</th>\n",
       "      <td>0</td>\n",
       "      <td>0</td>\n",
       "      <td>0</td>\n",
       "      <td>0</td>\n",
       "      <td>0</td>\n",
       "      <td>0</td>\n",
       "      <td>0</td>\n",
       "      <td>0</td>\n",
       "      <td>0</td>\n",
       "      <td>0</td>\n",
       "      <td>...</td>\n",
       "      <td>0</td>\n",
       "      <td>0</td>\n",
       "      <td>0</td>\n",
       "      <td>0</td>\n",
       "      <td>0</td>\n",
       "      <td>0</td>\n",
       "      <td>0</td>\n",
       "      <td>0</td>\n",
       "      <td>0</td>\n",
       "      <td>1</td>\n",
       "    </tr>\n",
       "    <tr>\n",
       "      <th>26534</th>\n",
       "      <td>0</td>\n",
       "      <td>0</td>\n",
       "      <td>0</td>\n",
       "      <td>0</td>\n",
       "      <td>0</td>\n",
       "      <td>0</td>\n",
       "      <td>0</td>\n",
       "      <td>0</td>\n",
       "      <td>0</td>\n",
       "      <td>0</td>\n",
       "      <td>...</td>\n",
       "      <td>0</td>\n",
       "      <td>0</td>\n",
       "      <td>0</td>\n",
       "      <td>0</td>\n",
       "      <td>0</td>\n",
       "      <td>0</td>\n",
       "      <td>0</td>\n",
       "      <td>0</td>\n",
       "      <td>0</td>\n",
       "      <td>1</td>\n",
       "    </tr>\n",
       "    <tr>\n",
       "      <th>26535</th>\n",
       "      <td>0</td>\n",
       "      <td>0</td>\n",
       "      <td>0</td>\n",
       "      <td>0</td>\n",
       "      <td>0</td>\n",
       "      <td>0</td>\n",
       "      <td>0</td>\n",
       "      <td>0</td>\n",
       "      <td>0</td>\n",
       "      <td>0</td>\n",
       "      <td>...</td>\n",
       "      <td>0</td>\n",
       "      <td>0</td>\n",
       "      <td>0</td>\n",
       "      <td>0</td>\n",
       "      <td>0</td>\n",
       "      <td>0</td>\n",
       "      <td>0</td>\n",
       "      <td>0</td>\n",
       "      <td>0</td>\n",
       "      <td>1</td>\n",
       "    </tr>\n",
       "    <tr>\n",
       "      <th>26536</th>\n",
       "      <td>0</td>\n",
       "      <td>0</td>\n",
       "      <td>0</td>\n",
       "      <td>0</td>\n",
       "      <td>0</td>\n",
       "      <td>0</td>\n",
       "      <td>0</td>\n",
       "      <td>0</td>\n",
       "      <td>0</td>\n",
       "      <td>0</td>\n",
       "      <td>...</td>\n",
       "      <td>0</td>\n",
       "      <td>0</td>\n",
       "      <td>0</td>\n",
       "      <td>0</td>\n",
       "      <td>0</td>\n",
       "      <td>0</td>\n",
       "      <td>0</td>\n",
       "      <td>0</td>\n",
       "      <td>0</td>\n",
       "      <td>6</td>\n",
       "    </tr>\n",
       "  </tbody>\n",
       "</table>\n",
       "<p>26537 rows × 34 columns</p>\n",
       "</div>"
      ],
      "text/plain": [
       "               sum                             ...                             \\\n",
       "date_block_num  0  1  2  3  4  5  6  7  8  9   ... 24 25 26 27 28 29 30 31 32   \n",
       "id                                             ...                              \n",
       "0               24  0  0  0  0  0  0  0  0  0  ...  0  0  0  0  0  0  0  0  0   \n",
       "1                5  0  0  0  0  0  0  0  0  0  ...  0  0  0  0  0  0  0  0  0   \n",
       "2                1  0  0  0  0  0  0  0  0  0  ...  0  0  0  0  0  0  0  0  0   \n",
       "3                1  0  0  0  0  0  0  0  0  0  ...  0  0  0  0  0  0  0  0  0   \n",
       "4                1  0  0  0  0  0  0  0  0  0  ...  0  0  0  0  0  0  0  0  0   \n",
       "...             .. .. .. .. .. .. .. .. .. ..  ... .. .. .. .. .. .. .. .. ..   \n",
       "26532            0  0  0  0  0  0  0  0  0  0  ...  0  0  0  0  0  0  0  0  0   \n",
       "26533            0  0  0  0  0  0  0  0  0  0  ...  0  0  0  0  0  0  0  0  0   \n",
       "26534            0  0  0  0  0  0  0  0  0  0  ...  0  0  0  0  0  0  0  0  0   \n",
       "26535            0  0  0  0  0  0  0  0  0  0  ...  0  0  0  0  0  0  0  0  0   \n",
       "26536            0  0  0  0  0  0  0  0  0  0  ...  0  0  0  0  0  0  0  0  0   \n",
       "\n",
       "                   \n",
       "date_block_num 33  \n",
       "id                 \n",
       "0               0  \n",
       "1               0  \n",
       "2               0  \n",
       "3               0  \n",
       "4               0  \n",
       "...            ..  \n",
       "26532           1  \n",
       "26533           1  \n",
       "26534           1  \n",
       "26535           1  \n",
       "26536           6  \n",
       "\n",
       "[26537 rows x 34 columns]"
      ]
     },
     "execution_count": 33,
     "metadata": {},
     "output_type": "execute_result"
    }
   ],
   "source": [
    "# tạo bảng dữ liệu với  id và date_block_num với các mục là sản phẩm bán được.\n",
    "pivoted_sales = sales_forecast.pivot_table(index=\"id\",columns='date_block_num',fill_value = 0,aggfunc='sum')\n",
    "pivoted_sales"
   ]
  },
  {
   "cell_type": "code",
   "execution_count": 34,
   "metadata": {
    "executionInfo": {
     "elapsed": 37,
     "status": "ok",
     "timestamp": 1662472003918,
     "user": {
      "displayName": "Hùng Vũ",
      "userId": "15544968674983004342"
     },
     "user_tz": -420
    },
    "id": "q0IF-qTtlC5q"
   },
   "outputs": [],
   "source": [
    "#tách tập train và test\n",
    "X_train = np.expand_dims(pivoted_sales.values[:,:-1],axis = 2)\n",
    "y_train = pivoted_sales.values[:,-1:]\n",
    "X_test = np.expand_dims(pivoted_sales.values[:,1:],axis = 2)\n",
    "\n",
    "#X_train = pivoted_sales.values[:,:-1]\n",
    "#y_train = pivoted_sales.values[:,-1:]\n",
    "#X_test = pivoted_sales.values[:,1:]"
   ]
  },
  {
   "cell_type": "code",
   "execution_count": 35,
   "metadata": {
    "id": "m3Ckc-6qB8jD"
   },
   "outputs": [],
   "source": [
    "#X_train"
   ]
  },
  {
   "cell_type": "markdown",
   "metadata": {
    "id": "uqWpiEidEDV2"
   },
   "source": [
    "# Xây dựng mạng nơ-ron"
   ]
  },
  {
   "cell_type": "markdown",
   "metadata": {
    "id": "OG13UCxfDrhY"
   },
   "source": [
    "<h2> LSTM là gì </h2>"
   ]
  },
  {
   "cell_type": "code",
   "execution_count": 36,
   "metadata": {
    "id": "veyUjTChlWe2"
   },
   "outputs": [],
   "source": [
    "# import thư viện\n",
    "from keras.models import Sequential\n",
    "from keras.layers import LSTM,Dense,Dropout,Bidirectional,Embedding\n",
    "from keras.models import load_model, Model"
   ]
  },
  {
   "cell_type": "code",
   "execution_count": 37,
   "metadata": {
    "id": "yiYT2X-RlIcq"
   },
   "outputs": [
    {
     "name": "stdout",
     "output_type": "stream",
     "text": [
      "Model: \"sequential\"\n",
      "_________________________________________________________________\n",
      " Layer (type)                Output Shape              Param #   \n",
      "=================================================================\n",
      " lstm (LSTM)                 (None, 64)                16896     \n",
      "                                                                 \n",
      " dropout (Dropout)           (None, 64)                0         \n",
      "                                                                 \n",
      " dense (Dense)               (None, 16)                1040      \n",
      "                                                                 \n",
      "=================================================================\n",
      "Total params: 17,936\n",
      "Trainable params: 17,936\n",
      "Non-trainable params: 0\n",
      "_________________________________________________________________\n"
     ]
    }
   ],
   "source": [
    "# Xây dựng mạng nơ-ron đơn giản\n",
    "model_lstm = Sequential()\n",
    "#Xây dungje lớp mạng nơ-ron LSTM với số chiều là 64\n",
    "model_lstm.add(LSTM(64,input_shape =(33,1)))\n",
    "# dropout trách việc học tủ của mạng \n",
    "model_lstm.add(Dropout(0.2))\n",
    "model_lstm.add(Dense(16))\n",
    "\n",
    "model_lstm.compile(loss = 'mse', metrics = ['mean_squared_error'])\n",
    "model_lstm.summary()"
   ]
  },
  {
   "cell_type": "code",
   "execution_count": 38,
   "metadata": {
    "id": "azllZgT7lKaQ"
   },
   "outputs": [
    {
     "name": "stdout",
     "output_type": "stream",
     "text": [
      "Epoch 1/2\n",
      "7/7 [==============================] - 7s 554ms/step - loss: 0.3227 - mean_squared_error: 0.3227\n",
      "Epoch 2/2\n",
      "7/7 [==============================] - 4s 548ms/step - loss: 0.3187 - mean_squared_error: 0.3187\n"
     ]
    },
    {
     "data": {
      "text/plain": [
       "<keras.callbacks.History at 0x14bd1a97490>"
      ]
     },
     "execution_count": 38,
     "metadata": {},
     "output_type": "execute_result"
    }
   ],
   "source": [
    "\n",
    "model_lstm.fit(X_train,y_train, batch_size = 4096,epochs = 2)"
   ]
  },
  {
   "cell_type": "markdown",
   "metadata": {
    "id": "vzzPM3BAEJVe"
   },
   "source": [
    "# Tinh chỉnh tham số "
   ]
  },
  {
   "cell_type": "code",
   "execution_count": 39,
   "metadata": {
    "id": "pgchjxF-33iq"
   },
   "outputs": [
    {
     "name": "stdout",
     "output_type": "stream",
     "text": [
      "Model: \"sequential_1\"\n",
      "_________________________________________________________________\n",
      " Layer (type)                Output Shape              Param #   \n",
      "=================================================================\n",
      " lstm_1 (LSTM)               (None, 33, 64)            16896     \n",
      "                                                                 \n",
      " lstm_2 (LSTM)               (None, 32)                12416     \n",
      "                                                                 \n",
      " dropout_1 (Dropout)         (None, 32)                0         \n",
      "                                                                 \n",
      " dense_1 (Dense)             (None, 16)                528       \n",
      "                                                                 \n",
      " dense_2 (Dense)             (None, 1)                 17        \n",
      "                                                                 \n",
      "=================================================================\n",
      "Total params: 29,857\n",
      "Trainable params: 29,857\n",
      "Non-trainable params: 0\n",
      "_________________________________________________________________\n"
     ]
    }
   ],
   "source": [
    "# Xây dựng mạng nơ-ron đơn giản\n",
    "model_lstm1 = Sequential()\n",
    "#Xây dựng lớp mạng nơ-ron LSTM với số chiều là 64\n",
    "model_lstm1.add(LSTM(64,return_sequences=True,input_shape =(33,1)))\n",
    "#Xây dựng lớp mạng nơ-ron LSTM với số chiều là 32\n",
    "model_lstm1.add(LSTM(32))\n",
    "# dropout trách việc học tủ của mạng \n",
    "model_lstm1.add(Dropout(0.2))\n",
    "# đầu ra của mạng sẽ là 16\n",
    "model_lstm1.add(Dense(16))\n",
    "# đầu ra của mạng sẽ là 1\n",
    "model_lstm1.add(Dense(1))\n",
    "\n",
    "# trả về kết quả xây dụng ,tính toán mạng nơ-ron\n",
    "model_lstm1.compile(loss = 'mse', metrics = [['acc'],['mean_squared_error']])\n",
    "# thông tin của mạng.\n",
    "model_lstm1.summary()"
   ]
  },
  {
   "cell_type": "code",
   "execution_count": 40,
   "metadata": {
    "id": "hjDVsE13DXcj",
    "scrolled": true
   },
   "outputs": [
    {
     "name": "stdout",
     "output_type": "stream",
     "text": [
      "Epoch 1/2\n",
      "7/7 [==============================] - 12s 1s/step - loss: 0.3216 - acc: 0.9804 - mean_squared_error: 0.3216\n",
      "Epoch 2/2\n",
      "7/7 [==============================] - 7s 961ms/step - loss: 0.3181 - acc: 0.9804 - mean_squared_error: 0.3181\n"
     ]
    },
    {
     "data": {
      "text/plain": [
       "<keras.callbacks.History at 0x14bd4e6b280>"
      ]
     },
     "execution_count": 40,
     "metadata": {},
     "output_type": "execute_result"
    }
   ],
   "source": [
    "model_lstm1.fit(X_train,y_train, batch_size = 4096,epochs = 2)"
   ]
  },
  {
   "cell_type": "code",
   "execution_count": null,
   "metadata": {
    "id": "Por7cOe89EoO"
   },
   "outputs": [],
   "source": []
  },
  {
   "cell_type": "markdown",
   "metadata": {
    "id": "77m6N51PETtP"
   },
   "source": [
    "<h3> Tăng số chiều của thuật toán </h3>"
   ]
  },
  {
   "cell_type": "code",
   "execution_count": 41,
   "metadata": {
    "id": "6E_Q_gJ49Elv",
    "scrolled": true
   },
   "outputs": [
    {
     "name": "stdout",
     "output_type": "stream",
     "text": [
      "Model: \"sequential_2\"\n",
      "_________________________________________________________________\n",
      " Layer (type)                Output Shape              Param #   \n",
      "=================================================================\n",
      " lstm_3 (LSTM)               (None, 33, 128)           66560     \n",
      "                                                                 \n",
      " lstm_4 (LSTM)               (None, 64)                49408     \n",
      "                                                                 \n",
      " dropout_2 (Dropout)         (None, 64)                0         \n",
      "                                                                 \n",
      " dense_3 (Dense)             (None, 16)                1040      \n",
      "                                                                 \n",
      " dense_4 (Dense)             (None, 1)                 17        \n",
      "                                                                 \n",
      "=================================================================\n",
      "Total params: 117,025\n",
      "Trainable params: 117,025\n",
      "Non-trainable params: 0\n",
      "_________________________________________________________________\n"
     ]
    }
   ],
   "source": [
    "# Xây dựng mạng nơ-ron đơn giản\n",
    "model_lstm2 = Sequential()\n",
    "#Xây dựng lớp mạng nơ-ron LSTM với số chiều là 128\n",
    "model_lstm2.add(LSTM(128,return_sequences=True,input_shape =(33,1)))\n",
    "#Xây dựng lớp mạng nơ-ron LSTM với số chiều là 64\n",
    "model_lstm2.add(LSTM(64))\n",
    "# dropout trách việc học tủ của mạng \n",
    "model_lstm2.add(Dropout(0.2))\n",
    "model_lstm2.add(Dense(16))\n",
    "model_lstm2.add(Dense(1))\n",
    "\n",
    "model_lstm2.compile(loss = 'mse', metrics = [['acc'],['mean_squared_error']])\n",
    "model_lstm2.summary()"
   ]
  },
  {
   "cell_type": "code",
   "execution_count": 42,
   "metadata": {
    "id": "Hw3fzWqo9EjO"
   },
   "outputs": [
    {
     "name": "stdout",
     "output_type": "stream",
     "text": [
      "Epoch 1/2\n",
      "7/7 [==============================] - 20s 2s/step - loss: 0.3238 - acc: 0.9797 - mean_squared_error: 0.3238\n",
      "Epoch 2/2\n",
      "7/7 [==============================] - 17s 2s/step - loss: 0.3195 - acc: 0.9804 - mean_squared_error: 0.3195\n"
     ]
    },
    {
     "data": {
      "text/plain": [
       "<keras.callbacks.History at 0x14b9b39c8e0>"
      ]
     },
     "execution_count": 42,
     "metadata": {},
     "output_type": "execute_result"
    }
   ],
   "source": [
    "model_lstm2.fit(X_train,y_train, batch_size = 4096,epochs = 2)"
   ]
  },
  {
   "cell_type": "code",
   "execution_count": null,
   "metadata": {
    "id": "3XBEfKMEEzY3"
   },
   "outputs": [],
   "source": []
  },
  {
   "cell_type": "markdown",
   "metadata": {
    "id": "2LvjN5qkEkWa"
   },
   "source": [
    "<h2> Sử dụng trình tối ưu hóa cho mạng </h2>"
   ]
  },
  {
   "cell_type": "code",
   "execution_count": 43,
   "metadata": {
    "id": "M0zPmFws-pYY"
   },
   "outputs": [],
   "source": [
    "from tensorflow.keras.optimizers import Adam\n",
    "from tensorflow.keras.optimizers import Adagrad\n",
    "from tensorflow.keras.optimizers import RMSprop\n",
    "from tensorflow.keras.optimizers import Adadelta\n",
    "from tensorflow.keras.optimizers import Adamax\n",
    "from tensorflow.keras.optimizers import Nadam\n",
    "from tensorflow.keras.optimizers import Ftrl\n",
    "from tensorflow.keras.optimizers import SGD"
   ]
  },
  {
   "cell_type": "markdown",
   "metadata": {
    "id": "FlkgLb5W_ZRQ"
   },
   "source": [
    "Adadelta: Trình tối ưu hóa triển khai thuật toán Adadelta.<p>\n",
    "Adagrad: Trình tối ưu hóa triển khai thuật toán Adagrad.<p>\n",
    "Adam: Trình tối ưu hóa thực hiện thuật toán Adam.<p>\n",
    "Adamax: Trình tối ưu hóa triển khai thuật toán Adamax.<p>\n",
    "Ftrl: Trình tối ưu hóa triển khai thuật toán FTRL.<p>\n",
    "Nadam: Trình tối ưu hóa triển khai thuật toán NAdam.<p>\n",
    "Lớp trình tối ưu hóa: Lớp cơ sở cho các trình tối ưu hóa Keras.<p>\n",
    "RMSprop: Trình tối ưu hóa triển khai thuật toán RMSprop.<p>\n",
    "SGD: Trình tối ưu hóa dốc xuống (có xung lượng).<p>"
   ]
  },
  {
   "cell_type": "code",
   "execution_count": 44,
   "metadata": {
    "id": "aLAPacvXlWc3"
   },
   "outputs": [],
   "source": [
    "#adam =Adam(learning_rate=0.001, beta_1=0.9, beta_2=0.999, epsilon=1e-07, amsgrad=False,name='Adam')\n",
    "#model_lstm2.compile(loss = 'mse',optimizer = adam, metrics = ['mean_squared_error'])\n",
    "#model_lstm2.summary()"
   ]
  },
  {
   "cell_type": "code",
   "execution_count": 45,
   "metadata": {
    "id": "71SNDDz5ALGS"
   },
   "outputs": [],
   "source": [
    "#Adagrad1 = Adagrad(learning_rate=0.001,initial_accumulator_value=0.1,epsilon=1e-07,name=\"Adagrad\")\n",
    "#model_lstm2.compile(loss = 'mse',optimizer = Adagrad1, metrics = ['mean_squared_error'])\n",
    "#model_lstm2.summary()"
   ]
  },
  {
   "cell_type": "code",
   "execution_count": 46,
   "metadata": {
    "id": "VJIrAZPsALBH"
   },
   "outputs": [],
   "source": [
    "#RMSprop1= RMSprop(learning_rate=0.001,rho=0.9, momentum=0.0, epsilon=1e-07, centered=False, name='RMSprop')\n",
    "#model_lstm2.compile(loss = 'mse',optimizer = RMSprop1, metrics = ['mean_squared_error'])\n",
    "#model_lstm2.summary()"
   ]
  },
  {
   "cell_type": "code",
   "execution_count": 47,
   "metadata": {
    "id": "jdlNwLs_AK8K"
   },
   "outputs": [],
   "source": [
    "#Adadelta1=Adadelta(learning_rate=0.001, rho=0.95, epsilon=1e-07, name='Adadelta')\n",
    "#model_lstm2.compile(loss = 'mse',optimizer = Adadelta1, metrics = ['mean_squared_error'])\n",
    "#model_lstm2.summary()"
   ]
  },
  {
   "cell_type": "code",
   "execution_count": 48,
   "metadata": {
    "id": "GGQojJU9AK3-"
   },
   "outputs": [],
   "source": [
    "#Adamax1=Adamax(learning_rate=0.001, beta_1=0.9, beta_2=0.999, epsilon=1e-07,name='Adamax')\n",
    "#model_lstm2.compile(loss = 'mse',optimizer = Adamax1, metrics = ['mean_squared_error'])\n",
    "#model_lstm2.summary()"
   ]
  },
  {
   "cell_type": "code",
   "execution_count": 49,
   "metadata": {
    "id": "h9PWW6dhAKzS"
   },
   "outputs": [],
   "source": [
    "#Nadam1=Nadam(learning_rate=0.001, beta_1=0.9, beta_2=0.999, epsilon=1e-07,name='Nadam')\n",
    "#model_lstm2.compile(loss = 'mse',optimizer = Nadam1, metrics = ['mean_squared_error'])\n",
    "#model_lstm2.summary()"
   ]
  },
  {
   "cell_type": "code",
   "execution_count": 50,
   "metadata": {
    "id": "neuEhi2EAKvG"
   },
   "outputs": [],
   "source": [
    "#Ftrl1=Ftrl(learning_rate=0.001,learning_rate_power=-0.5,initial_accumulator_value=0.1,\n",
    "#     l1_regularization_strength=0.0,l2_regularization_strength=0.0,name=\"Ftrl\",\n",
    "#     l2_shrinkage_regularization_strength=0.0,beta=0.0,)\n",
    "#model_lstm2.compile(loss = 'mse',optimizer = Ftrl1, metrics = ['mean_squared_error'])\n",
    "#model_lstm2.summary()"
   ]
  },
  {
   "cell_type": "code",
   "execution_count": 51,
   "metadata": {
    "id": "8KsYgUNIAKq3"
   },
   "outputs": [],
   "source": [
    "#SGD1=SGD(learning_rate=0.01,  momentum=0.0,  nesterov=False,  name=\"SGD\", )\n",
    "#model_lstm2.compile(loss = 'mse',optimizer = SGD1, metrics = ['mean_squared_error'])\n",
    "#model_lstm2.summary()"
   ]
  },
  {
   "cell_type": "code",
   "execution_count": null,
   "metadata": {
    "id": "LKhVjuS6Xv-Z"
   },
   "outputs": [],
   "source": []
  },
  {
   "cell_type": "markdown",
   "metadata": {
    "id": "8BR59NTcFJJq"
   },
   "source": [
    "# Mạng nơ-ron LSTM trong dự đoán"
   ]
  },
  {
   "cell_type": "code",
   "execution_count": 52,
   "metadata": {
    "id": "OrFcI-0dTVoB",
    "scrolled": true
   },
   "outputs": [
    {
     "name": "stdout",
     "output_type": "stream",
     "text": [
      "Model: \"sequential_3\"\n",
      "_________________________________________________________________\n",
      " Layer (type)                Output Shape              Param #   \n",
      "=================================================================\n",
      " lstm_5 (LSTM)               (None, 33, 128)           66560     \n",
      "                                                                 \n",
      " lstm_6 (LSTM)               (None, 64)                49408     \n",
      "                                                                 \n",
      " dropout_3 (Dropout)         (None, 64)                0         \n",
      "                                                                 \n",
      " dense_5 (Dense)             (None, 16)                1040      \n",
      "                                                                 \n",
      " dense_6 (Dense)             (None, 1)                 17        \n",
      "                                                                 \n",
      "=================================================================\n",
      "Total params: 117,025\n",
      "Trainable params: 117,025\n",
      "Non-trainable params: 0\n",
      "_________________________________________________________________\n"
     ]
    }
   ],
   "source": [
    "# Xây dựng mạng nơ-ron đơn giản\n",
    "model_lstm3 = Sequential()\n",
    "#Xây dựng lớp mạng nơ-ron LSTM với số chiều là 64\n",
    "model_lstm3.add(LSTM(128,return_sequences=True,input_shape =(33,1)))\n",
    "model_lstm3.add(LSTM(64))\n",
    "# dropout trách việc học tủ của mạng \n",
    "model_lstm3.add(Dropout(0.2))\n",
    "model_lstm3.add(Dense(16))\n",
    "model_lstm3.add(Dense(1))\n",
    "\n",
    "adam =Adam(learning_rate=0.001, beta_1=0.9, beta_2=0.999, epsilon=1e-07, amsgrad=False,name='Adam')\n",
    "model_lstm3.compile(loss = 'mse',optimizer = adam, metrics = ['mean_squared_error'])\n",
    "model_lstm3.summary()"
   ]
  },
  {
   "cell_type": "code",
   "execution_count": 54,
   "metadata": {
    "id": "B6Lli3a4UD3p",
    "scrolled": true
   },
   "outputs": [
    {
     "name": "stdout",
     "output_type": "stream",
     "text": [
      "Epoch 1/20\n",
      "830/830 [==============================] - 33s 40ms/step - loss: 0.1969 - mean_squared_error: 0.1969\n",
      "Epoch 2/20\n",
      "830/830 [==============================] - 35s 42ms/step - loss: 0.1955 - mean_squared_error: 0.1955\n",
      "Epoch 3/20\n",
      "830/830 [==============================] - 33s 40ms/step - loss: 0.1971 - mean_squared_error: 0.1971\n",
      "Epoch 4/20\n",
      "830/830 [==============================] - 33s 39ms/step - loss: 0.1964 - mean_squared_error: 0.1964\n",
      "Epoch 5/20\n",
      "830/830 [==============================] - 33s 40ms/step - loss: 0.1987 - mean_squared_error: 0.1987\n",
      "Epoch 6/20\n",
      "830/830 [==============================] - 35s 42ms/step - loss: 0.1975 - mean_squared_error: 0.1975\n",
      "Epoch 7/20\n",
      "830/830 [==============================] - 35s 42ms/step - loss: 0.1946 - mean_squared_error: 0.1946\n",
      "Epoch 8/20\n",
      "830/830 [==============================] - 35s 42ms/step - loss: 0.1955 - mean_squared_error: 0.1955\n",
      "Epoch 9/20\n",
      "830/830 [==============================] - 34s 41ms/step - loss: 0.1987 - mean_squared_error: 0.1987\n",
      "Epoch 10/20\n",
      "830/830 [==============================] - 35s 42ms/step - loss: 0.1958 - mean_squared_error: 0.1958\n",
      "Epoch 11/20\n",
      "830/830 [==============================] - 35s 43ms/step - loss: 0.1964 - mean_squared_error: 0.1964\n",
      "Epoch 12/20\n",
      "830/830 [==============================] - 35s 42ms/step - loss: 0.1960 - mean_squared_error: 0.1960\n",
      "Epoch 13/20\n",
      "830/830 [==============================] - 34s 41ms/step - loss: 0.1986 - mean_squared_error: 0.1986\n",
      "Epoch 14/20\n",
      "830/830 [==============================] - 35s 42ms/step - loss: 0.1954 - mean_squared_error: 0.1954\n",
      "Epoch 15/20\n",
      "830/830 [==============================] - 37s 44ms/step - loss: 0.1957 - mean_squared_error: 0.1957\n",
      "Epoch 16/20\n",
      "830/830 [==============================] - 34s 42ms/step - loss: 0.1953 - mean_squared_error: 0.1953\n",
      "Epoch 17/20\n",
      "830/830 [==============================] - 35s 42ms/step - loss: 0.1946 - mean_squared_error: 0.1946\n",
      "Epoch 18/20\n",
      "830/830 [==============================] - 35s 42ms/step - loss: 0.1964 - mean_squared_error: 0.1964\n",
      "Epoch 19/20\n",
      "830/830 [==============================] - 36s 44ms/step - loss: 0.1926 - mean_squared_error: 0.1926\n",
      "Epoch 20/20\n",
      "830/830 [==============================] - 35s 43ms/step - loss: 0.1947 - mean_squared_error: 0.1947\n"
     ]
    }
   ],
   "source": [
    "lstm_model = model_lstm3.fit(X_train,y_train,epochs = 20)"
   ]
  },
  {
   "cell_type": "code",
   "execution_count": 55,
   "metadata": {
    "id": "zSCgGUgmRr3K"
   },
   "outputs": [],
   "source": [
    "# đặt biến df_his1 lấy giá lịch sử chạy của model làm data\n",
    "df_his1 = pd.DataFrame(lstm_model.history)"
   ]
  },
  {
   "cell_type": "code",
   "execution_count": 56,
   "metadata": {
    "id": "ss61EsM_Rr0K",
    "scrolled": true
   },
   "outputs": [
    {
     "name": "stderr",
     "output_type": "stream",
     "text": [
      "No artists with labels found to put in legend.  Note that artists whose label start with an underscore are ignored when legend() is called with no argument.\n"
     ]
    },
    {
     "data": {
      "image/png": "[encoded data removed]",
      "text/plain": [
       "<Figure size 720x720 with 1 Axes>"
      ]
     },
     "metadata": {},
     "output_type": "display_data"
    }
   ],
   "source": [
    "# vẽ biểu đồ chực qua hóa kết quả chạy với x là số lần chạy và y là số loss \n",
    "plt.figure(figsize = (10 , 10))\n",
    "plt.legend(loc='best')\n",
    "sns.lineplot(x= df_his1.index + 1, y = df_his1['loss'], color='r', label=\"LSTM loss\");\n"
   ]
  },
  {
   "cell_type": "code",
   "execution_count": 57,
   "metadata": {
    "id": "9yEnpVBStWbi"
   },
   "outputs": [
    {
     "name": "stdout",
     "output_type": "stream",
     "text": [
      "830/830 [==============================] - 18s 20ms/step\n"
     ]
    },
    {
     "data": {
      "text/html": [
       "<div>\n",
       "<style scoped>\n",
       "    .dataframe tbody tr th:only-of-type {\n",
       "        vertical-align: middle;\n",
       "    }\n",
       "\n",
       "    .dataframe tbody tr th {\n",
       "        vertical-align: top;\n",
       "    }\n",
       "\n",
       "    .dataframe thead th {\n",
       "        text-align: right;\n",
       "    }\n",
       "</style>\n",
       "<table border=\"1\" class=\"dataframe\">\n",
       "  <thead>\n",
       "    <tr style=\"text-align: right;\">\n",
       "      <th></th>\n",
       "      <th>ID</th>\n",
       "      <th>item_cnt_month</th>\n",
       "    </tr>\n",
       "  </thead>\n",
       "  <tbody>\n",
       "    <tr>\n",
       "      <th>0</th>\n",
       "      <td>0</td>\n",
       "      <td>2.602656</td>\n",
       "    </tr>\n",
       "    <tr>\n",
       "      <th>1</th>\n",
       "      <td>1</td>\n",
       "      <td>2.602656</td>\n",
       "    </tr>\n",
       "    <tr>\n",
       "      <th>2</th>\n",
       "      <td>2</td>\n",
       "      <td>2.602656</td>\n",
       "    </tr>\n",
       "    <tr>\n",
       "      <th>3</th>\n",
       "      <td>3</td>\n",
       "      <td>2.602656</td>\n",
       "    </tr>\n",
       "    <tr>\n",
       "      <th>4</th>\n",
       "      <td>4</td>\n",
       "      <td>2.602656</td>\n",
       "    </tr>\n",
       "  </tbody>\n",
       "</table>\n",
       "</div>"
      ],
      "text/plain": [
       "   ID  item_cnt_month\n",
       "0   0        2.602656\n",
       "1   1        2.602656\n",
       "2   2        2.602656\n",
       "3   3        2.602656\n",
       "4   4        2.602656"
      ]
     },
     "execution_count": 57,
     "metadata": {},
     "output_type": "execute_result"
    }
   ],
   "source": [
    "\n",
    "submission_output = model_lstm3.predict(X_test)\n",
    "# creating dataframe with required columns \n",
    "#submission = pd.DataFrame({'ID':test['ID'],'item_cnt_month':submission_output.ravel()}).round(0)\n",
    "submission = pd.DataFrame({'ID':pivoted_sales.index,'item_cnt_month':submission_output.ravel()})\n",
    "#submission = pd.DataFrame({'ID':sales_data_flat[\"item_id\"]})\n",
    "# creating csv file from dataframe\n",
    "#submission.to_csv('submission.csv',index = False)\n",
    "submission.to_csv('submission_stacked.csv',index = False)\n",
    "submission.head()"
   ]
  },
  {
   "cell_type": "code",
   "execution_count": 58,
   "metadata": {
    "id": "c7N_ZxQzAW_W"
   },
   "outputs": [
    {
     "data": {
      "image/png": "[encoded data removed]",
      "text/plain": [
       "<Figure size 2880x720 with 1 Axes>"
      ]
     },
     "metadata": {},
     "output_type": "display_data"
    }
   ],
   "source": [
    "#x,y\n",
    "plt.figure(figsize = (40 , 10))\n",
    "plt.plot(submission.ID,submission.item_cnt_month, color='r', label=\"LSTM loss\");"
   ]
  },
  {
   "cell_type": "code",
   "execution_count": 59,
   "metadata": {
    "id": "6zEfnwOiAZU5"
   },
   "outputs": [
    {
     "data": {
      "text/html": [
       "<div>\n",
       "<style scoped>\n",
       "    .dataframe tbody tr th:only-of-type {\n",
       "        vertical-align: middle;\n",
       "    }\n",
       "\n",
       "    .dataframe tbody tr th {\n",
       "        vertical-align: top;\n",
       "    }\n",
       "\n",
       "    .dataframe thead th {\n",
       "        text-align: right;\n",
       "    }\n",
       "</style>\n",
       "<table border=\"1\" class=\"dataframe\">\n",
       "  <thead>\n",
       "    <tr style=\"text-align: right;\">\n",
       "      <th></th>\n",
       "      <th>item_cnt_month</th>\n",
       "    </tr>\n",
       "  </thead>\n",
       "  <tbody>\n",
       "    <tr>\n",
       "      <th>0</th>\n",
       "      <td>2.602656</td>\n",
       "    </tr>\n",
       "    <tr>\n",
       "      <th>1</th>\n",
       "      <td>2.602656</td>\n",
       "    </tr>\n",
       "    <tr>\n",
       "      <th>2</th>\n",
       "      <td>2.602656</td>\n",
       "    </tr>\n",
       "    <tr>\n",
       "      <th>3</th>\n",
       "      <td>2.602656</td>\n",
       "    </tr>\n",
       "    <tr>\n",
       "      <th>4</th>\n",
       "      <td>2.602656</td>\n",
       "    </tr>\n",
       "    <tr>\n",
       "      <th>...</th>\n",
       "      <td>...</td>\n",
       "    </tr>\n",
       "    <tr>\n",
       "      <th>26532</th>\n",
       "      <td>0.016902</td>\n",
       "    </tr>\n",
       "    <tr>\n",
       "      <th>26533</th>\n",
       "      <td>0.016902</td>\n",
       "    </tr>\n",
       "    <tr>\n",
       "      <th>26534</th>\n",
       "      <td>0.016901</td>\n",
       "    </tr>\n",
       "    <tr>\n",
       "      <th>26535</th>\n",
       "      <td>0.016901</td>\n",
       "    </tr>\n",
       "    <tr>\n",
       "      <th>26536</th>\n",
       "      <td>0.017351</td>\n",
       "    </tr>\n",
       "  </tbody>\n",
       "</table>\n",
       "<p>26537 rows × 1 columns</p>\n",
       "</div>"
      ],
      "text/plain": [
       "       item_cnt_month\n",
       "0            2.602656\n",
       "1            2.602656\n",
       "2            2.602656\n",
       "3            2.602656\n",
       "4            2.602656\n",
       "...               ...\n",
       "26532        0.016902\n",
       "26533        0.016902\n",
       "26534        0.016901\n",
       "26535        0.016901\n",
       "26536        0.017351\n",
       "\n",
       "[26537 rows x 1 columns]"
      ]
     },
     "execution_count": 59,
     "metadata": {},
     "output_type": "execute_result"
    }
   ],
   "source": [
    "submission = pd.DataFrame({'item_cnt_month':submission_output.ravel()})\n",
    "submission"
   ]
  },
  {
   "cell_type": "code",
   "execution_count": null,
   "metadata": {
    "id": "ZR5ZJjpvAcTU"
   },
   "outputs": [],
   "source": []
  },
  {
   "cell_type": "code",
   "execution_count": null,
   "metadata": {},
   "outputs": [],
   "source": []
  },
  {
   "cell_type": "code",
   "execution_count": null,
   "metadata": {},
   "outputs": [],
   "source": []
  }
 ],
 "metadata": {
  "colab": {
   "authorship_tag": "ABX9TyPbgrQ4n4ie7E6RynuKI2EO",
   "collapsed_sections": [],
   "provenance": [],
   "toc_visible": true
  },
  "kernelspec": {
   "display_name": "Python 3 (ipykernel)",
   "language": "python",
   "name": "python3"
  },
  "language_info": {
   "codemirror_mode": {
    "name": "ipython",
    "version": 3
   },
   "file_extension": ".py",
   "mimetype": "text/x-python",
   "name": "python",
   "nbconvert_exporter": "python",
   "pygments_lexer": "ipython3",
   "version": "3.9.12"
  }
 },
 "nbformat": 4,
 "nbformat_minor": 1
}
